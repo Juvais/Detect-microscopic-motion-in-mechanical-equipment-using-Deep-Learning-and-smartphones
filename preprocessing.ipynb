{
  "nbformat": 4,
  "nbformat_minor": 0,
  "metadata": {
    "colab": {
      "name": "preprocessing_deepmag.ipynb",
      "provenance": [],
      "collapsed_sections": []
    },
    "kernelspec": {
      "name": "python3",
      "display_name": "Python 3"
    },
    "language_info": {
      "name": "python"
    }
  },
  "cells": [
    {
      "cell_type": "markdown",
      "source": [
        "**since the training of model consumes a lot of memory and computing power, the model is trained with just a batch size of 10 images. The magnification factor corresponding to each image should be carefully passed to the model in the right order. The below written are codes to make sure that the magnification factor is read from train_mf.txt and converted to a (1,1,1) dimensional tensor and then converted to a batch size pf 10 values. Then magnification values for each folders 10k,20k,30k.....100k are stored in separate csv files**"
      ],
      "metadata": {
        "id": "KLSpb85opHkR"
      }
    },
    {
      "cell_type": "code",
      "source": [
        "import tensorflow as tf\n",
        "import pandas as pd\n",
        "import numpy as np\n",
        "import matplotlib.pyplot as plt\n",
        "import seaborn as sns"
      ],
      "metadata": {
        "id": "nVa7FaVgqqqD"
      },
      "execution_count": null,
      "outputs": []
    },
    {
      "cell_type": "code",
      "source": [
        "from google.colab import drive\n",
        "drive.mount('/content/gdrive')"
      ],
      "metadata": {
        "colab": {
          "base_uri": "https://localhost:8080/"
        },
        "id": "qpjt696zvylK",
        "outputId": "147556d9-6c2a-4e9d-eb3a-4fc6623a3506"
      },
      "execution_count": null,
      "outputs": [
        {
          "output_type": "stream",
          "name": "stdout",
          "text": [
            "Mounted at /content/gdrive\n"
          ]
        }
      ]
    },
    {
      "cell_type": "code",
      "execution_count": null,
      "metadata": {
        "id": "OeYWMmI_nIOa"
      },
      "outputs": [],
      "source": [
        "mf = pd.read_csv('train_mf.txt',names=['mf'])"
      ]
    },
    {
      "cell_type": "code",
      "source": [
        "mf_li=[]\n",
        "for i in mf['mf']:\n",
        "  mf_li.append(tf.Variable([[[i]]]))"
      ],
      "metadata": {
        "id": "wUUKEPcxql-D"
      },
      "execution_count": null,
      "outputs": []
    },
    {
      "cell_type": "code",
      "source": [
        "# obtaining magnification factor of 10000 images we are going to train \n",
        "# the model on. the values are stacked together to form a batchsize of 10\n",
        "mf_li_10k=[]\n",
        "a =0\n",
        "b= 10\n",
        "for i in range(1000):\n",
        "  if b<10000:\n",
        "    val = tf.stack(mf_li[a:b],axis=0)\n",
        "    a+=10\n",
        "    b+=10\n",
        "  else:\n",
        "    val = tf.stack(mf_li[a:10000],axis=0)\n",
        "  mf_li_10k.append(val)\n"
      ],
      "metadata": {
        "id": "R322BpG_q5nB"
      },
      "execution_count": null,
      "outputs": []
    },
    {
      "cell_type": "code",
      "source": [
        "mf_li_20k=[]\n",
        "a =10000\n",
        "b= 10010\n",
        "for i in range(1000):\n",
        "  if b<20000:\n",
        "    val = tf.stack(mf_li[a:b],axis=0)\n",
        "    a+=10\n",
        "    b+=10\n",
        "  else:\n",
        "    val = tf.stack(mf_li[a:20000],axis=0)\n",
        "  mf_li_20k.append(val)"
      ],
      "metadata": {
        "id": "4wuzP1O7rDfH"
      },
      "execution_count": null,
      "outputs": []
    },
    {
      "cell_type": "code",
      "source": [
        "mf_li_30k=[]\n",
        "a =20000\n",
        "b= 20010\n",
        "for i in range(1000):\n",
        "  if b<30000:\n",
        "    val = tf.stack(mf_li[a:b],axis=0)\n",
        "    a+=10\n",
        "    b+=10\n",
        "  else:\n",
        "    val = tf.stack(mf_li[a:30000],axis=0)\n",
        "  mf_li_30k.append(val)"
      ],
      "metadata": {
        "id": "j3nG8dEnrfUX"
      },
      "execution_count": null,
      "outputs": []
    },
    {
      "cell_type": "code",
      "source": [
        "mf_li_40k=[]\n",
        "a =30000\n",
        "b= 30010\n",
        "for i in range(1000):\n",
        "  if b<40000:\n",
        "    val = tf.stack(mf_li[a:b],axis=0)\n",
        "    a+=10\n",
        "    b+=10\n",
        "  else:\n",
        "    val = tf.stack(mf_li[a:40000],axis=0)\n",
        "  mf_li_40k.append(val)"
      ],
      "metadata": {
        "id": "biIJP5QfrmfD"
      },
      "execution_count": null,
      "outputs": []
    },
    {
      "cell_type": "code",
      "source": [
        "mf_li_50k=[]\n",
        "a =40000\n",
        "b= 40010\n",
        "for i in range(1000):\n",
        "  if b<50000:\n",
        "    val = tf.stack(mf_li[a:b],axis=0)\n",
        "    a+=10\n",
        "    b+=10\n",
        "  else:\n",
        "    val = tf.stack(mf_li[a:50000],axis=0)\n",
        "  mf_li_50k.append(val)"
      ],
      "metadata": {
        "id": "l7xhbCtQrmwf"
      },
      "execution_count": null,
      "outputs": []
    },
    {
      "cell_type": "code",
      "source": [
        "mf_li_60k=[]\n",
        "a =50000\n",
        "b= 50010\n",
        "for i in range(1000):\n",
        "  if b<60000:\n",
        "    val = tf.stack(mf_li[a:b],axis=0)\n",
        "    a+=10\n",
        "    b+=10\n",
        "  else:\n",
        "    val = tf.stack(mf_li[a:60000],axis=0)\n",
        "  mf_li_60k.append(val)"
      ],
      "metadata": {
        "id": "tp9fHdZKrm7l"
      },
      "execution_count": null,
      "outputs": []
    },
    {
      "cell_type": "code",
      "source": [
        "mf_li_70k=[]\n",
        "a =60000\n",
        "b= 60010\n",
        "for i in range(1000):\n",
        "  if b<70000:\n",
        "    val = tf.stack(mf_li[a:b],axis=0)\n",
        "    a+=10\n",
        "    b+=10\n",
        "  else:\n",
        "    val = tf.stack(mf_li[a:70000],axis=0)\n",
        "  mf_li_70k.append(val)"
      ],
      "metadata": {
        "id": "58ce_dXtrnKj"
      },
      "execution_count": null,
      "outputs": []
    },
    {
      "cell_type": "code",
      "source": [
        "mf_li_80k=[]\n",
        "a =70000\n",
        "b= 70010\n",
        "for i in range(1000):\n",
        "  if b<80000:\n",
        "    val = tf.stack(mf_li[a:b],axis=0)\n",
        "    a+=10\n",
        "    b+=10\n",
        "  else:\n",
        "    val = tf.stack(mf_li[a:80000],axis=0)\n",
        "  mf_li_80k.append(val)"
      ],
      "metadata": {
        "id": "wkIts3vAsHkW"
      },
      "execution_count": null,
      "outputs": []
    },
    {
      "cell_type": "code",
      "source": [
        "mf_li_90k=[]\n",
        "a =80000\n",
        "b= 80010\n",
        "for i in range(1000):\n",
        "  if b<90000:\n",
        "    val = tf.stack(mf_li[a:b],axis=0)\n",
        "    a+=10\n",
        "    b+=10\n",
        "  else:\n",
        "    val = tf.stack(mf_li[a:90000],axis=0)\n",
        "  mf_li_90k.append(val)"
      ],
      "metadata": {
        "id": "_gouS4nRsQSV"
      },
      "execution_count": null,
      "outputs": []
    },
    {
      "cell_type": "code",
      "source": [
        "# obtaining magnification factor of 10000 images we are going to use as validation data. the values are stacked together to form a batchsize of 10\n",
        "# validation data is data from 100k folder\n",
        "mf_li_valid =[]\n",
        "a =90000\n",
        "b= 90010\n",
        "for i in range(1000):\n",
        "  if b<100000:\n",
        "    val = tf.stack(mf_li[a:b],axis=0)\n",
        "    a+=10\n",
        "    b+=10\n",
        "  else:\n",
        "    val = tf.stack(mf_li[a:100000],axis=0)\n",
        "  mf_li_valid.append(val)\n"
      ],
      "metadata": {
        "id": "-SHgxeiJtbAM"
      },
      "execution_count": null,
      "outputs": []
    },
    {
      "cell_type": "code",
      "source": [
        "df1= pd.DataFrame({'mf':mf_li_10k})\n",
        "df1.to_csv('/content/gdrive/MyDrive/mf_10k.csv')\n",
        "\n",
        "df2= pd.DataFrame({'mf':mf_li_20k})\n",
        "df2.to_csv('/content/gdrive/MyDrive/mf_20k.csv')\n",
        "\n",
        "df3= pd.DataFrame({'mf':mf_li_30k})\n",
        "df3.to_csv('/content/gdrive/MyDrive/mf_30k.csv')\n",
        "\n",
        "df4= pd.DataFrame({'mf':mf_li_40k})\n",
        "df4.to_csv('/content/gdrive/MyDrive/mf_40k.csv')\n",
        "\n",
        "df5= pd.DataFrame({'mf':mf_li_50k})\n",
        "df5.to_csv('/content/gdrive/MyDrive/mf_50k.csv')\n",
        "\n",
        "df6= pd.DataFrame({'mf':mf_li_60k})\n",
        "df6.to_csv('/content/gdrive/MyDrive/mf_60k.csv')\n",
        "\n",
        "df7= pd.DataFrame({'mf':mf_li_70k})\n",
        "df7.to_csv('/content/gdrive/MyDrive/mf_70k.csv')\n",
        "\n",
        "df8= pd.DataFrame({'mf':mf_li_80k})\n",
        "df8.to_csv('/content/gdrive/MyDrive/mf_80k.csv')\n",
        "\n",
        "df9= pd.DataFrame({'mf':mf_li_90k})\n",
        "df9.to_csv('/content/gdrive/MyDrive/mf_90k.csv')\n",
        "\n",
        "df_val= pd.DataFrame({'mf':mf_li_valid})\n",
        "df_val.to_csv('/content/gdrive/MyDrive/mf_valid.csv')"
      ],
      "metadata": {
        "id": "wHXZ_ihRuB1i"
      },
      "execution_count": null,
      "outputs": []
    },
    {
      "cell_type": "code",
      "source": [
        "df1 = pd.read_csv('/content/gdrive/MyDrive/project deepmag/loss_values_10k_epoch1.csv')\n",
        "df1.head()"
      ],
      "metadata": {
        "id": "BcSyXw1RalIO",
        "colab": {
          "base_uri": "https://localhost:8080/",
          "height": 206
        },
        "outputId": "d143d93e-b663-41c0-fb7a-bdf92fae8f35"
      },
      "execution_count": null,
      "outputs": [
        {
          "output_type": "execute_result",
          "data": {
            "text/html": [
              "\n",
              "  <div id=\"df-c740b268-570c-448b-8f36-8442611219ba\">\n",
              "    <div class=\"colab-df-container\">\n",
              "      <div>\n",
              "<style scoped>\n",
              "    .dataframe tbody tr th:only-of-type {\n",
              "        vertical-align: middle;\n",
              "    }\n",
              "\n",
              "    .dataframe tbody tr th {\n",
              "        vertical-align: top;\n",
              "    }\n",
              "\n",
              "    .dataframe thead th {\n",
              "        text-align: right;\n",
              "    }\n",
              "</style>\n",
              "<table border=\"1\" class=\"dataframe\">\n",
              "  <thead>\n",
              "    <tr style=\"text-align: right;\">\n",
              "      <th></th>\n",
              "      <th>Unnamed: 0</th>\n",
              "      <th>training loss</th>\n",
              "      <th>validation loss</th>\n",
              "    </tr>\n",
              "  </thead>\n",
              "  <tbody>\n",
              "    <tr>\n",
              "      <th>0</th>\n",
              "      <td>0</td>\n",
              "      <td>[12065.98046875]</td>\n",
              "      <td>[379689.8125]</td>\n",
              "    </tr>\n",
              "    <tr>\n",
              "      <th>1</th>\n",
              "      <td>1</td>\n",
              "      <td>[3171.724609375]</td>\n",
              "      <td>[48808.35546875]</td>\n",
              "    </tr>\n",
              "    <tr>\n",
              "      <th>2</th>\n",
              "      <td>2</td>\n",
              "      <td>[5124.1689453125]</td>\n",
              "      <td>[11259.52734375]</td>\n",
              "    </tr>\n",
              "    <tr>\n",
              "      <th>3</th>\n",
              "      <td>3</td>\n",
              "      <td>[2708.031005859375]</td>\n",
              "      <td>[9963.1689453125]</td>\n",
              "    </tr>\n",
              "    <tr>\n",
              "      <th>4</th>\n",
              "      <td>4</td>\n",
              "      <td>[3590.085205078125]</td>\n",
              "      <td>[9262.576171875]</td>\n",
              "    </tr>\n",
              "  </tbody>\n",
              "</table>\n",
              "</div>\n",
              "      <button class=\"colab-df-convert\" onclick=\"convertToInteractive('df-c740b268-570c-448b-8f36-8442611219ba')\"\n",
              "              title=\"Convert this dataframe to an interactive table.\"\n",
              "              style=\"display:none;\">\n",
              "        \n",
              "  <svg xmlns=\"http://www.w3.org/2000/svg\" height=\"24px\"viewBox=\"0 0 24 24\"\n",
              "       width=\"24px\">\n",
              "    <path d=\"M0 0h24v24H0V0z\" fill=\"none\"/>\n",
              "    <path d=\"M18.56 5.44l.94 2.06.94-2.06 2.06-.94-2.06-.94-.94-2.06-.94 2.06-2.06.94zm-11 1L8.5 8.5l.94-2.06 2.06-.94-2.06-.94L8.5 2.5l-.94 2.06-2.06.94zm10 10l.94 2.06.94-2.06 2.06-.94-2.06-.94-.94-2.06-.94 2.06-2.06.94z\"/><path d=\"M17.41 7.96l-1.37-1.37c-.4-.4-.92-.59-1.43-.59-.52 0-1.04.2-1.43.59L10.3 9.45l-7.72 7.72c-.78.78-.78 2.05 0 2.83L4 21.41c.39.39.9.59 1.41.59.51 0 1.02-.2 1.41-.59l7.78-7.78 2.81-2.81c.8-.78.8-2.07 0-2.86zM5.41 20L4 18.59l7.72-7.72 1.47 1.35L5.41 20z\"/>\n",
              "  </svg>\n",
              "      </button>\n",
              "      \n",
              "  <style>\n",
              "    .colab-df-container {\n",
              "      display:flex;\n",
              "      flex-wrap:wrap;\n",
              "      gap: 12px;\n",
              "    }\n",
              "\n",
              "    .colab-df-convert {\n",
              "      background-color: #E8F0FE;\n",
              "      border: none;\n",
              "      border-radius: 50%;\n",
              "      cursor: pointer;\n",
              "      display: none;\n",
              "      fill: #1967D2;\n",
              "      height: 32px;\n",
              "      padding: 0 0 0 0;\n",
              "      width: 32px;\n",
              "    }\n",
              "\n",
              "    .colab-df-convert:hover {\n",
              "      background-color: #E2EBFA;\n",
              "      box-shadow: 0px 1px 2px rgba(60, 64, 67, 0.3), 0px 1px 3px 1px rgba(60, 64, 67, 0.15);\n",
              "      fill: #174EA6;\n",
              "    }\n",
              "\n",
              "    [theme=dark] .colab-df-convert {\n",
              "      background-color: #3B4455;\n",
              "      fill: #D2E3FC;\n",
              "    }\n",
              "\n",
              "    [theme=dark] .colab-df-convert:hover {\n",
              "      background-color: #434B5C;\n",
              "      box-shadow: 0px 1px 3px 1px rgba(0, 0, 0, 0.15);\n",
              "      filter: drop-shadow(0px 1px 2px rgba(0, 0, 0, 0.3));\n",
              "      fill: #FFFFFF;\n",
              "    }\n",
              "  </style>\n",
              "\n",
              "      <script>\n",
              "        const buttonEl =\n",
              "          document.querySelector('#df-c740b268-570c-448b-8f36-8442611219ba button.colab-df-convert');\n",
              "        buttonEl.style.display =\n",
              "          google.colab.kernel.accessAllowed ? 'block' : 'none';\n",
              "\n",
              "        async function convertToInteractive(key) {\n",
              "          const element = document.querySelector('#df-c740b268-570c-448b-8f36-8442611219ba');\n",
              "          const dataTable =\n",
              "            await google.colab.kernel.invokeFunction('convertToInteractive',\n",
              "                                                     [key], {});\n",
              "          if (!dataTable) return;\n",
              "\n",
              "          const docLinkHtml = 'Like what you see? Visit the ' +\n",
              "            '<a target=\"_blank\" href=https://colab.research.google.com/notebooks/data_table.ipynb>data table notebook</a>'\n",
              "            + ' to learn more about interactive tables.';\n",
              "          element.innerHTML = '';\n",
              "          dataTable['output_type'] = 'display_data';\n",
              "          await google.colab.output.renderOutput(dataTable, element);\n",
              "          const docLink = document.createElement('div');\n",
              "          docLink.innerHTML = docLinkHtml;\n",
              "          element.appendChild(docLink);\n",
              "        }\n",
              "      </script>\n",
              "    </div>\n",
              "  </div>\n",
              "  "
            ],
            "text/plain": [
              "   Unnamed: 0        training loss    validation loss\n",
              "0           0     [12065.98046875]      [379689.8125]\n",
              "1           1     [3171.724609375]   [48808.35546875]\n",
              "2           2    [5124.1689453125]   [11259.52734375]\n",
              "3           3  [2708.031005859375]  [9963.1689453125]\n",
              "4           4  [3590.085205078125]   [9262.576171875]"
            ]
          },
          "metadata": {},
          "execution_count": 5
        }
      ]
    },
    {
      "cell_type": "code",
      "source": [
        "df2 = pd.read_csv('/content/gdrive/MyDrive/project deepmag/loss_values_20k_epoch1.csv')\n",
        "df2.head()"
      ],
      "metadata": {
        "colab": {
          "base_uri": "https://localhost:8080/",
          "height": 206
        },
        "id": "istUtZynDmVw",
        "outputId": "5a64caad-f2c2-45d0-b9cc-68095e050b13"
      },
      "execution_count": null,
      "outputs": [
        {
          "output_type": "execute_result",
          "data": {
            "text/html": [
              "\n",
              "  <div id=\"df-52c402f2-cd84-44b4-b3ef-38ac0df580f5\">\n",
              "    <div class=\"colab-df-container\">\n",
              "      <div>\n",
              "<style scoped>\n",
              "    .dataframe tbody tr th:only-of-type {\n",
              "        vertical-align: middle;\n",
              "    }\n",
              "\n",
              "    .dataframe tbody tr th {\n",
              "        vertical-align: top;\n",
              "    }\n",
              "\n",
              "    .dataframe thead th {\n",
              "        text-align: right;\n",
              "    }\n",
              "</style>\n",
              "<table border=\"1\" class=\"dataframe\">\n",
              "  <thead>\n",
              "    <tr style=\"text-align: right;\">\n",
              "      <th></th>\n",
              "      <th>Unnamed: 0</th>\n",
              "      <th>training loss</th>\n",
              "      <th>validation loss</th>\n",
              "    </tr>\n",
              "  </thead>\n",
              "  <tbody>\n",
              "    <tr>\n",
              "      <th>0</th>\n",
              "      <td>0</td>\n",
              "      <td>[1383.5311279296875]</td>\n",
              "      <td>[1041.442138671875]</td>\n",
              "    </tr>\n",
              "    <tr>\n",
              "      <th>1</th>\n",
              "      <td>1</td>\n",
              "      <td>[1135.374267578125]</td>\n",
              "      <td>[1311.3475341796875]</td>\n",
              "    </tr>\n",
              "    <tr>\n",
              "      <th>2</th>\n",
              "      <td>2</td>\n",
              "      <td>[1376.02783203125]</td>\n",
              "      <td>[1040.052734375]</td>\n",
              "    </tr>\n",
              "    <tr>\n",
              "      <th>3</th>\n",
              "      <td>3</td>\n",
              "      <td>[1040.753173828125]</td>\n",
              "      <td>[1548.021484375]</td>\n",
              "    </tr>\n",
              "    <tr>\n",
              "      <th>4</th>\n",
              "      <td>4</td>\n",
              "      <td>[1125.960693359375]</td>\n",
              "      <td>[1461.08154296875]</td>\n",
              "    </tr>\n",
              "  </tbody>\n",
              "</table>\n",
              "</div>\n",
              "      <button class=\"colab-df-convert\" onclick=\"convertToInteractive('df-52c402f2-cd84-44b4-b3ef-38ac0df580f5')\"\n",
              "              title=\"Convert this dataframe to an interactive table.\"\n",
              "              style=\"display:none;\">\n",
              "        \n",
              "  <svg xmlns=\"http://www.w3.org/2000/svg\" height=\"24px\"viewBox=\"0 0 24 24\"\n",
              "       width=\"24px\">\n",
              "    <path d=\"M0 0h24v24H0V0z\" fill=\"none\"/>\n",
              "    <path d=\"M18.56 5.44l.94 2.06.94-2.06 2.06-.94-2.06-.94-.94-2.06-.94 2.06-2.06.94zm-11 1L8.5 8.5l.94-2.06 2.06-.94-2.06-.94L8.5 2.5l-.94 2.06-2.06.94zm10 10l.94 2.06.94-2.06 2.06-.94-2.06-.94-.94-2.06-.94 2.06-2.06.94z\"/><path d=\"M17.41 7.96l-1.37-1.37c-.4-.4-.92-.59-1.43-.59-.52 0-1.04.2-1.43.59L10.3 9.45l-7.72 7.72c-.78.78-.78 2.05 0 2.83L4 21.41c.39.39.9.59 1.41.59.51 0 1.02-.2 1.41-.59l7.78-7.78 2.81-2.81c.8-.78.8-2.07 0-2.86zM5.41 20L4 18.59l7.72-7.72 1.47 1.35L5.41 20z\"/>\n",
              "  </svg>\n",
              "      </button>\n",
              "      \n",
              "  <style>\n",
              "    .colab-df-container {\n",
              "      display:flex;\n",
              "      flex-wrap:wrap;\n",
              "      gap: 12px;\n",
              "    }\n",
              "\n",
              "    .colab-df-convert {\n",
              "      background-color: #E8F0FE;\n",
              "      border: none;\n",
              "      border-radius: 50%;\n",
              "      cursor: pointer;\n",
              "      display: none;\n",
              "      fill: #1967D2;\n",
              "      height: 32px;\n",
              "      padding: 0 0 0 0;\n",
              "      width: 32px;\n",
              "    }\n",
              "\n",
              "    .colab-df-convert:hover {\n",
              "      background-color: #E2EBFA;\n",
              "      box-shadow: 0px 1px 2px rgba(60, 64, 67, 0.3), 0px 1px 3px 1px rgba(60, 64, 67, 0.15);\n",
              "      fill: #174EA6;\n",
              "    }\n",
              "\n",
              "    [theme=dark] .colab-df-convert {\n",
              "      background-color: #3B4455;\n",
              "      fill: #D2E3FC;\n",
              "    }\n",
              "\n",
              "    [theme=dark] .colab-df-convert:hover {\n",
              "      background-color: #434B5C;\n",
              "      box-shadow: 0px 1px 3px 1px rgba(0, 0, 0, 0.15);\n",
              "      filter: drop-shadow(0px 1px 2px rgba(0, 0, 0, 0.3));\n",
              "      fill: #FFFFFF;\n",
              "    }\n",
              "  </style>\n",
              "\n",
              "      <script>\n",
              "        const buttonEl =\n",
              "          document.querySelector('#df-52c402f2-cd84-44b4-b3ef-38ac0df580f5 button.colab-df-convert');\n",
              "        buttonEl.style.display =\n",
              "          google.colab.kernel.accessAllowed ? 'block' : 'none';\n",
              "\n",
              "        async function convertToInteractive(key) {\n",
              "          const element = document.querySelector('#df-52c402f2-cd84-44b4-b3ef-38ac0df580f5');\n",
              "          const dataTable =\n",
              "            await google.colab.kernel.invokeFunction('convertToInteractive',\n",
              "                                                     [key], {});\n",
              "          if (!dataTable) return;\n",
              "\n",
              "          const docLinkHtml = 'Like what you see? Visit the ' +\n",
              "            '<a target=\"_blank\" href=https://colab.research.google.com/notebooks/data_table.ipynb>data table notebook</a>'\n",
              "            + ' to learn more about interactive tables.';\n",
              "          element.innerHTML = '';\n",
              "          dataTable['output_type'] = 'display_data';\n",
              "          await google.colab.output.renderOutput(dataTable, element);\n",
              "          const docLink = document.createElement('div');\n",
              "          docLink.innerHTML = docLinkHtml;\n",
              "          element.appendChild(docLink);\n",
              "        }\n",
              "      </script>\n",
              "    </div>\n",
              "  </div>\n",
              "  "
            ],
            "text/plain": [
              "   Unnamed: 0         training loss       validation loss\n",
              "0           0  [1383.5311279296875]   [1041.442138671875]\n",
              "1           1   [1135.374267578125]  [1311.3475341796875]\n",
              "2           2    [1376.02783203125]      [1040.052734375]\n",
              "3           3   [1040.753173828125]      [1548.021484375]\n",
              "4           4   [1125.960693359375]    [1461.08154296875]"
            ]
          },
          "metadata": {},
          "execution_count": 6
        }
      ]
    },
    {
      "cell_type": "code",
      "source": [
        "df3 = pd.read_csv('/content/gdrive/MyDrive/project deepmag/loss_values_30k_epoch1.csv')"
      ],
      "metadata": {
        "id": "fV8NFlGGJbp_"
      },
      "execution_count": null,
      "outputs": []
    },
    {
      "cell_type": "code",
      "source": [
        "df_con = pd.concat([df1,df2,df3])"
      ],
      "metadata": {
        "id": "U2tIfnAyD3Ll"
      },
      "execution_count": null,
      "outputs": []
    },
    {
      "cell_type": "code",
      "source": [
        "df_con.tail()"
      ],
      "metadata": {
        "colab": {
          "base_uri": "https://localhost:8080/",
          "height": 206
        },
        "id": "mlIbfJNUEdHD",
        "outputId": "22a50661-4cc7-4edd-8146-bb2110cecdd2"
      },
      "execution_count": null,
      "outputs": [
        {
          "output_type": "execute_result",
          "data": {
            "text/html": [
              "\n",
              "  <div id=\"df-62cc47f0-e955-4891-afe5-f8950c88cb83\">\n",
              "    <div class=\"colab-df-container\">\n",
              "      <div>\n",
              "<style scoped>\n",
              "    .dataframe tbody tr th:only-of-type {\n",
              "        vertical-align: middle;\n",
              "    }\n",
              "\n",
              "    .dataframe tbody tr th {\n",
              "        vertical-align: top;\n",
              "    }\n",
              "\n",
              "    .dataframe thead th {\n",
              "        text-align: right;\n",
              "    }\n",
              "</style>\n",
              "<table border=\"1\" class=\"dataframe\">\n",
              "  <thead>\n",
              "    <tr style=\"text-align: right;\">\n",
              "      <th></th>\n",
              "      <th>Unnamed: 0</th>\n",
              "      <th>training loss</th>\n",
              "      <th>validation loss</th>\n",
              "    </tr>\n",
              "  </thead>\n",
              "  <tbody>\n",
              "    <tr>\n",
              "      <th>995</th>\n",
              "      <td>995</td>\n",
              "      <td>[357.5921936035156]</td>\n",
              "      <td>[1047.9202880859375]</td>\n",
              "    </tr>\n",
              "    <tr>\n",
              "      <th>996</th>\n",
              "      <td>996</td>\n",
              "      <td>[513.6456298828125]</td>\n",
              "      <td>[919.6942138671875]</td>\n",
              "    </tr>\n",
              "    <tr>\n",
              "      <th>997</th>\n",
              "      <td>997</td>\n",
              "      <td>[501.89886474609375]</td>\n",
              "      <td>[866.8526611328125]</td>\n",
              "    </tr>\n",
              "    <tr>\n",
              "      <th>998</th>\n",
              "      <td>998</td>\n",
              "      <td>[730.2378540039062]</td>\n",
              "      <td>[1128.514404296875]</td>\n",
              "    </tr>\n",
              "    <tr>\n",
              "      <th>999</th>\n",
              "      <td>999</td>\n",
              "      <td>[322.4098205566406]</td>\n",
              "      <td>[880.2486572265625]</td>\n",
              "    </tr>\n",
              "  </tbody>\n",
              "</table>\n",
              "</div>\n",
              "      <button class=\"colab-df-convert\" onclick=\"convertToInteractive('df-62cc47f0-e955-4891-afe5-f8950c88cb83')\"\n",
              "              title=\"Convert this dataframe to an interactive table.\"\n",
              "              style=\"display:none;\">\n",
              "        \n",
              "  <svg xmlns=\"http://www.w3.org/2000/svg\" height=\"24px\"viewBox=\"0 0 24 24\"\n",
              "       width=\"24px\">\n",
              "    <path d=\"M0 0h24v24H0V0z\" fill=\"none\"/>\n",
              "    <path d=\"M18.56 5.44l.94 2.06.94-2.06 2.06-.94-2.06-.94-.94-2.06-.94 2.06-2.06.94zm-11 1L8.5 8.5l.94-2.06 2.06-.94-2.06-.94L8.5 2.5l-.94 2.06-2.06.94zm10 10l.94 2.06.94-2.06 2.06-.94-2.06-.94-.94-2.06-.94 2.06-2.06.94z\"/><path d=\"M17.41 7.96l-1.37-1.37c-.4-.4-.92-.59-1.43-.59-.52 0-1.04.2-1.43.59L10.3 9.45l-7.72 7.72c-.78.78-.78 2.05 0 2.83L4 21.41c.39.39.9.59 1.41.59.51 0 1.02-.2 1.41-.59l7.78-7.78 2.81-2.81c.8-.78.8-2.07 0-2.86zM5.41 20L4 18.59l7.72-7.72 1.47 1.35L5.41 20z\"/>\n",
              "  </svg>\n",
              "      </button>\n",
              "      \n",
              "  <style>\n",
              "    .colab-df-container {\n",
              "      display:flex;\n",
              "      flex-wrap:wrap;\n",
              "      gap: 12px;\n",
              "    }\n",
              "\n",
              "    .colab-df-convert {\n",
              "      background-color: #E8F0FE;\n",
              "      border: none;\n",
              "      border-radius: 50%;\n",
              "      cursor: pointer;\n",
              "      display: none;\n",
              "      fill: #1967D2;\n",
              "      height: 32px;\n",
              "      padding: 0 0 0 0;\n",
              "      width: 32px;\n",
              "    }\n",
              "\n",
              "    .colab-df-convert:hover {\n",
              "      background-color: #E2EBFA;\n",
              "      box-shadow: 0px 1px 2px rgba(60, 64, 67, 0.3), 0px 1px 3px 1px rgba(60, 64, 67, 0.15);\n",
              "      fill: #174EA6;\n",
              "    }\n",
              "\n",
              "    [theme=dark] .colab-df-convert {\n",
              "      background-color: #3B4455;\n",
              "      fill: #D2E3FC;\n",
              "    }\n",
              "\n",
              "    [theme=dark] .colab-df-convert:hover {\n",
              "      background-color: #434B5C;\n",
              "      box-shadow: 0px 1px 3px 1px rgba(0, 0, 0, 0.15);\n",
              "      filter: drop-shadow(0px 1px 2px rgba(0, 0, 0, 0.3));\n",
              "      fill: #FFFFFF;\n",
              "    }\n",
              "  </style>\n",
              "\n",
              "      <script>\n",
              "        const buttonEl =\n",
              "          document.querySelector('#df-62cc47f0-e955-4891-afe5-f8950c88cb83 button.colab-df-convert');\n",
              "        buttonEl.style.display =\n",
              "          google.colab.kernel.accessAllowed ? 'block' : 'none';\n",
              "\n",
              "        async function convertToInteractive(key) {\n",
              "          const element = document.querySelector('#df-62cc47f0-e955-4891-afe5-f8950c88cb83');\n",
              "          const dataTable =\n",
              "            await google.colab.kernel.invokeFunction('convertToInteractive',\n",
              "                                                     [key], {});\n",
              "          if (!dataTable) return;\n",
              "\n",
              "          const docLinkHtml = 'Like what you see? Visit the ' +\n",
              "            '<a target=\"_blank\" href=https://colab.research.google.com/notebooks/data_table.ipynb>data table notebook</a>'\n",
              "            + ' to learn more about interactive tables.';\n",
              "          element.innerHTML = '';\n",
              "          dataTable['output_type'] = 'display_data';\n",
              "          await google.colab.output.renderOutput(dataTable, element);\n",
              "          const docLink = document.createElement('div');\n",
              "          docLink.innerHTML = docLinkHtml;\n",
              "          element.appendChild(docLink);\n",
              "        }\n",
              "      </script>\n",
              "    </div>\n",
              "  </div>\n",
              "  "
            ],
            "text/plain": [
              "     Unnamed: 0         training loss       validation loss\n",
              "995         995   [357.5921936035156]  [1047.9202880859375]\n",
              "996         996   [513.6456298828125]   [919.6942138671875]\n",
              "997         997  [501.89886474609375]   [866.8526611328125]\n",
              "998         998   [730.2378540039062]   [1128.514404296875]\n",
              "999         999   [322.4098205566406]   [880.2486572265625]"
            ]
          },
          "metadata": {},
          "execution_count": 57
        }
      ]
    },
    {
      "cell_type": "code",
      "source": [
        "training_loss=[float(i[1:-1]) for i in df_con['training loss']]\n",
        "validation_loss = [float(i[1:-1]) for i in df_con['validation loss']]"
      ],
      "metadata": {
        "id": "YLAd9l1uFd2L"
      },
      "execution_count": null,
      "outputs": []
    },
    {
      "cell_type": "code",
      "source": [
        "validation_loss[0]"
      ],
      "metadata": {
        "colab": {
          "base_uri": "https://localhost:8080/"
        },
        "id": "tqX3eRvJFnZH",
        "outputId": "c713567c-b5f9-435c-abfa-41126e491599"
      },
      "execution_count": null,
      "outputs": [
        {
          "output_type": "execute_result",
          "data": {
            "text/plain": [
              "48808.35546875"
            ]
          },
          "metadata": {},
          "execution_count": 37
        }
      ]
    },
    {
      "cell_type": "code",
      "source": [
        "plt.figure()\n",
        "plt.figure(figsize=(8, 6), dpi=80)\n",
        "plt.plot(training_loss,label='training loss')\n",
        "# plt.plot(validation_loss,label='validation loss')\n",
        "plt.xlabel('batches')\n",
        "plt.ylabel('loss')\n",
        "plt.title('loss curve')\n",
        "plt.legend()"
      ],
      "metadata": {
        "colab": {
          "base_uri": "https://localhost:8080/",
          "height": 478
        },
        "id": "c_v27DT9EnC0",
        "outputId": "8a51046d-6e52-4995-9d49-aabb602997b4"
      },
      "execution_count": null,
      "outputs": [
        {
          "output_type": "execute_result",
          "data": {
            "text/plain": [
              "<matplotlib.legend.Legend at 0x7f348875c190>"
            ]
          },
          "metadata": {},
          "execution_count": 60
        },
        {
          "output_type": "display_data",
          "data": {
            "text/plain": [
              "<Figure size 432x288 with 0 Axes>"
            ]
          },
          "metadata": {}
        },
        {
          "output_type": "display_data",
          "data": {
            "image/png": "[encoded data removed]",
            "text/plain": [
              "<Figure size 640x480 with 1 Axes>"
            ]
          },
          "metadata": {
            "needs_background": "light"
          }
        }
      ]
    },
    {
      "cell_type": "code",
      "source": [
        "plt.figure()\n",
        "plt.figure(figsize=(8, 6), dpi=80)\n",
        "# plt.plot(training_loss,label='training loss')\n",
        "plt.plot(validation_loss,label='validation loss',color='orange')\n",
        "plt.xlabel('batches')\n",
        "plt.ylabel('loss')\n",
        "plt.title('loss curve')\n",
        "plt.legend()"
      ],
      "metadata": {
        "colab": {
          "base_uri": "https://localhost:8080/",
          "height": 478
        },
        "id": "KRnhpwc0E0X7",
        "outputId": "f79bab07-7401-47cf-c4b9-1585f42ecb7d"
      },
      "execution_count": null,
      "outputs": [
        {
          "output_type": "execute_result",
          "data": {
            "text/plain": [
              "<matplotlib.legend.Legend at 0x7f3488412950>"
            ]
          },
          "metadata": {},
          "execution_count": 63
        },
        {
          "output_type": "display_data",
          "data": {
            "text/plain": [
              "<Figure size 432x288 with 0 Axes>"
            ]
          },
          "metadata": {}
        },
        {
          "output_type": "display_data",
          "data": {
            "image/png": "[encoded data removed]",
            "text/plain": [
              "<Figure size 640x480 with 1 Axes>"
            ]
          },
          "metadata": {
            "needs_background": "light"
          }
        }
      ]
    },
    {
      "cell_type": "code",
      "source": [
        ""
      ],
      "metadata": {
        "id": "BDZL3OTPRRGK"
      },
      "execution_count": null,
      "outputs": []
    }
  ]
}