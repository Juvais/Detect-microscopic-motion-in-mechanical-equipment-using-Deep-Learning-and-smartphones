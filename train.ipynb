{
  "cells": [
    {
      "cell_type": "code",
      "execution_count": null,
      "metadata": {
        "id": "BU0x2A4JtMu0"
      },
      "outputs": [],
      "source": [
        "import cv2\n",
        "from tensorflow.keras import models, layers\n",
        "from tensorflow.keras.models import Model,load_model\n",
        "from tensorflow.keras.layers import BatchNormalization, Activation, Flatten\n",
        "from tensorflow.keras.optimizers import Adam,RMSprop,SGD\n",
        "import tensorflow.keras.backend as k\n",
        "import os\n",
        "import tensorflow.keras\n",
        "import tensorflow as tf\n",
        "from tensorflow.keras.layers import Input, Add, Dense, Activation, ZeroPadding2D, BatchNormalization, Flatten, Conv2D, Conv3D,UpSampling2D,ReLU,Dropout\n",
        "import json\n",
        "from tensorflow.keras.preprocessing.image import ImageDataGenerator\n",
        "from tqdm.notebook import tqdm\n",
        "import pickle\n",
        "import pandas as pd\n",
        "import numpy as np\n",
        "import matplotlib.pyplot as plt\n",
        "import matplotlib.image as mpimg\n",
        "from tensorflow.keras.layers import Layer"
      ]
    },
    {
      "cell_type": "code",
      "execution_count": null,
      "metadata": {
        "id": "_jy6aO0se8qw"
      },
      "outputs": [],
      "source": [
        "from model_architecture_deepmag_ import Encoder,Manipulator,Decoder,Residual"
      ]
    },
    {
      "cell_type": "code",
      "execution_count": null,
      "metadata": {
        "id": "ZldLOAsBgIe_"
      },
      "outputs": [],
      "source": [
        "def build_model():\n",
        "  frameA  = Input(shape=(384,384,3))\n",
        "  frameB = Input(shape=(384,384,3))\n",
        "  amp_factor = Input(shape = (1,1,1))\n",
        "\n",
        "  encoder = Encoder()\n",
        "\n",
        "  texture_A , shape_A  = encoder(frameA)\n",
        "  texture_B , shape_B = encoder(frameB)\n",
        "\n",
        "  manipulator = Manipulator()\n",
        "  manipulator_output = manipulator([shape_A,shape_B,amp_factor])\n",
        "\n",
        "  decoder = Decoder()\n",
        "\n",
        "  output = decoder([texture_B,manipulator_output])\n",
        "  model = Model(inputs = [frameA,frameB,amp_factor], outputs = output)\n",
        "  \n",
        "  return model"
      ]
    },
    {
      "cell_type": "code",
      "execution_count": null,
      "metadata": {
        "colab": {
          "base_uri": "https://localhost:8080/"
        },
        "id": "nBMXlbxhgORf",
        "outputId": "e63e33d3-e580-4c03-f582-f78cc04ad49a"
      },
      "outputs": [
        {
          "output_type": "stream",
          "name": "stdout",
          "text": [
            "Model: \"model_1\"\n",
            "__________________________________________________________________________________________________\n",
            " Layer (type)                   Output Shape         Param #     Connected to                     \n",
            "==================================================================================================\n",
            " input_5 (InputLayer)           [(None, 384, 384, 3  0           []                               \n",
            "                                )]                                                                \n",
            "                                                                                                  \n",
            " input_4 (InputLayer)           [(None, 384, 384, 3  0           []                               \n",
            "                                )]                                                                \n",
            "                                                                                                  \n",
            " encoder_1 (Encoder)            ((None, 96, 96, 32)  156768      ['input_4[0][0]',                \n",
            "                                , (None, 192, 192,                'input_5[0][0]']                \n",
            "                                32))                                                              \n",
            "                                                                                                  \n",
            " input_6 (InputLayer)           [(None, 1, 1, 1)]    0           []                               \n",
            "                                                                                                  \n",
            " manipulator_1 (Manipulator)    (None, 192, 192, 32  37248       ['encoder_1[0][1]',              \n",
            "                                )                                 'encoder_1[1][1]',              \n",
            "                                                                  'input_6[0][0]']                \n",
            "                                                                                                  \n",
            " decoder_1 (Decoder)            (None, 384, 384, 3)  692483      ['encoder_1[1][0]',              \n",
            "                                                                  'manipulator_1[0][0]']          \n",
            "                                                                                                  \n",
            "==================================================================================================\n",
            "Total params: 886,499\n",
            "Trainable params: 883,171\n",
            "Non-trainable params: 3,328\n",
            "__________________________________________________________________________________________________\n"
          ]
        }
      ],
      "source": [
        "model = build_model()\n",
        "model.summary()"
      ]
    },
    {
      "cell_type": "code",
      "execution_count": null,
      "metadata": {
        "id": "9G40TJ8Cs5q6"
      },
      "outputs": [],
      "source": [
        "model.compile(tf.keras.optimizers.Adam(0.0001), tf.keras.losses.MeanSquaredError())"
      ]
    },
    {
      "cell_type": "code",
      "execution_count": null,
      "metadata": {
        "colab": {
          "base_uri": "https://localhost:8080/"
        },
        "id": "JFnrY4_VwbsX",
        "outputId": "be264dfc-8f33-459a-95ef-4ec88553d491"
      },
      "outputs": [
        {
          "output_type": "stream",
          "name": "stdout",
          "text": [
            "Mounted at /content/gdrive\n"
          ]
        }
      ],
      "source": [
        "from google.colab import drive\n",
        "drive.mount('/content/gdrive')"
      ]
    },
    {
      "cell_type": "code",
      "execution_count": null,
      "metadata": {
        "id": "2uato6sBtCSA"
      },
      "outputs": [],
      "source": [
        "\n",
        "train_dir_A = '/content/gdrive/MyDrive/extracted/frameA/10K/'\n",
        "train_dir_B = '/content/gdrive/MyDrive/extracted/frameC/10K/'\n",
        "y_dir = '/content/gdrive/MyDrive/extracted/amplified/10K/'\n",
        "\n",
        "valid_dir_A= '/content/gdrive/MyDrive/extracted/frameA/100K/'\n",
        "valid_dir_B= '/content/gdrive/MyDrive/extracted/frameC/100K/'\n",
        "valid_dir_y = '/content/gdrive/MyDrive/extracted/amplified/100K/'"
      ]
    },
    {
      "cell_type": "code",
      "execution_count": null,
      "metadata": {
        "colab": {
          "base_uri": "https://localhost:8080/"
        },
        "id": "gpsyeaMKWkYL",
        "outputId": "751997ba-318d-48bc-8174-5faab5612b49"
      },
      "outputs": [
        {
          "output_type": "stream",
          "name": "stdout",
          "text": [
            "Found 10000 files belonging to 1 classes.\n"
          ]
        }
      ],
      "source": [
        "\n",
        "A = tf.keras.preprocessing.image_dataset_from_directory(train_dir_A,labels=None,shuffle=False,image_size=(384,384),batch_size=10)"
      ]
    },
    {
      "cell_type": "code",
      "execution_count": null,
      "metadata": {
        "colab": {
          "base_uri": "https://localhost:8080/"
        },
        "id": "4f4I0HNGgJLr",
        "outputId": "da4967a3-6799-44a7-ee98-35990382c5f4"
      },
      "outputs": [
        {
          "output_type": "stream",
          "name": "stdout",
          "text": [
            "Found 10000 files belonging to 1 classes.\n"
          ]
        }
      ],
      "source": [
        "B=tf.keras.preprocessing.image_dataset_from_directory(train_dir_B,labels=None,shuffle=False,image_size=(384,384),batch_size=10)"
      ]
    },
    {
      "cell_type": "code",
      "execution_count": null,
      "metadata": {
        "colab": {
          "base_uri": "https://localhost:8080/"
        },
        "id": "bugzd9IAgM_H",
        "outputId": "78e26355-c0da-4903-e5e0-3b6596deb9d5"
      },
      "outputs": [
        {
          "output_type": "stream",
          "name": "stdout",
          "text": [
            "Found 10000 files belonging to 1 classes.\n"
          ]
        }
      ],
      "source": [
        "y=tf.keras.preprocessing.image_dataset_from_directory(y_dir,labels=None,shuffle=False,image_size=(384,384),batch_size=10)"
      ]
    },
    {
      "cell_type": "code",
      "execution_count": null,
      "metadata": {
        "colab": {
          "base_uri": "https://localhost:8080/"
        },
        "id": "ZFE9BJcS2rWo",
        "outputId": "fa57cbfc-e110-4c1f-92df-e06b8ba7809e"
      },
      "outputs": [
        {
          "output_type": "stream",
          "name": "stdout",
          "text": [
            "Found 10000 files belonging to 1 classes.\n"
          ]
        }
      ],
      "source": [
        "valid_A = tf.keras.preprocessing.image_dataset_from_directory(valid_dir_A,labels=None,shuffle=False,image_size=(384,384),batch_size=10)"
      ]
    },
    {
      "cell_type": "code",
      "execution_count": null,
      "metadata": {
        "colab": {
          "base_uri": "https://localhost:8080/"
        },
        "id": "tZq5F-NXAIFK",
        "outputId": "fe79edc7-b4f1-4193-d96e-0f12961e62e7"
      },
      "outputs": [
        {
          "output_type": "stream",
          "name": "stdout",
          "text": [
            "Found 10000 files belonging to 1 classes.\n"
          ]
        }
      ],
      "source": [
        "valid_B =tf.keras.preprocessing.image_dataset_from_directory(valid_dir_B,labels=None,shuffle=False,image_size=(384,384),batch_size=10)"
      ]
    },
    {
      "cell_type": "code",
      "execution_count": null,
      "metadata": {
        "colab": {
          "base_uri": "https://localhost:8080/"
        },
        "id": "NzU8akAUAPUv",
        "outputId": "1f4f7d57-7556-4030-9675-9fbc3c63ffb0"
      },
      "outputs": [
        {
          "output_type": "stream",
          "name": "stdout",
          "text": [
            "Found 10000 files belonging to 1 classes.\n"
          ]
        }
      ],
      "source": [
        "valid_y =tf.keras.preprocessing.image_dataset_from_directory(valid_dir_y,labels=None,shuffle=False,image_size=(384,384),batch_size=10)"
      ]
    },
    {
      "cell_type": "code",
      "execution_count": null,
      "metadata": {
        "id": "HX4bcHF8bZXL"
      },
      "outputs": [],
      "source": [
        "mf = pd.read_csv('train_mf.txt',names=['mf'])"
      ]
    },
    {
      "cell_type": "code",
      "execution_count": null,
      "metadata": {
        "id": "HuPoNE7VbfEy"
      },
      "outputs": [],
      "source": [
        "mf_li=[]\n",
        "for i in mf['mf']:\n",
        "  mf_li.append(tf.Variable([[[i]]]))"
      ]
    },
    {
      "cell_type": "code",
      "execution_count": null,
      "metadata": {
        "id": "knRNW4xmbsG7"
      },
      "outputs": [],
      "source": [
        "# obtaining magnification factor of 10000 images we are going to train \n",
        "# the model on. the values are stacked together to form a batchsize of 10\n",
        "mf_li_10k=[]\n",
        "a =0\n",
        "b= 10\n",
        "for i in range(1000):\n",
        "  if b<10000:\n",
        "    val = tf.stack(mf_li[a:b],axis=0)\n",
        "    a+=10\n",
        "    b+=10\n",
        "  else:\n",
        "    val = tf.stack(mf_li[a:10000],axis=0)\n",
        "  mf_li_10k.append(val)\n"
      ]
    },
    {
      "cell_type": "code",
      "execution_count": null,
      "metadata": {
        "id": "nmmF5pszb5V7"
      },
      "outputs": [],
      "source": [
        "# obtaining magnification factor of 10000 images we are going to use as validation data. the values are stacked together to form a batchsize of 10\n",
        "# validation data is data from 100k folder\n",
        "mf_li_valid =[]\n",
        "a =90000\n",
        "b= 90010\n",
        "for i in range(1000):\n",
        "  if b<100000:\n",
        "    val = tf.stack(mf_li[a:b],axis=0)\n",
        "    a+=10\n",
        "    b+=10\n",
        "  else:\n",
        "    val = tf.stack(mf_li[a:100000],axis=0)\n",
        "  mf_li_valid.append(val)\n"
      ]
    },
    {
      "cell_type": "code",
      "execution_count": null,
      "metadata": {
        "id": "3RHXsDW4fh6N"
      },
      "outputs": [],
      "source": [
        "# create iterator  from the dataset so that 10 images can be fed at a time to the model\n",
        "iteratorA =iter(A)\n",
        "iteratorB =iter(B)\n",
        "iteratory =iter(y)\n",
        "iterator_val_A= iter(valid_A)\n",
        "iterator_val_B = iter(valid_B)\n",
        "iterator_val_y = iter(valid_y)"
      ]
    },
    {
      "cell_type": "code",
      "source": [
        "new_model = load_model('/content/gdrive/MyDrive/project deepmag/saved model 70k/')"
      ],
      "metadata": {
        "id": "z_CMQtxRGZjR"
      },
      "execution_count": null,
      "outputs": []
    },
    {
      "cell_type": "code",
      "source": [
        "new_model.compile(tf.keras.optimizers.Adam(0.00001), tf.keras.losses.MeanSquaredError())"
      ],
      "metadata": {
        "id": "uHfzt-N0yr_Z"
      },
      "execution_count": null,
      "outputs": []
    },
    {
      "cell_type": "code",
      "execution_count": null,
      "metadata": {
        "id": "5Ncu8XGpgbpV"
      },
      "outputs": [],
      "source": [
        "loss_training=[]\n",
        "loss_val=[]\n",
        "def custom_train_loop(iterations):\n",
        "  for i in range(iterations):\n",
        "    # generate next batch of data from iterator\n",
        "      a = iteratorA.get_next()\n",
        "      b = iteratorB.get_next()\n",
        "      y_= iteratory.get_next()\n",
        "      val_a = iterator_val_A.get_next()\n",
        "      val_b = iterator_val_B.get_next()\n",
        "      val_y = iterator_val_y.get_next()\n",
        "      # obtain corresponding mf values from the list\n",
        "      mf = mf_li_10k[i]\n",
        "      mf_y = mf_li_valid[i]\n",
        "      new_model.fit(x=[a,b,mf],y=y_,verbose=2,validation_data=([val_a,val_b,mf_y],val_y))\n",
        "      loss_training.append(new_model.history.history['loss'])\n",
        "      loss_val.append(new_model.history.history['val_loss'])\n",
        "      if i%10 ==0:\n",
        "        # saving the model after processing a batch of 100 images(10 batches)\n",
        "        new_model.save('/content/gdrive/MyDrive/project deepmag/saved model 10k epoch2/')\n",
        "        loss_df = pd.DataFrame({'training loss':loss_training,'validation loss':loss_val})\n",
        "        loss_df.to_csv('/content/gdrive/MyDrive/project deepmag/loss_values_10k_epoch2.csv')\n",
        "      print(f'{(i+1)*10} images processed')\n",
        "  new_model.save('/content/gdrive/MyDrive/project deepmag/saved model 10k epoch2/')\n",
        "  loss_df = pd.DataFrame({'training loss':loss_training,'validation loss':loss_val})\n",
        "  loss_df.to_csv('/content/gdrive/MyDrive/project deepmag/loss_values_10k_epoch2.csv')\n",
        "  print('training done on entire images in the given folder ')"
      ]
    },
    {
      "cell_type": "code",
      "execution_count": null,
      "metadata": {
        "colab": {
          "base_uri": "https://localhost:8080/"
        },
        "id": "glQObpQKgoye",
        "outputId": "4ef6ea01-63b9-4415-a92c-1a015490b2ae"
      },
      "outputs": [
        {
          "metadata": {
            "tags": null
          },
          "name": "stdout",
          "output_type": "stream",
          "text": [
            "1/1 - 27s - loss: 1206.6229 - val_loss: 1241.2791 - 27s/epoch - 27s/step\n"
          ]
        },
        {
          "metadata": {
            "tags": null
          },
          "name": "stderr",
          "output_type": "stream",
          "text": [
            "WARNING:absl:Found untraced functions such as restored_function_body, restored_function_body, restored_function_body, restored_function_body, restored_function_body while saving (showing 5 of 118). These functions will not be directly callable after loading.\n"
          ]
        },
        {
          "metadata": {
            "tags": null
          },
          "name": "stdout",
          "output_type": "stream",
          "text": [
            "INFO:tensorflow:Assets written to: /content/gdrive/MyDrive/project deepmag/saved model 10k epoch2/assets\n"
          ]
        },
        {
          "metadata": {
            "tags": null
          },
          "name": "stderr",
          "output_type": "stream",
          "text": [
            "INFO:tensorflow:Assets written to: /content/gdrive/MyDrive/project deepmag/saved model 10k epoch2/assets\n"
          ]
        },
        {
          "metadata": {
            "tags": null
          },
          "name": "stdout",
          "output_type": "stream",
          "text": [
            "10 images processed\n",
            "1/1 - 3s - loss: 966.8658 - val_loss: 1339.2577 - 3s/epoch - 3s/step\n",
            "20 images processed\n",
            "1/1 - 3s - loss: 1017.0043 - val_loss: 1140.0088 - 3s/epoch - 3s/step\n",
            "30 images processed\n",
            "1/1 - 3s - loss: 1040.5612 - val_loss: 1419.4796 - 3s/epoch - 3s/step\n",
            "40 images processed\n",
            "1/1 - 3s - loss: 1158.4275 - val_loss: 1298.2637 - 3s/epoch - 3s/step\n",
            "50 images processed\n",
            "1/1 - 3s - loss: 1057.2689 - val_loss: 1012.2247 - 3s/epoch - 3s/step\n",
            "60 images processed\n",
            "1/1 - 3s - loss: 1078.5282 - val_loss: 1107.8523 - 3s/epoch - 3s/step\n",
            "70 images processed\n",
            "1/1 - 3s - loss: 1158.7716 - val_loss: 1028.9080 - 3s/epoch - 3s/step\n",
            "80 images processed\n",
            "1/1 - 3s - loss: 1031.1503 - val_loss: 1046.5847 - 3s/epoch - 3s/step\n",
            "90 images processed\n",
            "1/1 - 3s - loss: 797.4772 - val_loss: 1254.0370 - 3s/epoch - 3s/step\n",
            "100 images processed\n",
            "1/1 - 3s - loss: 1255.0254 - val_loss: 1320.7103 - 3s/epoch - 3s/step\n"
          ]
        },
        {
          "metadata": {
            "tags": null
          },
          "name": "stderr",
          "output_type": "stream",
          "text": [
            "WARNING:absl:Found untraced functions such as restored_function_body, restored_function_body, restored_function_body, restored_function_body, restored_function_body while saving (showing 5 of 118). These functions will not be directly callable after loading.\n"
          ]
        },
        {
          "metadata": {
            "tags": null
          },
          "name": "stdout",
          "output_type": "stream",
          "text": [
            "INFO:tensorflow:Assets written to: /content/gdrive/MyDrive/project deepmag/saved model 10k epoch2/assets\n"
          ]
        },
        {
          "metadata": {
            "tags": null
          },
          "name": "stderr",
          "output_type": "stream",
          "text": [
            "INFO:tensorflow:Assets written to: /content/gdrive/MyDrive/project deepmag/saved model 10k epoch2/assets\n"
          ]
        },
        {
          "metadata": {
            "tags": null
          },
          "name": "stdout",
          "output_type": "stream",
          "text": [
            "110 images processed\n",
            "1/1 - 3s - loss: 1032.6045 - val_loss: 1254.5612 - 3s/epoch - 3s/step\n",
            "120 images processed\n",
            "1/1 - 3s - loss: 1119.6780 - val_loss: 1028.2111 - 3s/epoch - 3s/step\n",
            "130 images processed\n",
            "1/1 - 3s - loss: 990.4295 - val_loss: 828.2235 - 3s/epoch - 3s/step\n",
            "140 images processed\n",
            "1/1 - 3s - loss: 1069.0311 - val_loss: 1011.6366 - 3s/epoch - 3s/step\n",
            "150 images processed\n",
            "1/1 - 3s - loss: 776.6657 - val_loss: 1045.8656 - 3s/epoch - 3s/step\n",
            "160 images processed\n",
            "1/1 - 3s - loss: 938.7162 - val_loss: 1083.1354 - 3s/epoch - 3s/step\n",
            "170 images processed\n",
            "1/1 - 3s - loss: 1120.5392 - val_loss: 887.9855 - 3s/epoch - 3s/step\n",
            "180 images processed\n",
            "1/1 - 3s - loss: 1121.6531 - val_loss: 1041.4580 - 3s/epoch - 3s/step\n",
            "190 images processed\n",
            "1/1 - 3s - loss: 1159.5516 - val_loss: 1264.5192 - 3s/epoch - 3s/step\n",
            "200 images processed\n",
            "1/1 - 3s - loss: 1143.7806 - val_loss: 1068.0291 - 3s/epoch - 3s/step\n"
          ]
        },
        {
          "metadata": {
            "tags": null
          },
          "name": "stderr",
          "output_type": "stream",
          "text": [
            "WARNING:absl:Found untraced functions such as restored_function_body, restored_function_body, restored_function_body, restored_function_body, restored_function_body while saving (showing 5 of 118). These functions will not be directly callable after loading.\n"
          ]
        },
        {
          "metadata": {
            "tags": null
          },
          "name": "stdout",
          "output_type": "stream",
          "text": [
            "INFO:tensorflow:Assets written to: /content/gdrive/MyDrive/project deepmag/saved model 10k epoch2/assets\n"
          ]
        },
        {
          "metadata": {
            "tags": null
          },
          "name": "stderr",
          "output_type": "stream",
          "text": [
            "INFO:tensorflow:Assets written to: /content/gdrive/MyDrive/project deepmag/saved model 10k epoch2/assets\n"
          ]
        },
        {
          "metadata": {
            "tags": null
          },
          "name": "stdout",
          "output_type": "stream",
          "text": [
            "210 images processed\n",
            "1/1 - 3s - loss: 1020.2939 - val_loss: 766.8464 - 3s/epoch - 3s/step\n",
            "220 images processed\n",
            "1/1 - 3s - loss: 1053.0242 - val_loss: 882.2867 - 3s/epoch - 3s/step\n",
            "230 images processed\n",
            "1/1 - 3s - loss: 721.4213 - val_loss: 937.4899 - 3s/epoch - 3s/step\n",
            "240 images processed\n",
            "1/1 - 3s - loss: 806.9669 - val_loss: 733.8892 - 3s/epoch - 3s/step\n",
            "250 images processed\n",
            "1/1 - 3s - loss: 1022.6129 - val_loss: 950.2634 - 3s/epoch - 3s/step\n",
            "260 images processed\n",
            "1/1 - 3s - loss: 875.2257 - val_loss: 1015.9694 - 3s/epoch - 3s/step\n",
            "270 images processed\n",
            "1/1 - 3s - loss: 933.8045 - val_loss: 937.3970 - 3s/epoch - 3s/step\n",
            "280 images processed\n",
            "1/1 - 3s - loss: 922.2762 - val_loss: 897.1178 - 3s/epoch - 3s/step\n",
            "290 images processed\n",
            "1/1 - 3s - loss: 964.4753 - val_loss: 898.2615 - 3s/epoch - 3s/step\n",
            "300 images processed\n",
            "1/1 - 3s - loss: 912.3358 - val_loss: 756.2905 - 3s/epoch - 3s/step\n"
          ]
        },
        {
          "metadata": {
            "tags": null
          },
          "name": "stderr",
          "output_type": "stream",
          "text": [
            "WARNING:absl:Found untraced functions such as restored_function_body, restored_function_body, restored_function_body, restored_function_body, restored_function_body while saving (showing 5 of 118). These functions will not be directly callable after loading.\n"
          ]
        },
        {
          "metadata": {
            "tags": null
          },
          "name": "stdout",
          "output_type": "stream",
          "text": [
            "INFO:tensorflow:Assets written to: /content/gdrive/MyDrive/project deepmag/saved model 10k epoch2/assets\n"
          ]
        },
        {
          "metadata": {
            "tags": null
          },
          "name": "stderr",
          "output_type": "stream",
          "text": [
            "INFO:tensorflow:Assets written to: /content/gdrive/MyDrive/project deepmag/saved model 10k epoch2/assets\n"
          ]
        },
        {
          "metadata": {
            "tags": null
          },
          "name": "stdout",
          "output_type": "stream",
          "text": [
            "310 images processed\n",
            "1/1 - 3s - loss: 830.2338 - val_loss: 860.7913 - 3s/epoch - 3s/step\n",
            "320 images processed\n",
            "1/1 - 3s - loss: 1341.8911 - val_loss: 933.4269 - 3s/epoch - 3s/step\n",
            "330 images processed\n",
            "1/1 - 3s - loss: 889.6517 - val_loss: 866.0804 - 3s/epoch - 3s/step\n",
            "340 images processed\n",
            "1/1 - 3s - loss: 1109.5826 - val_loss: 832.2010 - 3s/epoch - 3s/step\n",
            "350 images processed\n",
            "1/1 - 3s - loss: 833.5740 - val_loss: 798.1751 - 3s/epoch - 3s/step\n",
            "360 images processed\n",
            "1/1 - 3s - loss: 1136.3726 - val_loss: 966.0938 - 3s/epoch - 3s/step\n",
            "370 images processed\n",
            "1/1 - 3s - loss: 863.7374 - val_loss: 853.3873 - 3s/epoch - 3s/step\n",
            "380 images processed\n",
            "1/1 - 3s - loss: 944.9723 - val_loss: 847.0201 - 3s/epoch - 3s/step\n",
            "390 images processed\n",
            "1/1 - 3s - loss: 859.9129 - val_loss: 820.2580 - 3s/epoch - 3s/step\n",
            "400 images processed\n",
            "1/1 - 3s - loss: 1002.6239 - val_loss: 801.9910 - 3s/epoch - 3s/step\n"
          ]
        },
        {
          "metadata": {
            "tags": null
          },
          "name": "stderr",
          "output_type": "stream",
          "text": [
            "WARNING:absl:Found untraced functions such as restored_function_body, restored_function_body, restored_function_body, restored_function_body, restored_function_body while saving (showing 5 of 118). These functions will not be directly callable after loading.\n"
          ]
        },
        {
          "metadata": {
            "tags": null
          },
          "name": "stdout",
          "output_type": "stream",
          "text": [
            "INFO:tensorflow:Assets written to: /content/gdrive/MyDrive/project deepmag/saved model 10k epoch2/assets\n"
          ]
        },
        {
          "metadata": {
            "tags": null
          },
          "name": "stderr",
          "output_type": "stream",
          "text": [
            "INFO:tensorflow:Assets written to: /content/gdrive/MyDrive/project deepmag/saved model 10k epoch2/assets\n"
          ]
        },
        {
          "metadata": {
            "tags": null
          },
          "name": "stdout",
          "output_type": "stream",
          "text": [
            "410 images processed\n",
            "1/1 - 3s - loss: 1050.4059 - val_loss: 762.7917 - 3s/epoch - 3s/step\n",
            "420 images processed\n",
            "1/1 - 3s - loss: 734.8993 - val_loss: 712.0441 - 3s/epoch - 3s/step\n",
            "430 images processed\n",
            "1/1 - 3s - loss: 815.5295 - val_loss: 856.5018 - 3s/epoch - 3s/step\n",
            "440 images processed\n",
            "1/1 - 3s - loss: 891.8750 - val_loss: 1078.0605 - 3s/epoch - 3s/step\n",
            "450 images processed\n",
            "1/1 - 3s - loss: 1139.9791 - val_loss: 715.6670 - 3s/epoch - 3s/step\n",
            "460 images processed\n",
            "1/1 - 3s - loss: 916.6626 - val_loss: 1128.2772 - 3s/epoch - 3s/step\n",
            "470 images processed\n",
            "1/1 - 3s - loss: 1184.4510 - val_loss: 1049.2461 - 3s/epoch - 3s/step\n",
            "480 images processed\n",
            "1/1 - 3s - loss: 1021.7292 - val_loss: 869.1016 - 3s/epoch - 3s/step\n",
            "490 images processed\n",
            "1/1 - 3s - loss: 1123.2600 - val_loss: 1046.6268 - 3s/epoch - 3s/step\n",
            "500 images processed\n",
            "1/1 - 3s - loss: 1181.4980 - val_loss: 1130.2452 - 3s/epoch - 3s/step\n"
          ]
        },
        {
          "metadata": {
            "tags": null
          },
          "name": "stderr",
          "output_type": "stream",
          "text": [
            "WARNING:absl:Found untraced functions such as restored_function_body, restored_function_body, restored_function_body, restored_function_body, restored_function_body while saving (showing 5 of 118). These functions will not be directly callable after loading.\n"
          ]
        },
        {
          "metadata": {
            "tags": null
          },
          "name": "stdout",
          "output_type": "stream",
          "text": [
            "INFO:tensorflow:Assets written to: /content/gdrive/MyDrive/project deepmag/saved model 10k epoch2/assets\n"
          ]
        },
        {
          "metadata": {
            "tags": null
          },
          "name": "stderr",
          "output_type": "stream",
          "text": [
            "INFO:tensorflow:Assets written to: /content/gdrive/MyDrive/project deepmag/saved model 10k epoch2/assets\n"
          ]
        },
        {
          "metadata": {
            "tags": null
          },
          "name": "stdout",
          "output_type": "stream",
          "text": [
            "510 images processed\n",
            "1/1 - 3s - loss: 681.2361 - val_loss: 658.5826 - 3s/epoch - 3s/step\n",
            "520 images processed\n",
            "1/1 - 3s - loss: 744.1315 - val_loss: 858.3298 - 3s/epoch - 3s/step\n",
            "530 images processed\n",
            "1/1 - 3s - loss: 1157.2200 - val_loss: 935.4240 - 3s/epoch - 3s/step\n",
            "540 images processed\n",
            "1/1 - 3s - loss: 1192.4877 - val_loss: 960.3763 - 3s/epoch - 3s/step\n",
            "550 images processed\n",
            "1/1 - 3s - loss: 1097.1128 - val_loss: 826.3478 - 3s/epoch - 3s/step\n",
            "560 images processed\n",
            "1/1 - 3s - loss: 934.6306 - val_loss: 890.6618 - 3s/epoch - 3s/step\n",
            "570 images processed\n",
            "1/1 - 3s - loss: 824.9038 - val_loss: 986.4672 - 3s/epoch - 3s/step\n",
            "580 images processed\n",
            "1/1 - 3s - loss: 953.2969 - val_loss: 718.3270 - 3s/epoch - 3s/step\n",
            "590 images processed\n",
            "1/1 - 3s - loss: 839.7841 - val_loss: 965.1310 - 3s/epoch - 3s/step\n",
            "600 images processed\n",
            "1/1 - 3s - loss: 833.5107 - val_loss: 1057.2915 - 3s/epoch - 3s/step\n"
          ]
        },
        {
          "metadata": {
            "tags": null
          },
          "name": "stderr",
          "output_type": "stream",
          "text": [
            "WARNING:absl:Found untraced functions such as restored_function_body, restored_function_body, restored_function_body, restored_function_body, restored_function_body while saving (showing 5 of 118). These functions will not be directly callable after loading.\n"
          ]
        },
        {
          "metadata": {
            "tags": null
          },
          "name": "stdout",
          "output_type": "stream",
          "text": [
            "INFO:tensorflow:Assets written to: /content/gdrive/MyDrive/project deepmag/saved model 10k epoch2/assets\n"
          ]
        },
        {
          "metadata": {
            "tags": null
          },
          "name": "stderr",
          "output_type": "stream",
          "text": [
            "INFO:tensorflow:Assets written to: /content/gdrive/MyDrive/project deepmag/saved model 10k epoch2/assets\n"
          ]
        },
        {
          "metadata": {
            "tags": null
          },
          "name": "stdout",
          "output_type": "stream",
          "text": [
            "610 images processed\n",
            "1/1 - 3s - loss: 845.9403 - val_loss: 801.6548 - 3s/epoch - 3s/step\n",
            "620 images processed\n",
            "1/1 - 3s - loss: 783.4459 - val_loss: 681.1208 - 3s/epoch - 3s/step\n",
            "630 images processed\n",
            "1/1 - 3s - loss: 937.3143 - val_loss: 728.4708 - 3s/epoch - 3s/step\n",
            "640 images processed\n",
            "1/1 - 3s - loss: 876.3070 - val_loss: 813.3870 - 3s/epoch - 3s/step\n",
            "650 images processed\n",
            "1/1 - 3s - loss: 1034.7472 - val_loss: 949.3146 - 3s/epoch - 3s/step\n",
            "660 images processed\n",
            "1/1 - 3s - loss: 1034.7935 - val_loss: 839.0806 - 3s/epoch - 3s/step\n",
            "670 images processed\n",
            "1/1 - 3s - loss: 732.1882 - val_loss: 818.5966 - 3s/epoch - 3s/step\n",
            "680 images processed\n",
            "1/1 - 3s - loss: 874.8885 - val_loss: 714.0341 - 3s/epoch - 3s/step\n",
            "690 images processed\n",
            "1/1 - 3s - loss: 1063.6913 - val_loss: 984.2958 - 3s/epoch - 3s/step\n",
            "700 images processed\n",
            "1/1 - 3s - loss: 950.3086 - val_loss: 831.2188 - 3s/epoch - 3s/step\n"
          ]
        },
        {
          "metadata": {
            "tags": null
          },
          "name": "stderr",
          "output_type": "stream",
          "text": [
            "WARNING:absl:Found untraced functions such as restored_function_body, restored_function_body, restored_function_body, restored_function_body, restored_function_body while saving (showing 5 of 118). These functions will not be directly callable after loading.\n"
          ]
        },
        {
          "metadata": {
            "tags": null
          },
          "name": "stdout",
          "output_type": "stream",
          "text": [
            "INFO:tensorflow:Assets written to: /content/gdrive/MyDrive/project deepmag/saved model 10k epoch2/assets\n"
          ]
        },
        {
          "metadata": {
            "tags": null
          },
          "name": "stderr",
          "output_type": "stream",
          "text": [
            "INFO:tensorflow:Assets written to: /content/gdrive/MyDrive/project deepmag/saved model 10k epoch2/assets\n"
          ]
        },
        {
          "metadata": {
            "tags": null
          },
          "name": "stdout",
          "output_type": "stream",
          "text": [
            "710 images processed\n",
            "1/1 - 3s - loss: 937.5713 - val_loss: 945.8641 - 3s/epoch - 3s/step\n",
            "720 images processed\n",
            "1/1 - 3s - loss: 835.7243 - val_loss: 1019.5535 - 3s/epoch - 3s/step\n",
            "730 images processed\n",
            "1/1 - 3s - loss: 924.1622 - val_loss: 785.7446 - 3s/epoch - 3s/step\n",
            "740 images processed\n",
            "1/1 - 3s - loss: 850.7286 - val_loss: 1019.9022 - 3s/epoch - 3s/step\n",
            "750 images processed\n",
            "1/1 - 3s - loss: 1046.1941 - val_loss: 858.9989 - 3s/epoch - 3s/step\n",
            "760 images processed\n",
            "1/1 - 3s - loss: 902.0839 - val_loss: 897.1635 - 3s/epoch - 3s/step\n",
            "770 images processed\n",
            "1/1 - 3s - loss: 835.7733 - val_loss: 827.7814 - 3s/epoch - 3s/step\n",
            "780 images processed\n",
            "1/1 - 3s - loss: 1060.8679 - val_loss: 816.0903 - 3s/epoch - 3s/step\n",
            "790 images processed\n",
            "1/1 - 3s - loss: 1299.8839 - val_loss: 753.1347 - 3s/epoch - 3s/step\n",
            "800 images processed\n",
            "1/1 - 3s - loss: 774.8672 - val_loss: 762.1705 - 3s/epoch - 3s/step\n"
          ]
        },
        {
          "metadata": {
            "tags": null
          },
          "name": "stderr",
          "output_type": "stream",
          "text": [
            "WARNING:absl:Found untraced functions such as restored_function_body, restored_function_body, restored_function_body, restored_function_body, restored_function_body while saving (showing 5 of 118). These functions will not be directly callable after loading.\n"
          ]
        },
        {
          "metadata": {
            "tags": null
          },
          "name": "stdout",
          "output_type": "stream",
          "text": [
            "INFO:tensorflow:Assets written to: /content/gdrive/MyDrive/project deepmag/saved model 10k epoch2/assets\n"
          ]
        },
        {
          "metadata": {
            "tags": null
          },
          "name": "stderr",
          "output_type": "stream",
          "text": [
            "INFO:tensorflow:Assets written to: /content/gdrive/MyDrive/project deepmag/saved model 10k epoch2/assets\n"
          ]
        },
        {
          "metadata": {
            "tags": null
          },
          "name": "stdout",
          "output_type": "stream",
          "text": [
            "810 images processed\n",
            "1/1 - 3s - loss: 1037.2570 - val_loss: 776.1489 - 3s/epoch - 3s/step\n",
            "820 images processed\n",
            "1/1 - 3s - loss: 1039.2209 - val_loss: 882.1830 - 3s/epoch - 3s/step\n",
            "830 images processed\n",
            "1/1 - 3s - loss: 967.7467 - val_loss: 729.5253 - 3s/epoch - 3s/step\n",
            "840 images processed\n",
            "1/1 - 3s - loss: 853.5526 - val_loss: 943.9525 - 3s/epoch - 3s/step\n",
            "850 images processed\n",
            "1/1 - 3s - loss: 891.0106 - val_loss: 947.0693 - 3s/epoch - 3s/step\n",
            "860 images processed\n",
            "1/1 - 3s - loss: 924.6899 - val_loss: 761.7238 - 3s/epoch - 3s/step\n",
            "870 images processed\n",
            "1/1 - 3s - loss: 863.8412 - val_loss: 844.9608 - 3s/epoch - 3s/step\n",
            "880 images processed\n",
            "1/1 - 3s - loss: 746.0107 - val_loss: 890.0968 - 3s/epoch - 3s/step\n",
            "890 images processed\n",
            "1/1 - 3s - loss: 859.6759 - val_loss: 941.8048 - 3s/epoch - 3s/step\n",
            "900 images processed\n",
            "1/1 - 3s - loss: 741.6558 - val_loss: 710.3592 - 3s/epoch - 3s/step\n"
          ]
        },
        {
          "metadata": {
            "tags": null
          },
          "name": "stderr",
          "output_type": "stream",
          "text": [
            "WARNING:absl:Found untraced functions such as restored_function_body, restored_function_body, restored_function_body, restored_function_body, restored_function_body while saving (showing 5 of 118). These functions will not be directly callable after loading.\n"
          ]
        },
        {
          "metadata": {
            "tags": null
          },
          "name": "stdout",
          "output_type": "stream",
          "text": [
            "INFO:tensorflow:Assets written to: /content/gdrive/MyDrive/project deepmag/saved model 10k epoch2/assets\n"
          ]
        },
        {
          "metadata": {
            "tags": null
          },
          "name": "stderr",
          "output_type": "stream",
          "text": [
            "INFO:tensorflow:Assets written to: /content/gdrive/MyDrive/project deepmag/saved model 10k epoch2/assets\n"
          ]
        },
        {
          "metadata": {
            "tags": null
          },
          "name": "stdout",
          "output_type": "stream",
          "text": [
            "910 images processed\n",
            "1/1 - 3s - loss: 925.2518 - val_loss: 867.2692 - 3s/epoch - 3s/step\n",
            "920 images processed\n",
            "1/1 - 3s - loss: 1137.1814 - val_loss: 761.5320 - 3s/epoch - 3s/step\n",
            "930 images processed\n",
            "1/1 - 3s - loss: 971.1349 - val_loss: 802.7061 - 3s/epoch - 3s/step\n",
            "940 images processed\n",
            "1/1 - 3s - loss: 761.0273 - val_loss: 848.2975 - 3s/epoch - 3s/step\n",
            "950 images processed\n",
            "1/1 - 3s - loss: 849.2132 - val_loss: 852.7734 - 3s/epoch - 3s/step\n",
            "960 images processed\n",
            "1/1 - 3s - loss: 1048.8335 - val_loss: 832.8698 - 3s/epoch - 3s/step\n",
            "970 images processed\n",
            "1/1 - 3s - loss: 1007.6115 - val_loss: 778.1210 - 3s/epoch - 3s/step\n",
            "980 images processed\n",
            "1/1 - 3s - loss: 998.7150 - val_loss: 955.4340 - 3s/epoch - 3s/step\n",
            "990 images processed\n",
            "1/1 - 3s - loss: 1074.8602 - val_loss: 874.8141 - 3s/epoch - 3s/step\n",
            "1000 images processed\n",
            "1/1 - 3s - loss: 908.5158 - val_loss: 933.1875 - 3s/epoch - 3s/step\n"
          ]
        },
        {
          "metadata": {
            "tags": null
          },
          "name": "stderr",
          "output_type": "stream",
          "text": [
            "WARNING:absl:Found untraced functions such as restored_function_body, restored_function_body, restored_function_body, restored_function_body, restored_function_body while saving (showing 5 of 118). These functions will not be directly callable after loading.\n"
          ]
        },
        {
          "metadata": {
            "tags": null
          },
          "name": "stdout",
          "output_type": "stream",
          "text": [
            "INFO:tensorflow:Assets written to: /content/gdrive/MyDrive/project deepmag/saved model 10k epoch2/assets\n"
          ]
        },
        {
          "metadata": {
            "tags": null
          },
          "name": "stderr",
          "output_type": "stream",
          "text": [
            "INFO:tensorflow:Assets written to: /content/gdrive/MyDrive/project deepmag/saved model 10k epoch2/assets\n"
          ]
        },
        {
          "metadata": {
            "tags": null
          },
          "name": "stdout",
          "output_type": "stream",
          "text": [
            "1010 images processed\n",
            "1/1 - 3s - loss: 830.0710 - val_loss: 872.0417 - 3s/epoch - 3s/step\n",
            "1020 images processed\n",
            "1/1 - 3s - loss: 818.6814 - val_loss: 1057.5808 - 3s/epoch - 3s/step\n",
            "1030 images processed\n",
            "1/1 - 3s - loss: 893.2057 - val_loss: 807.3974 - 3s/epoch - 3s/step\n",
            "1040 images processed\n",
            "1/1 - 3s - loss: 708.9065 - val_loss: 921.6005 - 3s/epoch - 3s/step\n",
            "1050 images processed\n",
            "1/1 - 3s - loss: 722.5798 - val_loss: 780.4995 - 3s/epoch - 3s/step\n",
            "1060 images processed\n",
            "1/1 - 3s - loss: 706.3784 - val_loss: 832.6946 - 3s/epoch - 3s/step\n",
            "1070 images processed\n",
            "1/1 - 3s - loss: 833.7554 - val_loss: 797.6002 - 3s/epoch - 3s/step\n",
            "1080 images processed\n",
            "1/1 - 3s - loss: 781.2381 - val_loss: 698.7416 - 3s/epoch - 3s/step\n",
            "1090 images processed\n",
            "1/1 - 3s - loss: 1130.7487 - val_loss: 772.7719 - 3s/epoch - 3s/step\n",
            "1100 images processed\n",
            "1/1 - 3s - loss: 967.4354 - val_loss: 879.3409 - 3s/epoch - 3s/step\n"
          ]
        },
        {
          "metadata": {
            "tags": null
          },
          "name": "stderr",
          "output_type": "stream",
          "text": [
            "WARNING:absl:Found untraced functions such as restored_function_body, restored_function_body, restored_function_body, restored_function_body, restored_function_body while saving (showing 5 of 118). These functions will not be directly callable after loading.\n"
          ]
        },
        {
          "metadata": {
            "tags": null
          },
          "name": "stdout",
          "output_type": "stream",
          "text": [
            "INFO:tensorflow:Assets written to: /content/gdrive/MyDrive/project deepmag/saved model 10k epoch2/assets\n"
          ]
        },
        {
          "metadata": {
            "tags": null
          },
          "name": "stderr",
          "output_type": "stream",
          "text": [
            "INFO:tensorflow:Assets written to: /content/gdrive/MyDrive/project deepmag/saved model 10k epoch2/assets\n"
          ]
        },
        {
          "metadata": {
            "tags": null
          },
          "name": "stdout",
          "output_type": "stream",
          "text": [
            "1110 images processed\n",
            "1/1 - 3s - loss: 678.1392 - val_loss: 771.3231 - 3s/epoch - 3s/step\n",
            "1120 images processed\n",
            "1/1 - 3s - loss: 760.4412 - val_loss: 983.0370 - 3s/epoch - 3s/step\n",
            "1130 images processed\n",
            "1/1 - 3s - loss: 791.3557 - val_loss: 752.2646 - 3s/epoch - 3s/step\n",
            "1140 images processed\n",
            "1/1 - 3s - loss: 922.2004 - val_loss: 918.8207 - 3s/epoch - 3s/step\n",
            "1150 images processed\n",
            "1/1 - 3s - loss: 1044.8730 - val_loss: 864.4680 - 3s/epoch - 3s/step\n",
            "1160 images processed\n",
            "1/1 - 3s - loss: 955.9388 - val_loss: 685.2103 - 3s/epoch - 3s/step\n",
            "1170 images processed\n",
            "1/1 - 3s - loss: 875.8079 - val_loss: 746.6017 - 3s/epoch - 3s/step\n",
            "1180 images processed\n",
            "1/1 - 3s - loss: 806.6458 - val_loss: 844.2798 - 3s/epoch - 3s/step\n",
            "1190 images processed\n",
            "1/1 - 3s - loss: 753.9014 - val_loss: 927.5477 - 3s/epoch - 3s/step\n",
            "1200 images processed\n",
            "1/1 - 3s - loss: 1074.6556 - val_loss: 899.8698 - 3s/epoch - 3s/step\n"
          ]
        },
        {
          "metadata": {
            "tags": null
          },
          "name": "stderr",
          "output_type": "stream",
          "text": [
            "WARNING:absl:Found untraced functions such as restored_function_body, restored_function_body, restored_function_body, restored_function_body, restored_function_body while saving (showing 5 of 118). These functions will not be directly callable after loading.\n"
          ]
        },
        {
          "metadata": {
            "tags": null
          },
          "name": "stdout",
          "output_type": "stream",
          "text": [
            "INFO:tensorflow:Assets written to: /content/gdrive/MyDrive/project deepmag/saved model 10k epoch2/assets\n"
          ]
        },
        {
          "metadata": {
            "tags": null
          },
          "name": "stderr",
          "output_type": "stream",
          "text": [
            "INFO:tensorflow:Assets written to: /content/gdrive/MyDrive/project deepmag/saved model 10k epoch2/assets\n"
          ]
        },
        {
          "metadata": {
            "tags": null
          },
          "name": "stdout",
          "output_type": "stream",
          "text": [
            "1210 images processed\n",
            "1/1 - 3s - loss: 946.2177 - val_loss: 1085.5884 - 3s/epoch - 3s/step\n",
            "1220 images processed\n",
            "1/1 - 3s - loss: 578.5367 - val_loss: 809.0022 - 3s/epoch - 3s/step\n",
            "1230 images processed\n",
            "1/1 - 3s - loss: 902.5015 - val_loss: 948.1454 - 3s/epoch - 3s/step\n",
            "1240 images processed\n",
            "1/1 - 3s - loss: 928.0029 - val_loss: 904.7822 - 3s/epoch - 3s/step\n",
            "1250 images processed\n",
            "1/1 - 3s - loss: 769.9177 - val_loss: 611.0857 - 3s/epoch - 3s/step\n",
            "1260 images processed\n",
            "1/1 - 3s - loss: 796.4521 - val_loss: 755.7891 - 3s/epoch - 3s/step\n",
            "1270 images processed\n",
            "1/1 - 3s - loss: 823.5187 - val_loss: 844.7991 - 3s/epoch - 3s/step\n",
            "1280 images processed\n",
            "1/1 - 3s - loss: 818.8820 - val_loss: 732.9815 - 3s/epoch - 3s/step\n",
            "1290 images processed\n",
            "1/1 - 3s - loss: 868.9720 - val_loss: 737.9938 - 3s/epoch - 3s/step\n",
            "1300 images processed\n",
            "1/1 - 3s - loss: 934.6403 - val_loss: 626.5109 - 3s/epoch - 3s/step\n"
          ]
        },
        {
          "metadata": {
            "tags": null
          },
          "name": "stderr",
          "output_type": "stream",
          "text": [
            "WARNING:absl:Found untraced functions such as restored_function_body, restored_function_body, restored_function_body, restored_function_body, restored_function_body while saving (showing 5 of 118). These functions will not be directly callable after loading.\n"
          ]
        },
        {
          "metadata": {
            "tags": null
          },
          "name": "stdout",
          "output_type": "stream",
          "text": [
            "INFO:tensorflow:Assets written to: /content/gdrive/MyDrive/project deepmag/saved model 10k epoch2/assets\n"
          ]
        },
        {
          "metadata": {
            "tags": null
          },
          "name": "stderr",
          "output_type": "stream",
          "text": [
            "INFO:tensorflow:Assets written to: /content/gdrive/MyDrive/project deepmag/saved model 10k epoch2/assets\n"
          ]
        },
        {
          "metadata": {
            "tags": null
          },
          "name": "stdout",
          "output_type": "stream",
          "text": [
            "1310 images processed\n",
            "1/1 - 3s - loss: 1058.5037 - val_loss: 794.4488 - 3s/epoch - 3s/step\n",
            "1320 images processed\n",
            "1/1 - 3s - loss: 931.7526 - val_loss: 612.4400 - 3s/epoch - 3s/step\n",
            "1330 images processed\n",
            "1/1 - 3s - loss: 885.7061 - val_loss: 831.1851 - 3s/epoch - 3s/step\n",
            "1340 images processed\n",
            "1/1 - 3s - loss: 925.7433 - val_loss: 948.6887 - 3s/epoch - 3s/step\n",
            "1350 images processed\n",
            "1/1 - 3s - loss: 876.7535 - val_loss: 886.0613 - 3s/epoch - 3s/step\n",
            "1360 images processed\n",
            "1/1 - 3s - loss: 879.6735 - val_loss: 656.5734 - 3s/epoch - 3s/step\n",
            "1370 images processed\n",
            "1/1 - 3s - loss: 1049.0001 - val_loss: 810.7830 - 3s/epoch - 3s/step\n",
            "1380 images processed\n",
            "1/1 - 3s - loss: 935.5280 - val_loss: 755.0570 - 3s/epoch - 3s/step\n",
            "1390 images processed\n",
            "1/1 - 3s - loss: 812.7280 - val_loss: 894.1829 - 3s/epoch - 3s/step\n",
            "1400 images processed\n",
            "1/1 - 3s - loss: 918.4188 - val_loss: 726.8923 - 3s/epoch - 3s/step\n"
          ]
        },
        {
          "metadata": {
            "tags": null
          },
          "name": "stderr",
          "output_type": "stream",
          "text": [
            "WARNING:absl:Found untraced functions such as restored_function_body, restored_function_body, restored_function_body, restored_function_body, restored_function_body while saving (showing 5 of 118). These functions will not be directly callable after loading.\n"
          ]
        },
        {
          "metadata": {
            "tags": null
          },
          "name": "stdout",
          "output_type": "stream",
          "text": [
            "INFO:tensorflow:Assets written to: /content/gdrive/MyDrive/project deepmag/saved model 10k epoch2/assets\n"
          ]
        },
        {
          "metadata": {
            "tags": null
          },
          "name": "stderr",
          "output_type": "stream",
          "text": [
            "INFO:tensorflow:Assets written to: /content/gdrive/MyDrive/project deepmag/saved model 10k epoch2/assets\n"
          ]
        },
        {
          "metadata": {
            "tags": null
          },
          "name": "stdout",
          "output_type": "stream",
          "text": [
            "1410 images processed\n",
            "1/1 - 3s - loss: 849.5543 - val_loss: 768.3243 - 3s/epoch - 3s/step\n",
            "1420 images processed\n",
            "1/1 - 3s - loss: 936.3119 - val_loss: 965.6451 - 3s/epoch - 3s/step\n",
            "1430 images processed\n",
            "1/1 - 3s - loss: 947.7674 - val_loss: 688.5784 - 3s/epoch - 3s/step\n",
            "1440 images processed\n",
            "1/1 - 3s - loss: 1001.0873 - val_loss: 898.3860 - 3s/epoch - 3s/step\n",
            "1450 images processed\n",
            "1/1 - 3s - loss: 805.5574 - val_loss: 859.0046 - 3s/epoch - 3s/step\n",
            "1460 images processed\n",
            "1/1 - 3s - loss: 858.6259 - val_loss: 831.3465 - 3s/epoch - 3s/step\n",
            "1470 images processed\n",
            "1/1 - 3s - loss: 792.6108 - val_loss: 735.3832 - 3s/epoch - 3s/step\n",
            "1480 images processed\n",
            "1/1 - 3s - loss: 805.6049 - val_loss: 626.7677 - 3s/epoch - 3s/step\n",
            "1490 images processed\n",
            "1/1 - 3s - loss: 817.1649 - val_loss: 651.1171 - 3s/epoch - 3s/step\n",
            "1500 images processed\n",
            "1/1 - 3s - loss: 860.8636 - val_loss: 809.0731 - 3s/epoch - 3s/step\n"
          ]
        },
        {
          "metadata": {
            "tags": null
          },
          "name": "stderr",
          "output_type": "stream",
          "text": [
            "WARNING:absl:Found untraced functions such as restored_function_body, restored_function_body, restored_function_body, restored_function_body, restored_function_body while saving (showing 5 of 118). These functions will not be directly callable after loading.\n"
          ]
        },
        {
          "metadata": {
            "tags": null
          },
          "name": "stdout",
          "output_type": "stream",
          "text": [
            "INFO:tensorflow:Assets written to: /content/gdrive/MyDrive/project deepmag/saved model 10k epoch2/assets\n"
          ]
        },
        {
          "metadata": {
            "tags": null
          },
          "name": "stderr",
          "output_type": "stream",
          "text": [
            "INFO:tensorflow:Assets written to: /content/gdrive/MyDrive/project deepmag/saved model 10k epoch2/assets\n"
          ]
        },
        {
          "metadata": {
            "tags": null
          },
          "name": "stdout",
          "output_type": "stream",
          "text": [
            "1510 images processed\n",
            "1/1 - 3s - loss: 695.1324 - val_loss: 964.1416 - 3s/epoch - 3s/step\n",
            "1520 images processed\n",
            "1/1 - 3s - loss: 766.8223 - val_loss: 730.6418 - 3s/epoch - 3s/step\n",
            "1530 images processed\n",
            "1/1 - 3s - loss: 854.8768 - val_loss: 761.3145 - 3s/epoch - 3s/step\n",
            "1540 images processed\n",
            "1/1 - 3s - loss: 825.8287 - val_loss: 815.2835 - 3s/epoch - 3s/step\n",
            "1550 images processed\n",
            "1/1 - 3s - loss: 796.9913 - val_loss: 662.1309 - 3s/epoch - 3s/step\n",
            "1560 images processed\n",
            "1/1 - 3s - loss: 817.6596 - val_loss: 931.4701 - 3s/epoch - 3s/step\n",
            "1570 images processed\n",
            "1/1 - 3s - loss: 797.9425 - val_loss: 994.8090 - 3s/epoch - 3s/step\n",
            "1580 images processed\n",
            "1/1 - 3s - loss: 709.3578 - val_loss: 749.3958 - 3s/epoch - 3s/step\n",
            "1590 images processed\n",
            "1/1 - 3s - loss: 697.4164 - val_loss: 837.6012 - 3s/epoch - 3s/step\n",
            "1600 images processed\n",
            "1/1 - 3s - loss: 962.3655 - val_loss: 888.5319 - 3s/epoch - 3s/step\n"
          ]
        },
        {
          "metadata": {
            "tags": null
          },
          "name": "stderr",
          "output_type": "stream",
          "text": [
            "WARNING:absl:Found untraced functions such as restored_function_body, restored_function_body, restored_function_body, restored_function_body, restored_function_body while saving (showing 5 of 118). These functions will not be directly callable after loading.\n"
          ]
        },
        {
          "metadata": {
            "tags": null
          },
          "name": "stdout",
          "output_type": "stream",
          "text": [
            "INFO:tensorflow:Assets written to: /content/gdrive/MyDrive/project deepmag/saved model 10k epoch2/assets\n"
          ]
        },
        {
          "metadata": {
            "tags": null
          },
          "name": "stderr",
          "output_type": "stream",
          "text": [
            "INFO:tensorflow:Assets written to: /content/gdrive/MyDrive/project deepmag/saved model 10k epoch2/assets\n"
          ]
        },
        {
          "metadata": {
            "tags": null
          },
          "name": "stdout",
          "output_type": "stream",
          "text": [
            "1610 images processed\n",
            "1/1 - 3s - loss: 1053.3800 - val_loss: 725.7236 - 3s/epoch - 3s/step\n",
            "1620 images processed\n",
            "1/1 - 3s - loss: 897.5985 - val_loss: 804.8265 - 3s/epoch - 3s/step\n",
            "1630 images processed\n",
            "1/1 - 3s - loss: 670.8292 - val_loss: 913.8791 - 3s/epoch - 3s/step\n",
            "1640 images processed\n",
            "1/1 - 3s - loss: 973.0916 - val_loss: 700.7449 - 3s/epoch - 3s/step\n",
            "1650 images processed\n",
            "1/1 - 3s - loss: 955.2068 - val_loss: 828.4176 - 3s/epoch - 3s/step\n",
            "1660 images processed\n",
            "1/1 - 3s - loss: 794.8625 - val_loss: 940.7316 - 3s/epoch - 3s/step\n",
            "1670 images processed\n",
            "1/1 - 3s - loss: 748.2812 - val_loss: 1064.0293 - 3s/epoch - 3s/step\n",
            "1680 images processed\n",
            "1/1 - 3s - loss: 896.5262 - val_loss: 890.1129 - 3s/epoch - 3s/step\n",
            "1690 images processed\n",
            "1/1 - 3s - loss: 901.0887 - val_loss: 744.2907 - 3s/epoch - 3s/step\n",
            "1700 images processed\n",
            "1/1 - 3s - loss: 1020.0936 - val_loss: 895.8674 - 3s/epoch - 3s/step\n"
          ]
        },
        {
          "metadata": {
            "tags": null
          },
          "name": "stderr",
          "output_type": "stream",
          "text": [
            "WARNING:absl:Found untraced functions such as restored_function_body, restored_function_body, restored_function_body, restored_function_body, restored_function_body while saving (showing 5 of 118). These functions will not be directly callable after loading.\n"
          ]
        },
        {
          "metadata": {
            "tags": null
          },
          "name": "stdout",
          "output_type": "stream",
          "text": [
            "INFO:tensorflow:Assets written to: /content/gdrive/MyDrive/project deepmag/saved model 10k epoch2/assets\n"
          ]
        },
        {
          "metadata": {
            "tags": null
          },
          "name": "stderr",
          "output_type": "stream",
          "text": [
            "INFO:tensorflow:Assets written to: /content/gdrive/MyDrive/project deepmag/saved model 10k epoch2/assets\n"
          ]
        },
        {
          "metadata": {
            "tags": null
          },
          "name": "stdout",
          "output_type": "stream",
          "text": [
            "1710 images processed\n",
            "1/1 - 3s - loss: 797.7079 - val_loss: 985.6168 - 3s/epoch - 3s/step\n",
            "1720 images processed\n",
            "1/1 - 3s - loss: 839.8616 - val_loss: 768.4807 - 3s/epoch - 3s/step\n",
            "1730 images processed\n",
            "1/1 - 3s - loss: 773.3248 - val_loss: 717.8230 - 3s/epoch - 3s/step\n",
            "1740 images processed\n",
            "1/1 - 3s - loss: 1068.6064 - val_loss: 777.2494 - 3s/epoch - 3s/step\n",
            "1750 images processed\n",
            "1/1 - 3s - loss: 993.2128 - val_loss: 843.6704 - 3s/epoch - 3s/step\n",
            "1760 images processed\n",
            "1/1 - 3s - loss: 977.0915 - val_loss: 835.8970 - 3s/epoch - 3s/step\n",
            "1770 images processed\n",
            "1/1 - 3s - loss: 841.1088 - val_loss: 705.0229 - 3s/epoch - 3s/step\n",
            "1780 images processed\n",
            "1/1 - 3s - loss: 884.9628 - val_loss: 1005.7562 - 3s/epoch - 3s/step\n",
            "1790 images processed\n",
            "1/1 - 3s - loss: 818.5756 - val_loss: 970.4334 - 3s/epoch - 3s/step\n",
            "1800 images processed\n",
            "1/1 - 3s - loss: 819.5428 - val_loss: 737.0597 - 3s/epoch - 3s/step\n"
          ]
        },
        {
          "metadata": {
            "tags": null
          },
          "name": "stderr",
          "output_type": "stream",
          "text": [
            "WARNING:absl:Found untraced functions such as restored_function_body, restored_function_body, restored_function_body, restored_function_body, restored_function_body while saving (showing 5 of 118). These functions will not be directly callable after loading.\n"
          ]
        },
        {
          "metadata": {
            "tags": null
          },
          "name": "stdout",
          "output_type": "stream",
          "text": [
            "INFO:tensorflow:Assets written to: /content/gdrive/MyDrive/project deepmag/saved model 10k epoch2/assets\n"
          ]
        },
        {
          "metadata": {
            "tags": null
          },
          "name": "stderr",
          "output_type": "stream",
          "text": [
            "INFO:tensorflow:Assets written to: /content/gdrive/MyDrive/project deepmag/saved model 10k epoch2/assets\n"
          ]
        },
        {
          "metadata": {
            "tags": null
          },
          "name": "stdout",
          "output_type": "stream",
          "text": [
            "1810 images processed\n",
            "1/1 - 3s - loss: 684.2962 - val_loss: 657.9589 - 3s/epoch - 3s/step\n",
            "1820 images processed\n",
            "1/1 - 3s - loss: 932.1769 - val_loss: 824.0997 - 3s/epoch - 3s/step\n",
            "1830 images processed\n",
            "1/1 - 3s - loss: 1053.8950 - val_loss: 989.3723 - 3s/epoch - 3s/step\n",
            "1840 images processed\n",
            "1/1 - 3s - loss: 859.7214 - val_loss: 694.1595 - 3s/epoch - 3s/step\n",
            "1850 images processed\n",
            "1/1 - 3s - loss: 770.9149 - val_loss: 890.8883 - 3s/epoch - 3s/step\n",
            "1860 images processed\n",
            "1/1 - 3s - loss: 641.2350 - val_loss: 702.4343 - 3s/epoch - 3s/step\n",
            "1870 images processed\n",
            "1/1 - 3s - loss: 743.4981 - val_loss: 1026.5374 - 3s/epoch - 3s/step\n",
            "1880 images processed\n",
            "1/1 - 3s - loss: 920.6249 - val_loss: 873.5491 - 3s/epoch - 3s/step\n",
            "1890 images processed\n",
            "1/1 - 3s - loss: 789.5027 - val_loss: 903.7488 - 3s/epoch - 3s/step\n",
            "1900 images processed\n",
            "1/1 - 3s - loss: 939.2484 - val_loss: 651.9307 - 3s/epoch - 3s/step\n"
          ]
        },
        {
          "metadata": {
            "tags": null
          },
          "name": "stderr",
          "output_type": "stream",
          "text": [
            "WARNING:absl:Found untraced functions such as restored_function_body, restored_function_body, restored_function_body, restored_function_body, restored_function_body while saving (showing 5 of 118). These functions will not be directly callable after loading.\n"
          ]
        },
        {
          "metadata": {
            "tags": null
          },
          "name": "stdout",
          "output_type": "stream",
          "text": [
            "INFO:tensorflow:Assets written to: /content/gdrive/MyDrive/project deepmag/saved model 10k epoch2/assets\n"
          ]
        },
        {
          "metadata": {
            "tags": null
          },
          "name": "stderr",
          "output_type": "stream",
          "text": [
            "INFO:tensorflow:Assets written to: /content/gdrive/MyDrive/project deepmag/saved model 10k epoch2/assets\n"
          ]
        },
        {
          "metadata": {
            "tags": null
          },
          "name": "stdout",
          "output_type": "stream",
          "text": [
            "1910 images processed\n",
            "1/1 - 3s - loss: 919.6705 - val_loss: 839.1478 - 3s/epoch - 3s/step\n",
            "1920 images processed\n",
            "1/1 - 3s - loss: 847.3326 - val_loss: 921.4723 - 3s/epoch - 3s/step\n",
            "1930 images processed\n",
            "1/1 - 3s - loss: 997.4531 - val_loss: 714.5992 - 3s/epoch - 3s/step\n",
            "1940 images processed\n",
            "1/1 - 3s - loss: 879.0588 - val_loss: 723.4634 - 3s/epoch - 3s/step\n",
            "1950 images processed\n",
            "1/1 - 3s - loss: 1198.8561 - val_loss: 825.9298 - 3s/epoch - 3s/step\n",
            "1960 images processed\n",
            "1/1 - 3s - loss: 1064.9438 - val_loss: 759.7274 - 3s/epoch - 3s/step\n",
            "1970 images processed\n",
            "1/1 - 3s - loss: 696.0938 - val_loss: 775.9694 - 3s/epoch - 3s/step\n",
            "1980 images processed\n",
            "1/1 - 3s - loss: 789.2473 - val_loss: 1097.5900 - 3s/epoch - 3s/step\n",
            "1990 images processed\n",
            "1/1 - 3s - loss: 884.3768 - val_loss: 794.7124 - 3s/epoch - 3s/step\n",
            "2000 images processed\n",
            "1/1 - 3s - loss: 882.9669 - val_loss: 771.0195 - 3s/epoch - 3s/step\n"
          ]
        },
        {
          "metadata": {
            "tags": null
          },
          "name": "stderr",
          "output_type": "stream",
          "text": [
            "WARNING:absl:Found untraced functions such as restored_function_body, restored_function_body, restored_function_body, restored_function_body, restored_function_body while saving (showing 5 of 118). These functions will not be directly callable after loading.\n"
          ]
        },
        {
          "metadata": {
            "tags": null
          },
          "name": "stdout",
          "output_type": "stream",
          "text": [
            "INFO:tensorflow:Assets written to: /content/gdrive/MyDrive/project deepmag/saved model 10k epoch2/assets\n"
          ]
        },
        {
          "metadata": {
            "tags": null
          },
          "name": "stderr",
          "output_type": "stream",
          "text": [
            "INFO:tensorflow:Assets written to: /content/gdrive/MyDrive/project deepmag/saved model 10k epoch2/assets\n"
          ]
        },
        {
          "metadata": {
            "tags": null
          },
          "name": "stdout",
          "output_type": "stream",
          "text": [
            "2010 images processed\n",
            "1/1 - 3s - loss: 1019.8837 - val_loss: 884.7969 - 3s/epoch - 3s/step\n",
            "2020 images processed\n",
            "1/1 - 3s - loss: 846.5509 - val_loss: 810.0974 - 3s/epoch - 3s/step\n",
            "2030 images processed\n",
            "1/1 - 3s - loss: 717.4256 - val_loss: 999.3065 - 3s/epoch - 3s/step\n",
            "2040 images processed\n",
            "1/1 - 3s - loss: 902.6110 - val_loss: 832.9857 - 3s/epoch - 3s/step\n",
            "2050 images processed\n",
            "1/1 - 3s - loss: 741.3262 - val_loss: 831.3895 - 3s/epoch - 3s/step\n",
            "2060 images processed\n",
            "1/1 - 3s - loss: 791.9333 - val_loss: 631.0058 - 3s/epoch - 3s/step\n",
            "2070 images processed\n",
            "1/1 - 3s - loss: 737.8783 - val_loss: 808.6271 - 3s/epoch - 3s/step\n",
            "2080 images processed\n",
            "1/1 - 3s - loss: 885.2230 - val_loss: 721.7000 - 3s/epoch - 3s/step\n",
            "2090 images processed\n",
            "1/1 - 3s - loss: 862.3488 - val_loss: 790.5154 - 3s/epoch - 3s/step\n",
            "2100 images processed\n",
            "1/1 - 3s - loss: 969.7954 - val_loss: 827.4147 - 3s/epoch - 3s/step\n"
          ]
        },
        {
          "metadata": {
            "tags": null
          },
          "name": "stderr",
          "output_type": "stream",
          "text": [
            "WARNING:absl:Found untraced functions such as restored_function_body, restored_function_body, restored_function_body, restored_function_body, restored_function_body while saving (showing 5 of 118). These functions will not be directly callable after loading.\n"
          ]
        },
        {
          "metadata": {
            "tags": null
          },
          "name": "stdout",
          "output_type": "stream",
          "text": [
            "INFO:tensorflow:Assets written to: /content/gdrive/MyDrive/project deepmag/saved model 10k epoch2/assets\n"
          ]
        },
        {
          "metadata": {
            "tags": null
          },
          "name": "stderr",
          "output_type": "stream",
          "text": [
            "INFO:tensorflow:Assets written to: /content/gdrive/MyDrive/project deepmag/saved model 10k epoch2/assets\n"
          ]
        },
        {
          "metadata": {
            "tags": null
          },
          "name": "stdout",
          "output_type": "stream",
          "text": [
            "2110 images processed\n",
            "1/1 - 3s - loss: 658.9116 - val_loss: 698.0380 - 3s/epoch - 3s/step\n",
            "2120 images processed\n",
            "1/1 - 3s - loss: 950.7005 - val_loss: 700.4624 - 3s/epoch - 3s/step\n",
            "2130 images processed\n",
            "1/1 - 3s - loss: 1037.5233 - val_loss: 905.5462 - 3s/epoch - 3s/step\n",
            "2140 images processed\n",
            "1/1 - 3s - loss: 1121.2748 - val_loss: 924.1947 - 3s/epoch - 3s/step\n",
            "2150 images processed\n",
            "1/1 - 3s - loss: 1044.3313 - val_loss: 763.2997 - 3s/epoch - 3s/step\n",
            "2160 images processed\n",
            "1/1 - 3s - loss: 887.9749 - val_loss: 755.0761 - 3s/epoch - 3s/step\n",
            "2170 images processed\n",
            "1/1 - 3s - loss: 767.7856 - val_loss: 818.0594 - 3s/epoch - 3s/step\n",
            "2180 images processed\n",
            "1/1 - 3s - loss: 828.3774 - val_loss: 760.7443 - 3s/epoch - 3s/step\n",
            "2190 images processed\n",
            "1/1 - 3s - loss: 627.9355 - val_loss: 888.4794 - 3s/epoch - 3s/step\n",
            "2200 images processed\n",
            "1/1 - 3s - loss: 687.3502 - val_loss: 765.9238 - 3s/epoch - 3s/step\n"
          ]
        },
        {
          "metadata": {
            "tags": null
          },
          "name": "stderr",
          "output_type": "stream",
          "text": [
            "WARNING:absl:Found untraced functions such as restored_function_body, restored_function_body, restored_function_body, restored_function_body, restored_function_body while saving (showing 5 of 118). These functions will not be directly callable after loading.\n"
          ]
        },
        {
          "metadata": {
            "tags": null
          },
          "name": "stdout",
          "output_type": "stream",
          "text": [
            "INFO:tensorflow:Assets written to: /content/gdrive/MyDrive/project deepmag/saved model 10k epoch2/assets\n"
          ]
        },
        {
          "metadata": {
            "tags": null
          },
          "name": "stderr",
          "output_type": "stream",
          "text": [
            "INFO:tensorflow:Assets written to: /content/gdrive/MyDrive/project deepmag/saved model 10k epoch2/assets\n"
          ]
        },
        {
          "metadata": {
            "tags": null
          },
          "name": "stdout",
          "output_type": "stream",
          "text": [
            "2210 images processed\n",
            "1/1 - 3s - loss: 842.9799 - val_loss: 748.6716 - 3s/epoch - 3s/step\n",
            "2220 images processed\n",
            "1/1 - 3s - loss: 800.1332 - val_loss: 708.2105 - 3s/epoch - 3s/step\n",
            "2230 images processed\n",
            "1/1 - 3s - loss: 907.6505 - val_loss: 891.2589 - 3s/epoch - 3s/step\n",
            "2240 images processed\n",
            "1/1 - 3s - loss: 894.7098 - val_loss: 839.7837 - 3s/epoch - 3s/step\n",
            "2250 images processed\n",
            "1/1 - 3s - loss: 827.6273 - val_loss: 823.6998 - 3s/epoch - 3s/step\n",
            "2260 images processed\n",
            "1/1 - 3s - loss: 1059.8025 - val_loss: 869.2156 - 3s/epoch - 3s/step\n",
            "2270 images processed\n",
            "1/1 - 3s - loss: 684.2451 - val_loss: 886.9025 - 3s/epoch - 3s/step\n",
            "2280 images processed\n",
            "1/1 - 3s - loss: 615.6633 - val_loss: 717.1009 - 3s/epoch - 3s/step\n",
            "2290 images processed\n",
            "1/1 - 3s - loss: 1012.5057 - val_loss: 690.8593 - 3s/epoch - 3s/step\n",
            "2300 images processed\n",
            "1/1 - 3s - loss: 825.6056 - val_loss: 824.5441 - 3s/epoch - 3s/step\n"
          ]
        },
        {
          "metadata": {
            "tags": null
          },
          "name": "stderr",
          "output_type": "stream",
          "text": [
            "WARNING:absl:Found untraced functions such as restored_function_body, restored_function_body, restored_function_body, restored_function_body, restored_function_body while saving (showing 5 of 118). These functions will not be directly callable after loading.\n"
          ]
        },
        {
          "metadata": {
            "tags": null
          },
          "name": "stdout",
          "output_type": "stream",
          "text": [
            "INFO:tensorflow:Assets written to: /content/gdrive/MyDrive/project deepmag/saved model 10k epoch2/assets\n"
          ]
        },
        {
          "metadata": {
            "tags": null
          },
          "name": "stderr",
          "output_type": "stream",
          "text": [
            "INFO:tensorflow:Assets written to: /content/gdrive/MyDrive/project deepmag/saved model 10k epoch2/assets\n"
          ]
        },
        {
          "metadata": {
            "tags": null
          },
          "name": "stdout",
          "output_type": "stream",
          "text": [
            "2310 images processed\n",
            "1/1 - 3s - loss: 882.1295 - val_loss: 925.7340 - 3s/epoch - 3s/step\n",
            "2320 images processed\n",
            "1/1 - 3s - loss: 791.6082 - val_loss: 713.9171 - 3s/epoch - 3s/step\n",
            "2330 images processed\n",
            "1/1 - 3s - loss: 885.9424 - val_loss: 845.6761 - 3s/epoch - 3s/step\n",
            "2340 images processed\n",
            "1/1 - 3s - loss: 917.9588 - val_loss: 707.2394 - 3s/epoch - 3s/step\n",
            "2350 images processed\n",
            "1/1 - 3s - loss: 939.5502 - val_loss: 786.7669 - 3s/epoch - 3s/step\n",
            "2360 images processed\n",
            "1/1 - 3s - loss: 916.8195 - val_loss: 743.8004 - 3s/epoch - 3s/step\n",
            "2370 images processed\n",
            "1/1 - 3s - loss: 959.6360 - val_loss: 696.5170 - 3s/epoch - 3s/step\n",
            "2380 images processed\n",
            "1/1 - 3s - loss: 1012.2638 - val_loss: 738.0562 - 3s/epoch - 3s/step\n",
            "2390 images processed\n",
            "1/1 - 3s - loss: 778.8134 - val_loss: 812.0880 - 3s/epoch - 3s/step\n",
            "2400 images processed\n",
            "1/1 - 3s - loss: 738.8980 - val_loss: 807.3401 - 3s/epoch - 3s/step\n"
          ]
        },
        {
          "metadata": {
            "tags": null
          },
          "name": "stderr",
          "output_type": "stream",
          "text": [
            "WARNING:absl:Found untraced functions such as restored_function_body, restored_function_body, restored_function_body, restored_function_body, restored_function_body while saving (showing 5 of 118). These functions will not be directly callable after loading.\n"
          ]
        },
        {
          "metadata": {
            "tags": null
          },
          "name": "stdout",
          "output_type": "stream",
          "text": [
            "INFO:tensorflow:Assets written to: /content/gdrive/MyDrive/project deepmag/saved model 10k epoch2/assets\n"
          ]
        },
        {
          "metadata": {
            "tags": null
          },
          "name": "stderr",
          "output_type": "stream",
          "text": [
            "INFO:tensorflow:Assets written to: /content/gdrive/MyDrive/project deepmag/saved model 10k epoch2/assets\n"
          ]
        },
        {
          "metadata": {
            "tags": null
          },
          "name": "stdout",
          "output_type": "stream",
          "text": [
            "2410 images processed\n",
            "1/1 - 3s - loss: 807.9959 - val_loss: 829.3947 - 3s/epoch - 3s/step\n",
            "2420 images processed\n",
            "1/1 - 3s - loss: 794.0189 - val_loss: 837.8610 - 3s/epoch - 3s/step\n",
            "2430 images processed\n",
            "1/1 - 3s - loss: 782.8676 - val_loss: 773.2444 - 3s/epoch - 3s/step\n",
            "2440 images processed\n",
            "1/1 - 3s - loss: 771.2552 - val_loss: 766.5302 - 3s/epoch - 3s/step\n",
            "2450 images processed\n",
            "1/1 - 3s - loss: 870.6622 - val_loss: 778.7301 - 3s/epoch - 3s/step\n",
            "2460 images processed\n",
            "1/1 - 3s - loss: 1039.7230 - val_loss: 846.9552 - 3s/epoch - 3s/step\n",
            "2470 images processed\n",
            "1/1 - 3s - loss: 707.6900 - val_loss: 740.0865 - 3s/epoch - 3s/step\n",
            "2480 images processed\n",
            "1/1 - 3s - loss: 796.1580 - val_loss: 818.3953 - 3s/epoch - 3s/step\n",
            "2490 images processed\n",
            "1/1 - 3s - loss: 918.3211 - val_loss: 699.6972 - 3s/epoch - 3s/step\n",
            "2500 images processed\n",
            "1/1 - 3s - loss: 727.7804 - val_loss: 802.1846 - 3s/epoch - 3s/step\n"
          ]
        },
        {
          "metadata": {
            "tags": null
          },
          "name": "stderr",
          "output_type": "stream",
          "text": [
            "WARNING:absl:Found untraced functions such as restored_function_body, restored_function_body, restored_function_body, restored_function_body, restored_function_body while saving (showing 5 of 118). These functions will not be directly callable after loading.\n"
          ]
        },
        {
          "metadata": {
            "tags": null
          },
          "name": "stdout",
          "output_type": "stream",
          "text": [
            "INFO:tensorflow:Assets written to: /content/gdrive/MyDrive/project deepmag/saved model 10k epoch2/assets\n"
          ]
        },
        {
          "metadata": {
            "tags": null
          },
          "name": "stderr",
          "output_type": "stream",
          "text": [
            "INFO:tensorflow:Assets written to: /content/gdrive/MyDrive/project deepmag/saved model 10k epoch2/assets\n"
          ]
        },
        {
          "metadata": {
            "tags": null
          },
          "name": "stdout",
          "output_type": "stream",
          "text": [
            "2510 images processed\n",
            "1/1 - 3s - loss: 997.5560 - val_loss: 799.4001 - 3s/epoch - 3s/step\n",
            "2520 images processed\n",
            "1/1 - 3s - loss: 643.7684 - val_loss: 823.4716 - 3s/epoch - 3s/step\n",
            "2530 images processed\n",
            "1/1 - 3s - loss: 813.4319 - val_loss: 864.9132 - 3s/epoch - 3s/step\n",
            "2540 images processed\n",
            "1/1 - 3s - loss: 1203.4156 - val_loss: 815.1272 - 3s/epoch - 3s/step\n",
            "2550 images processed\n",
            "1/1 - 3s - loss: 906.1688 - val_loss: 723.8102 - 3s/epoch - 3s/step\n",
            "2560 images processed\n",
            "1/1 - 3s - loss: 679.1470 - val_loss: 967.5480 - 3s/epoch - 3s/step\n",
            "2570 images processed\n",
            "1/1 - 3s - loss: 1010.8605 - val_loss: 848.2404 - 3s/epoch - 3s/step\n",
            "2580 images processed\n",
            "1/1 - 3s - loss: 766.1777 - val_loss: 873.1105 - 3s/epoch - 3s/step\n",
            "2590 images processed\n",
            "1/1 - 3s - loss: 713.4581 - val_loss: 823.6888 - 3s/epoch - 3s/step\n",
            "2600 images processed\n",
            "1/1 - 3s - loss: 835.2584 - val_loss: 822.3670 - 3s/epoch - 3s/step\n"
          ]
        },
        {
          "metadata": {
            "tags": null
          },
          "name": "stderr",
          "output_type": "stream",
          "text": [
            "WARNING:absl:Found untraced functions such as restored_function_body, restored_function_body, restored_function_body, restored_function_body, restored_function_body while saving (showing 5 of 118). These functions will not be directly callable after loading.\n"
          ]
        },
        {
          "metadata": {
            "tags": null
          },
          "name": "stdout",
          "output_type": "stream",
          "text": [
            "INFO:tensorflow:Assets written to: /content/gdrive/MyDrive/project deepmag/saved model 10k epoch2/assets\n"
          ]
        },
        {
          "metadata": {
            "tags": null
          },
          "name": "stderr",
          "output_type": "stream",
          "text": [
            "INFO:tensorflow:Assets written to: /content/gdrive/MyDrive/project deepmag/saved model 10k epoch2/assets\n"
          ]
        },
        {
          "metadata": {
            "tags": null
          },
          "name": "stdout",
          "output_type": "stream",
          "text": [
            "2610 images processed\n",
            "1/1 - 3s - loss: 999.9894 - val_loss: 871.7397 - 3s/epoch - 3s/step\n",
            "2620 images processed\n",
            "1/1 - 3s - loss: 733.8398 - val_loss: 756.7175 - 3s/epoch - 3s/step\n",
            "2630 images processed\n",
            "1/1 - 3s - loss: 913.9183 - val_loss: 789.9752 - 3s/epoch - 3s/step\n",
            "2640 images processed\n",
            "1/1 - 3s - loss: 1005.6639 - val_loss: 853.3345 - 3s/epoch - 3s/step\n",
            "2650 images processed\n",
            "1/1 - 3s - loss: 626.0016 - val_loss: 992.5487 - 3s/epoch - 3s/step\n",
            "2660 images processed\n",
            "1/1 - 3s - loss: 909.3879 - val_loss: 845.8668 - 3s/epoch - 3s/step\n",
            "2670 images processed\n",
            "1/1 - 3s - loss: 1004.9498 - val_loss: 740.0499 - 3s/epoch - 3s/step\n",
            "2680 images processed\n",
            "1/1 - 3s - loss: 868.3488 - val_loss: 584.0875 - 3s/epoch - 3s/step\n",
            "2690 images processed\n",
            "1/1 - 3s - loss: 682.3893 - val_loss: 907.6639 - 3s/epoch - 3s/step\n",
            "2700 images processed\n",
            "1/1 - 3s - loss: 736.4460 - val_loss: 652.7178 - 3s/epoch - 3s/step\n"
          ]
        },
        {
          "metadata": {
            "tags": null
          },
          "name": "stderr",
          "output_type": "stream",
          "text": [
            "WARNING:absl:Found untraced functions such as restored_function_body, restored_function_body, restored_function_body, restored_function_body, restored_function_body while saving (showing 5 of 118). These functions will not be directly callable after loading.\n"
          ]
        },
        {
          "metadata": {
            "tags": null
          },
          "name": "stdout",
          "output_type": "stream",
          "text": [
            "INFO:tensorflow:Assets written to: /content/gdrive/MyDrive/project deepmag/saved model 10k epoch2/assets\n"
          ]
        },
        {
          "metadata": {
            "tags": null
          },
          "name": "stderr",
          "output_type": "stream",
          "text": [
            "INFO:tensorflow:Assets written to: /content/gdrive/MyDrive/project deepmag/saved model 10k epoch2/assets\n"
          ]
        },
        {
          "metadata": {
            "tags": null
          },
          "name": "stdout",
          "output_type": "stream",
          "text": [
            "2710 images processed\n",
            "1/1 - 3s - loss: 811.2629 - val_loss: 687.7047 - 3s/epoch - 3s/step\n",
            "2720 images processed\n",
            "1/1 - 3s - loss: 895.9908 - val_loss: 741.9172 - 3s/epoch - 3s/step\n",
            "2730 images processed\n",
            "1/1 - 3s - loss: 661.6638 - val_loss: 988.8080 - 3s/epoch - 3s/step\n",
            "2740 images processed\n",
            "1/1 - 3s - loss: 884.1001 - val_loss: 1000.7147 - 3s/epoch - 3s/step\n",
            "2750 images processed\n",
            "1/1 - 3s - loss: 858.4884 - val_loss: 935.4623 - 3s/epoch - 3s/step\n",
            "2760 images processed\n",
            "1/1 - 3s - loss: 845.8082 - val_loss: 775.4716 - 3s/epoch - 3s/step\n",
            "2770 images processed\n",
            "1/1 - 3s - loss: 781.4399 - val_loss: 769.9921 - 3s/epoch - 3s/step\n",
            "2780 images processed\n",
            "1/1 - 3s - loss: 734.4390 - val_loss: 583.7220 - 3s/epoch - 3s/step\n",
            "2790 images processed\n",
            "1/1 - 3s - loss: 698.5699 - val_loss: 669.9757 - 3s/epoch - 3s/step\n",
            "2800 images processed\n",
            "1/1 - 3s - loss: 917.7507 - val_loss: 916.6437 - 3s/epoch - 3s/step\n"
          ]
        },
        {
          "metadata": {
            "tags": null
          },
          "name": "stderr",
          "output_type": "stream",
          "text": [
            "WARNING:absl:Found untraced functions such as restored_function_body, restored_function_body, restored_function_body, restored_function_body, restored_function_body while saving (showing 5 of 118). These functions will not be directly callable after loading.\n"
          ]
        },
        {
          "metadata": {
            "tags": null
          },
          "name": "stdout",
          "output_type": "stream",
          "text": [
            "INFO:tensorflow:Assets written to: /content/gdrive/MyDrive/project deepmag/saved model 10k epoch2/assets\n"
          ]
        },
        {
          "metadata": {
            "tags": null
          },
          "name": "stderr",
          "output_type": "stream",
          "text": [
            "INFO:tensorflow:Assets written to: /content/gdrive/MyDrive/project deepmag/saved model 10k epoch2/assets\n"
          ]
        },
        {
          "metadata": {
            "tags": null
          },
          "name": "stdout",
          "output_type": "stream",
          "text": [
            "2810 images processed\n",
            "1/1 - 3s - loss: 767.7913 - val_loss: 821.0363 - 3s/epoch - 3s/step\n",
            "2820 images processed\n",
            "1/1 - 3s - loss: 794.5392 - val_loss: 756.2749 - 3s/epoch - 3s/step\n",
            "2830 images processed\n",
            "1/1 - 3s - loss: 866.2662 - val_loss: 675.2626 - 3s/epoch - 3s/step\n",
            "2840 images processed\n",
            "1/1 - 3s - loss: 888.9609 - val_loss: 936.3494 - 3s/epoch - 3s/step\n",
            "2850 images processed\n",
            "1/1 - 3s - loss: 882.7372 - val_loss: 894.2679 - 3s/epoch - 3s/step\n",
            "2860 images processed\n",
            "1/1 - 3s - loss: 1085.7322 - val_loss: 881.8348 - 3s/epoch - 3s/step\n",
            "2870 images processed\n",
            "1/1 - 3s - loss: 820.4158 - val_loss: 741.5917 - 3s/epoch - 3s/step\n",
            "2880 images processed\n",
            "1/1 - 3s - loss: 797.2189 - val_loss: 882.2876 - 3s/epoch - 3s/step\n",
            "2890 images processed\n",
            "1/1 - 3s - loss: 1001.3563 - val_loss: 733.7636 - 3s/epoch - 3s/step\n",
            "2900 images processed\n",
            "1/1 - 3s - loss: 729.1033 - val_loss: 782.8493 - 3s/epoch - 3s/step\n"
          ]
        },
        {
          "metadata": {
            "tags": null
          },
          "name": "stderr",
          "output_type": "stream",
          "text": [
            "WARNING:absl:Found untraced functions such as restored_function_body, restored_function_body, restored_function_body, restored_function_body, restored_function_body while saving (showing 5 of 118). These functions will not be directly callable after loading.\n"
          ]
        },
        {
          "metadata": {
            "tags": null
          },
          "name": "stdout",
          "output_type": "stream",
          "text": [
            "INFO:tensorflow:Assets written to: /content/gdrive/MyDrive/project deepmag/saved model 10k epoch2/assets\n"
          ]
        },
        {
          "metadata": {
            "tags": null
          },
          "name": "stderr",
          "output_type": "stream",
          "text": [
            "INFO:tensorflow:Assets written to: /content/gdrive/MyDrive/project deepmag/saved model 10k epoch2/assets\n"
          ]
        },
        {
          "metadata": {
            "tags": null
          },
          "name": "stdout",
          "output_type": "stream",
          "text": [
            "2910 images processed\n",
            "1/1 - 3s - loss: 955.1930 - val_loss: 764.6799 - 3s/epoch - 3s/step\n",
            "2920 images processed\n",
            "1/1 - 3s - loss: 669.7857 - val_loss: 872.2891 - 3s/epoch - 3s/step\n",
            "2930 images processed\n",
            "1/1 - 3s - loss: 810.5849 - val_loss: 762.6478 - 3s/epoch - 3s/step\n",
            "2940 images processed\n",
            "1/1 - 3s - loss: 870.6170 - val_loss: 841.3810 - 3s/epoch - 3s/step\n",
            "2950 images processed\n",
            "1/1 - 3s - loss: 749.7094 - val_loss: 902.9012 - 3s/epoch - 3s/step\n",
            "2960 images processed\n",
            "1/1 - 3s - loss: 799.3577 - val_loss: 860.9025 - 3s/epoch - 3s/step\n",
            "2970 images processed\n",
            "1/1 - 3s - loss: 830.0594 - val_loss: 1018.8596 - 3s/epoch - 3s/step\n",
            "2980 images processed\n",
            "1/1 - 3s - loss: 1000.9170 - val_loss: 801.9671 - 3s/epoch - 3s/step\n",
            "2990 images processed\n",
            "1/1 - 3s - loss: 790.1410 - val_loss: 1054.2754 - 3s/epoch - 3s/step\n",
            "3000 images processed\n",
            "1/1 - 3s - loss: 890.5344 - val_loss: 791.6491 - 3s/epoch - 3s/step\n"
          ]
        },
        {
          "metadata": {
            "tags": null
          },
          "name": "stderr",
          "output_type": "stream",
          "text": [
            "WARNING:absl:Found untraced functions such as restored_function_body, restored_function_body, restored_function_body, restored_function_body, restored_function_body while saving (showing 5 of 118). These functions will not be directly callable after loading.\n"
          ]
        },
        {
          "metadata": {
            "tags": null
          },
          "name": "stdout",
          "output_type": "stream",
          "text": [
            "INFO:tensorflow:Assets written to: /content/gdrive/MyDrive/project deepmag/saved model 10k epoch2/assets\n"
          ]
        },
        {
          "metadata": {
            "tags": null
          },
          "name": "stderr",
          "output_type": "stream",
          "text": [
            "INFO:tensorflow:Assets written to: /content/gdrive/MyDrive/project deepmag/saved model 10k epoch2/assets\n"
          ]
        },
        {
          "metadata": {
            "tags": null
          },
          "name": "stdout",
          "output_type": "stream",
          "text": [
            "3010 images processed\n",
            "1/1 - 3s - loss: 983.8654 - val_loss: 721.6392 - 3s/epoch - 3s/step\n",
            "3020 images processed\n",
            "1/1 - 3s - loss: 817.0626 - val_loss: 940.1312 - 3s/epoch - 3s/step\n",
            "3030 images processed\n",
            "1/1 - 3s - loss: 1057.8142 - val_loss: 753.2679 - 3s/epoch - 3s/step\n",
            "3040 images processed\n",
            "1/1 - 3s - loss: 920.4399 - val_loss: 847.0127 - 3s/epoch - 3s/step\n",
            "3050 images processed\n",
            "1/1 - 3s - loss: 815.8774 - val_loss: 859.1432 - 3s/epoch - 3s/step\n",
            "3060 images processed\n",
            "1/1 - 3s - loss: 883.0554 - val_loss: 650.6594 - 3s/epoch - 3s/step\n",
            "3070 images processed\n",
            "1/1 - 3s - loss: 768.4400 - val_loss: 679.5412 - 3s/epoch - 3s/step\n",
            "3080 images processed\n",
            "1/1 - 3s - loss: 770.2496 - val_loss: 853.6772 - 3s/epoch - 3s/step\n",
            "3090 images processed\n",
            "1/1 - 3s - loss: 696.2628 - val_loss: 1122.0385 - 3s/epoch - 3s/step\n",
            "3100 images processed\n",
            "1/1 - 3s - loss: 943.2025 - val_loss: 689.5989 - 3s/epoch - 3s/step\n"
          ]
        },
        {
          "metadata": {
            "tags": null
          },
          "name": "stderr",
          "output_type": "stream",
          "text": [
            "WARNING:absl:Found untraced functions such as restored_function_body, restored_function_body, restored_function_body, restored_function_body, restored_function_body while saving (showing 5 of 118). These functions will not be directly callable after loading.\n"
          ]
        },
        {
          "metadata": {
            "tags": null
          },
          "name": "stdout",
          "output_type": "stream",
          "text": [
            "INFO:tensorflow:Assets written to: /content/gdrive/MyDrive/project deepmag/saved model 10k epoch2/assets\n"
          ]
        },
        {
          "metadata": {
            "tags": null
          },
          "name": "stderr",
          "output_type": "stream",
          "text": [
            "INFO:tensorflow:Assets written to: /content/gdrive/MyDrive/project deepmag/saved model 10k epoch2/assets\n"
          ]
        },
        {
          "metadata": {
            "tags": null
          },
          "name": "stdout",
          "output_type": "stream",
          "text": [
            "3110 images processed\n",
            "1/1 - 3s - loss: 891.7147 - val_loss: 830.1151 - 3s/epoch - 3s/step\n",
            "3120 images processed\n",
            "1/1 - 3s - loss: 809.3249 - val_loss: 885.9482 - 3s/epoch - 3s/step\n",
            "3130 images processed\n",
            "1/1 - 3s - loss: 818.7743 - val_loss: 790.7539 - 3s/epoch - 3s/step\n",
            "3140 images processed\n",
            "1/1 - 3s - loss: 1115.8214 - val_loss: 715.0758 - 3s/epoch - 3s/step\n",
            "3150 images processed\n",
            "1/1 - 3s - loss: 649.7571 - val_loss: 753.0261 - 3s/epoch - 3s/step\n",
            "3160 images processed\n",
            "1/1 - 3s - loss: 830.5285 - val_loss: 675.9670 - 3s/epoch - 3s/step\n",
            "3170 images processed\n",
            "1/1 - 3s - loss: 766.2278 - val_loss: 907.2116 - 3s/epoch - 3s/step\n",
            "3180 images processed\n",
            "1/1 - 3s - loss: 769.7591 - val_loss: 677.4400 - 3s/epoch - 3s/step\n",
            "3190 images processed\n",
            "1/1 - 3s - loss: 817.2290 - val_loss: 779.1597 - 3s/epoch - 3s/step\n",
            "3200 images processed\n",
            "1/1 - 3s - loss: 972.7899 - val_loss: 947.4876 - 3s/epoch - 3s/step\n"
          ]
        },
        {
          "metadata": {
            "tags": null
          },
          "name": "stderr",
          "output_type": "stream",
          "text": [
            "WARNING:absl:Found untraced functions such as restored_function_body, restored_function_body, restored_function_body, restored_function_body, restored_function_body while saving (showing 5 of 118). These functions will not be directly callable after loading.\n"
          ]
        },
        {
          "metadata": {
            "tags": null
          },
          "name": "stdout",
          "output_type": "stream",
          "text": [
            "INFO:tensorflow:Assets written to: /content/gdrive/MyDrive/project deepmag/saved model 10k epoch2/assets\n"
          ]
        },
        {
          "metadata": {
            "tags": null
          },
          "name": "stderr",
          "output_type": "stream",
          "text": [
            "INFO:tensorflow:Assets written to: /content/gdrive/MyDrive/project deepmag/saved model 10k epoch2/assets\n"
          ]
        },
        {
          "metadata": {
            "tags": null
          },
          "name": "stdout",
          "output_type": "stream",
          "text": [
            "3210 images processed\n",
            "1/1 - 3s - loss: 710.5624 - val_loss: 703.1059 - 3s/epoch - 3s/step\n",
            "3220 images processed\n",
            "1/1 - 3s - loss: 989.7719 - val_loss: 618.7254 - 3s/epoch - 3s/step\n",
            "3230 images processed\n",
            "1/1 - 3s - loss: 839.2111 - val_loss: 959.9987 - 3s/epoch - 3s/step\n",
            "3240 images processed\n",
            "1/1 - 3s - loss: 781.6395 - val_loss: 806.4920 - 3s/epoch - 3s/step\n",
            "3250 images processed\n",
            "1/1 - 3s - loss: 810.4789 - val_loss: 804.6902 - 3s/epoch - 3s/step\n",
            "3260 images processed\n",
            "1/1 - 3s - loss: 791.9070 - val_loss: 889.5532 - 3s/epoch - 3s/step\n",
            "3270 images processed\n",
            "1/1 - 3s - loss: 717.6598 - val_loss: 728.2644 - 3s/epoch - 3s/step\n",
            "3280 images processed\n",
            "1/1 - 3s - loss: 912.7052 - val_loss: 771.1903 - 3s/epoch - 3s/step\n",
            "3290 images processed\n",
            "1/1 - 3s - loss: 751.5469 - val_loss: 533.1515 - 3s/epoch - 3s/step\n",
            "3300 images processed\n",
            "1/1 - 3s - loss: 771.0034 - val_loss: 819.9987 - 3s/epoch - 3s/step\n"
          ]
        },
        {
          "metadata": {
            "tags": null
          },
          "name": "stderr",
          "output_type": "stream",
          "text": [
            "WARNING:absl:Found untraced functions such as restored_function_body, restored_function_body, restored_function_body, restored_function_body, restored_function_body while saving (showing 5 of 118). These functions will not be directly callable after loading.\n"
          ]
        },
        {
          "metadata": {
            "tags": null
          },
          "name": "stdout",
          "output_type": "stream",
          "text": [
            "INFO:tensorflow:Assets written to: /content/gdrive/MyDrive/project deepmag/saved model 10k epoch2/assets\n"
          ]
        },
        {
          "metadata": {
            "tags": null
          },
          "name": "stderr",
          "output_type": "stream",
          "text": [
            "INFO:tensorflow:Assets written to: /content/gdrive/MyDrive/project deepmag/saved model 10k epoch2/assets\n"
          ]
        },
        {
          "metadata": {
            "tags": null
          },
          "name": "stdout",
          "output_type": "stream",
          "text": [
            "3310 images processed\n",
            "1/1 - 3s - loss: 805.1429 - val_loss: 799.8307 - 3s/epoch - 3s/step\n",
            "3320 images processed\n",
            "1/1 - 3s - loss: 850.3055 - val_loss: 988.2420 - 3s/epoch - 3s/step\n",
            "3330 images processed\n",
            "1/1 - 3s - loss: 949.2277 - val_loss: 1019.7858 - 3s/epoch - 3s/step\n",
            "3340 images processed\n",
            "1/1 - 3s - loss: 837.0955 - val_loss: 629.8289 - 3s/epoch - 3s/step\n",
            "3350 images processed\n",
            "1/1 - 3s - loss: 828.0013 - val_loss: 801.6762 - 3s/epoch - 3s/step\n",
            "3360 images processed\n",
            "1/1 - 3s - loss: 1009.0091 - val_loss: 799.1865 - 3s/epoch - 3s/step\n",
            "3370 images processed\n",
            "1/1 - 3s - loss: 827.7209 - val_loss: 740.8213 - 3s/epoch - 3s/step\n",
            "3380 images processed\n",
            "1/1 - 3s - loss: 955.0375 - val_loss: 887.4700 - 3s/epoch - 3s/step\n",
            "3390 images processed\n",
            "1/1 - 3s - loss: 830.7033 - val_loss: 820.9191 - 3s/epoch - 3s/step\n",
            "3400 images processed\n",
            "1/1 - 3s - loss: 1008.6266 - val_loss: 780.3051 - 3s/epoch - 3s/step\n"
          ]
        },
        {
          "metadata": {
            "tags": null
          },
          "name": "stderr",
          "output_type": "stream",
          "text": [
            "WARNING:absl:Found untraced functions such as restored_function_body, restored_function_body, restored_function_body, restored_function_body, restored_function_body while saving (showing 5 of 118). These functions will not be directly callable after loading.\n"
          ]
        },
        {
          "metadata": {
            "tags": null
          },
          "name": "stdout",
          "output_type": "stream",
          "text": [
            "INFO:tensorflow:Assets written to: /content/gdrive/MyDrive/project deepmag/saved model 10k epoch2/assets\n"
          ]
        },
        {
          "metadata": {
            "tags": null
          },
          "name": "stderr",
          "output_type": "stream",
          "text": [
            "INFO:tensorflow:Assets written to: /content/gdrive/MyDrive/project deepmag/saved model 10k epoch2/assets\n"
          ]
        },
        {
          "metadata": {
            "tags": null
          },
          "name": "stdout",
          "output_type": "stream",
          "text": [
            "3410 images processed\n",
            "1/1 - 3s - loss: 619.5791 - val_loss: 846.2499 - 3s/epoch - 3s/step\n",
            "3420 images processed\n",
            "1/1 - 3s - loss: 776.2328 - val_loss: 831.7468 - 3s/epoch - 3s/step\n",
            "3430 images processed\n",
            "1/1 - 3s - loss: 1046.4912 - val_loss: 733.7015 - 3s/epoch - 3s/step\n",
            "3440 images processed\n",
            "1/1 - 3s - loss: 1078.8083 - val_loss: 791.4319 - 3s/epoch - 3s/step\n",
            "3450 images processed\n",
            "1/1 - 3s - loss: 847.6572 - val_loss: 778.1311 - 3s/epoch - 3s/step\n",
            "3460 images processed\n",
            "1/1 - 3s - loss: 711.1102 - val_loss: 956.4362 - 3s/epoch - 3s/step\n",
            "3470 images processed\n",
            "1/1 - 3s - loss: 671.9137 - val_loss: 854.4061 - 3s/epoch - 3s/step\n",
            "3480 images processed\n",
            "1/1 - 3s - loss: 794.4470 - val_loss: 796.5866 - 3s/epoch - 3s/step\n",
            "3490 images processed\n",
            "1/1 - 3s - loss: 874.7106 - val_loss: 901.0588 - 3s/epoch - 3s/step\n",
            "3500 images processed\n",
            "1/1 - 3s - loss: 1022.7711 - val_loss: 765.3287 - 3s/epoch - 3s/step\n"
          ]
        },
        {
          "metadata": {
            "tags": null
          },
          "name": "stderr",
          "output_type": "stream",
          "text": [
            "WARNING:absl:Found untraced functions such as restored_function_body, restored_function_body, restored_function_body, restored_function_body, restored_function_body while saving (showing 5 of 118). These functions will not be directly callable after loading.\n"
          ]
        },
        {
          "metadata": {
            "tags": null
          },
          "name": "stdout",
          "output_type": "stream",
          "text": [
            "INFO:tensorflow:Assets written to: /content/gdrive/MyDrive/project deepmag/saved model 10k epoch2/assets\n"
          ]
        },
        {
          "metadata": {
            "tags": null
          },
          "name": "stderr",
          "output_type": "stream",
          "text": [
            "INFO:tensorflow:Assets written to: /content/gdrive/MyDrive/project deepmag/saved model 10k epoch2/assets\n"
          ]
        },
        {
          "metadata": {
            "tags": null
          },
          "name": "stdout",
          "output_type": "stream",
          "text": [
            "3510 images processed\n",
            "1/1 - 3s - loss: 809.0897 - val_loss: 949.9454 - 3s/epoch - 3s/step\n",
            "3520 images processed\n",
            "1/1 - 3s - loss: 877.1239 - val_loss: 873.7736 - 3s/epoch - 3s/step\n",
            "3530 images processed\n",
            "1/1 - 3s - loss: 777.1611 - val_loss: 780.9883 - 3s/epoch - 3s/step\n",
            "3540 images processed\n",
            "1/1 - 3s - loss: 845.8041 - val_loss: 761.0839 - 3s/epoch - 3s/step\n",
            "3550 images processed\n",
            "1/1 - 3s - loss: 869.8990 - val_loss: 910.4229 - 3s/epoch - 3s/step\n",
            "3560 images processed\n",
            "1/1 - 3s - loss: 905.4383 - val_loss: 933.4227 - 3s/epoch - 3s/step\n",
            "3570 images processed\n",
            "1/1 - 3s - loss: 883.9816 - val_loss: 693.5056 - 3s/epoch - 3s/step\n",
            "3580 images processed\n",
            "1/1 - 3s - loss: 725.8949 - val_loss: 991.3549 - 3s/epoch - 3s/step\n",
            "3590 images processed\n",
            "1/1 - 3s - loss: 833.4505 - val_loss: 896.1799 - 3s/epoch - 3s/step\n",
            "3600 images processed\n",
            "1/1 - 3s - loss: 751.9774 - val_loss: 762.0806 - 3s/epoch - 3s/step\n"
          ]
        },
        {
          "metadata": {
            "tags": null
          },
          "name": "stderr",
          "output_type": "stream",
          "text": [
            "WARNING:absl:Found untraced functions such as restored_function_body, restored_function_body, restored_function_body, restored_function_body, restored_function_body while saving (showing 5 of 118). These functions will not be directly callable after loading.\n"
          ]
        },
        {
          "metadata": {
            "tags": null
          },
          "name": "stdout",
          "output_type": "stream",
          "text": [
            "INFO:tensorflow:Assets written to: /content/gdrive/MyDrive/project deepmag/saved model 10k epoch2/assets\n"
          ]
        },
        {
          "metadata": {
            "tags": null
          },
          "name": "stderr",
          "output_type": "stream",
          "text": [
            "INFO:tensorflow:Assets written to: /content/gdrive/MyDrive/project deepmag/saved model 10k epoch2/assets\n"
          ]
        },
        {
          "metadata": {
            "tags": null
          },
          "name": "stdout",
          "output_type": "stream",
          "text": [
            "3610 images processed\n",
            "1/1 - 3s - loss: 647.1727 - val_loss: 800.9278 - 3s/epoch - 3s/step\n",
            "3620 images processed\n",
            "1/1 - 3s - loss: 662.5189 - val_loss: 766.2365 - 3s/epoch - 3s/step\n",
            "3630 images processed\n",
            "1/1 - 3s - loss: 665.4525 - val_loss: 881.6044 - 3s/epoch - 3s/step\n",
            "3640 images processed\n",
            "1/1 - 3s - loss: 713.4883 - val_loss: 844.3741 - 3s/epoch - 3s/step\n",
            "3650 images processed\n",
            "1/1 - 3s - loss: 839.9984 - val_loss: 819.0438 - 3s/epoch - 3s/step\n",
            "3660 images processed\n",
            "1/1 - 3s - loss: 951.0831 - val_loss: 603.6920 - 3s/epoch - 3s/step\n",
            "3670 images processed\n",
            "1/1 - 3s - loss: 945.5515 - val_loss: 915.0793 - 3s/epoch - 3s/step\n",
            "3680 images processed\n",
            "1/1 - 3s - loss: 827.1925 - val_loss: 769.4475 - 3s/epoch - 3s/step\n",
            "3690 images processed\n",
            "1/1 - 3s - loss: 776.1011 - val_loss: 740.5121 - 3s/epoch - 3s/step\n",
            "3700 images processed\n",
            "1/1 - 3s - loss: 1121.9380 - val_loss: 987.0575 - 3s/epoch - 3s/step\n"
          ]
        },
        {
          "metadata": {
            "tags": null
          },
          "name": "stderr",
          "output_type": "stream",
          "text": [
            "WARNING:absl:Found untraced functions such as restored_function_body, restored_function_body, restored_function_body, restored_function_body, restored_function_body while saving (showing 5 of 118). These functions will not be directly callable after loading.\n"
          ]
        },
        {
          "metadata": {
            "tags": null
          },
          "name": "stdout",
          "output_type": "stream",
          "text": [
            "INFO:tensorflow:Assets written to: /content/gdrive/MyDrive/project deepmag/saved model 10k epoch2/assets\n"
          ]
        },
        {
          "metadata": {
            "tags": null
          },
          "name": "stderr",
          "output_type": "stream",
          "text": [
            "INFO:tensorflow:Assets written to: /content/gdrive/MyDrive/project deepmag/saved model 10k epoch2/assets\n"
          ]
        },
        {
          "metadata": {
            "tags": null
          },
          "name": "stdout",
          "output_type": "stream",
          "text": [
            "3710 images processed\n",
            "1/1 - 3s - loss: 864.2959 - val_loss: 935.8893 - 3s/epoch - 3s/step\n",
            "3720 images processed\n",
            "1/1 - 3s - loss: 1102.8944 - val_loss: 810.9601 - 3s/epoch - 3s/step\n",
            "3730 images processed\n",
            "1/1 - 3s - loss: 759.6836 - val_loss: 755.6796 - 3s/epoch - 3s/step\n",
            "3740 images processed\n",
            "1/1 - 3s - loss: 802.5536 - val_loss: 988.2913 - 3s/epoch - 3s/step\n",
            "3750 images processed\n",
            "1/1 - 3s - loss: 952.0441 - val_loss: 770.2421 - 3s/epoch - 3s/step\n",
            "3760 images processed\n",
            "1/1 - 3s - loss: 782.4591 - val_loss: 1033.7654 - 3s/epoch - 3s/step\n",
            "3770 images processed\n",
            "1/1 - 3s - loss: 897.2076 - val_loss: 778.1309 - 3s/epoch - 3s/step\n",
            "3780 images processed\n",
            "1/1 - 3s - loss: 713.2465 - val_loss: 939.2785 - 3s/epoch - 3s/step\n",
            "3790 images processed\n",
            "1/1 - 3s - loss: 912.1183 - val_loss: 932.7977 - 3s/epoch - 3s/step\n",
            "3800 images processed\n",
            "1/1 - 3s - loss: 713.3418 - val_loss: 854.3910 - 3s/epoch - 3s/step\n"
          ]
        },
        {
          "metadata": {
            "tags": null
          },
          "name": "stderr",
          "output_type": "stream",
          "text": [
            "WARNING:absl:Found untraced functions such as restored_function_body, restored_function_body, restored_function_body, restored_function_body, restored_function_body while saving (showing 5 of 118). These functions will not be directly callable after loading.\n"
          ]
        },
        {
          "metadata": {
            "tags": null
          },
          "name": "stdout",
          "output_type": "stream",
          "text": [
            "INFO:tensorflow:Assets written to: /content/gdrive/MyDrive/project deepmag/saved model 10k epoch2/assets\n"
          ]
        },
        {
          "metadata": {
            "tags": null
          },
          "name": "stderr",
          "output_type": "stream",
          "text": [
            "INFO:tensorflow:Assets written to: /content/gdrive/MyDrive/project deepmag/saved model 10k epoch2/assets\n"
          ]
        },
        {
          "metadata": {
            "tags": null
          },
          "name": "stdout",
          "output_type": "stream",
          "text": [
            "3810 images processed\n",
            "1/1 - 3s - loss: 710.5643 - val_loss: 785.9760 - 3s/epoch - 3s/step\n",
            "3820 images processed\n",
            "1/1 - 3s - loss: 918.0907 - val_loss: 675.8605 - 3s/epoch - 3s/step\n",
            "3830 images processed\n",
            "1/1 - 3s - loss: 908.4893 - val_loss: 780.0837 - 3s/epoch - 3s/step\n",
            "3840 images processed\n",
            "1/1 - 3s - loss: 954.5959 - val_loss: 931.5853 - 3s/epoch - 3s/step\n",
            "3850 images processed\n",
            "1/1 - 3s - loss: 1039.9818 - val_loss: 663.3080 - 3s/epoch - 3s/step\n",
            "3860 images processed\n",
            "1/1 - 3s - loss: 761.6572 - val_loss: 613.8814 - 3s/epoch - 3s/step\n",
            "3870 images processed\n",
            "1/1 - 3s - loss: 1027.7954 - val_loss: 756.5312 - 3s/epoch - 3s/step\n",
            "3880 images processed\n",
            "1/1 - 3s - loss: 850.0495 - val_loss: 843.4805 - 3s/epoch - 3s/step\n",
            "3890 images processed\n",
            "1/1 - 3s - loss: 874.0426 - val_loss: 781.1641 - 3s/epoch - 3s/step\n",
            "3900 images processed\n",
            "1/1 - 3s - loss: 904.8143 - val_loss: 556.8880 - 3s/epoch - 3s/step\n"
          ]
        },
        {
          "metadata": {
            "tags": null
          },
          "name": "stderr",
          "output_type": "stream",
          "text": [
            "WARNING:absl:Found untraced functions such as restored_function_body, restored_function_body, restored_function_body, restored_function_body, restored_function_body while saving (showing 5 of 118). These functions will not be directly callable after loading.\n"
          ]
        },
        {
          "metadata": {
            "tags": null
          },
          "name": "stdout",
          "output_type": "stream",
          "text": [
            "INFO:tensorflow:Assets written to: /content/gdrive/MyDrive/project deepmag/saved model 10k epoch2/assets\n"
          ]
        },
        {
          "metadata": {
            "tags": null
          },
          "name": "stderr",
          "output_type": "stream",
          "text": [
            "INFO:tensorflow:Assets written to: /content/gdrive/MyDrive/project deepmag/saved model 10k epoch2/assets\n"
          ]
        },
        {
          "metadata": {
            "tags": null
          },
          "name": "stdout",
          "output_type": "stream",
          "text": [
            "3910 images processed\n",
            "1/1 - 3s - loss: 764.4437 - val_loss: 765.4686 - 3s/epoch - 3s/step\n",
            "3920 images processed\n",
            "1/1 - 3s - loss: 842.6742 - val_loss: 767.3112 - 3s/epoch - 3s/step\n",
            "3930 images processed\n",
            "1/1 - 3s - loss: 750.8033 - val_loss: 723.4966 - 3s/epoch - 3s/step\n",
            "3940 images processed\n",
            "1/1 - 3s - loss: 809.5295 - val_loss: 717.3317 - 3s/epoch - 3s/step\n",
            "3950 images processed\n",
            "1/1 - 3s - loss: 830.3973 - val_loss: 808.9876 - 3s/epoch - 3s/step\n",
            "3960 images processed\n",
            "1/1 - 3s - loss: 1003.9357 - val_loss: 856.7152 - 3s/epoch - 3s/step\n",
            "3970 images processed\n",
            "1/1 - 3s - loss: 847.5031 - val_loss: 586.4721 - 3s/epoch - 3s/step\n",
            "3980 images processed\n",
            "1/1 - 3s - loss: 806.1882 - val_loss: 854.1587 - 3s/epoch - 3s/step\n",
            "3990 images processed\n",
            "1/1 - 3s - loss: 765.7909 - val_loss: 951.3949 - 3s/epoch - 3s/step\n",
            "4000 images processed\n",
            "1/1 - 3s - loss: 919.1404 - val_loss: 872.7255 - 3s/epoch - 3s/step\n"
          ]
        },
        {
          "metadata": {
            "tags": null
          },
          "name": "stderr",
          "output_type": "stream",
          "text": [
            "WARNING:absl:Found untraced functions such as restored_function_body, restored_function_body, restored_function_body, restored_function_body, restored_function_body while saving (showing 5 of 118). These functions will not be directly callable after loading.\n"
          ]
        },
        {
          "metadata": {
            "tags": null
          },
          "name": "stdout",
          "output_type": "stream",
          "text": [
            "INFO:tensorflow:Assets written to: /content/gdrive/MyDrive/project deepmag/saved model 10k epoch2/assets\n"
          ]
        },
        {
          "metadata": {
            "tags": null
          },
          "name": "stderr",
          "output_type": "stream",
          "text": [
            "INFO:tensorflow:Assets written to: /content/gdrive/MyDrive/project deepmag/saved model 10k epoch2/assets\n"
          ]
        },
        {
          "metadata": {
            "tags": null
          },
          "name": "stdout",
          "output_type": "stream",
          "text": [
            "4010 images processed\n",
            "1/1 - 3s - loss: 634.3397 - val_loss: 791.7103 - 3s/epoch - 3s/step\n",
            "4020 images processed\n",
            "1/1 - 3s - loss: 862.0804 - val_loss: 744.0043 - 3s/epoch - 3s/step\n",
            "4030 images processed\n",
            "1/1 - 3s - loss: 789.9791 - val_loss: 768.9769 - 3s/epoch - 3s/step\n",
            "4040 images processed\n",
            "1/1 - 3s - loss: 728.1656 - val_loss: 789.4790 - 3s/epoch - 3s/step\n",
            "4050 images processed\n",
            "1/1 - 3s - loss: 775.5613 - val_loss: 1007.5719 - 3s/epoch - 3s/step\n",
            "4060 images processed\n",
            "1/1 - 3s - loss: 725.8071 - val_loss: 673.9120 - 3s/epoch - 3s/step\n",
            "4070 images processed\n",
            "1/1 - 3s - loss: 746.4800 - val_loss: 740.9183 - 3s/epoch - 3s/step\n",
            "4080 images processed\n",
            "1/1 - 3s - loss: 694.9777 - val_loss: 699.6984 - 3s/epoch - 3s/step\n",
            "4090 images processed\n",
            "1/1 - 3s - loss: 672.5734 - val_loss: 802.5588 - 3s/epoch - 3s/step\n",
            "4100 images processed\n",
            "1/1 - 3s - loss: 658.8563 - val_loss: 852.4694 - 3s/epoch - 3s/step\n"
          ]
        },
        {
          "metadata": {
            "tags": null
          },
          "name": "stderr",
          "output_type": "stream",
          "text": [
            "WARNING:absl:Found untraced functions such as restored_function_body, restored_function_body, restored_function_body, restored_function_body, restored_function_body while saving (showing 5 of 118). These functions will not be directly callable after loading.\n"
          ]
        },
        {
          "metadata": {
            "tags": null
          },
          "name": "stdout",
          "output_type": "stream",
          "text": [
            "INFO:tensorflow:Assets written to: /content/gdrive/MyDrive/project deepmag/saved model 10k epoch2/assets\n"
          ]
        },
        {
          "metadata": {
            "tags": null
          },
          "name": "stderr",
          "output_type": "stream",
          "text": [
            "INFO:tensorflow:Assets written to: /content/gdrive/MyDrive/project deepmag/saved model 10k epoch2/assets\n"
          ]
        },
        {
          "metadata": {
            "tags": null
          },
          "name": "stdout",
          "output_type": "stream",
          "text": [
            "4110 images processed\n",
            "1/1 - 3s - loss: 823.9209 - val_loss: 770.8147 - 3s/epoch - 3s/step\n",
            "4120 images processed\n",
            "1/1 - 3s - loss: 813.0004 - val_loss: 824.4641 - 3s/epoch - 3s/step\n",
            "4130 images processed\n",
            "1/1 - 3s - loss: 746.8199 - val_loss: 790.6688 - 3s/epoch - 3s/step\n",
            "4140 images processed\n",
            "1/1 - 3s - loss: 881.9603 - val_loss: 840.8585 - 3s/epoch - 3s/step\n",
            "4150 images processed\n",
            "1/1 - 3s - loss: 657.3378 - val_loss: 900.2286 - 3s/epoch - 3s/step\n",
            "4160 images processed\n",
            "1/1 - 3s - loss: 818.9472 - val_loss: 835.4357 - 3s/epoch - 3s/step\n",
            "4170 images processed\n",
            "1/1 - 3s - loss: 812.7822 - val_loss: 804.9927 - 3s/epoch - 3s/step\n",
            "4180 images processed\n",
            "1/1 - 3s - loss: 755.2861 - val_loss: 849.3232 - 3s/epoch - 3s/step\n",
            "4190 images processed\n",
            "1/1 - 3s - loss: 949.6271 - val_loss: 699.8381 - 3s/epoch - 3s/step\n",
            "4200 images processed\n",
            "1/1 - 3s - loss: 692.1987 - val_loss: 905.3558 - 3s/epoch - 3s/step\n"
          ]
        },
        {
          "metadata": {
            "tags": null
          },
          "name": "stderr",
          "output_type": "stream",
          "text": [
            "WARNING:absl:Found untraced functions such as restored_function_body, restored_function_body, restored_function_body, restored_function_body, restored_function_body while saving (showing 5 of 118). These functions will not be directly callable after loading.\n"
          ]
        },
        {
          "metadata": {
            "tags": null
          },
          "name": "stdout",
          "output_type": "stream",
          "text": [
            "INFO:tensorflow:Assets written to: /content/gdrive/MyDrive/project deepmag/saved model 10k epoch2/assets\n"
          ]
        },
        {
          "metadata": {
            "tags": null
          },
          "name": "stderr",
          "output_type": "stream",
          "text": [
            "INFO:tensorflow:Assets written to: /content/gdrive/MyDrive/project deepmag/saved model 10k epoch2/assets\n"
          ]
        },
        {
          "metadata": {
            "tags": null
          },
          "name": "stdout",
          "output_type": "stream",
          "text": [
            "4210 images processed\n",
            "1/1 - 3s - loss: 871.1123 - val_loss: 827.2874 - 3s/epoch - 3s/step\n",
            "4220 images processed\n",
            "1/1 - 3s - loss: 804.0691 - val_loss: 753.8544 - 3s/epoch - 3s/step\n",
            "4230 images processed\n",
            "1/1 - 3s - loss: 975.1864 - val_loss: 696.2219 - 3s/epoch - 3s/step\n",
            "4240 images processed\n",
            "1/1 - 3s - loss: 805.9399 - val_loss: 851.5993 - 3s/epoch - 3s/step\n",
            "4250 images processed\n",
            "1/1 - 3s - loss: 838.2155 - val_loss: 815.5112 - 3s/epoch - 3s/step\n",
            "4260 images processed\n",
            "1/1 - 3s - loss: 958.2903 - val_loss: 722.7581 - 3s/epoch - 3s/step\n",
            "4270 images processed\n",
            "1/1 - 3s - loss: 829.5621 - val_loss: 820.3141 - 3s/epoch - 3s/step\n",
            "4280 images processed\n",
            "1/1 - 3s - loss: 898.3146 - val_loss: 818.3914 - 3s/epoch - 3s/step\n",
            "4290 images processed\n",
            "1/1 - 3s - loss: 1038.6289 - val_loss: 723.4553 - 3s/epoch - 3s/step\n",
            "4300 images processed\n",
            "1/1 - 3s - loss: 958.0781 - val_loss: 753.8853 - 3s/epoch - 3s/step\n"
          ]
        },
        {
          "metadata": {
            "tags": null
          },
          "name": "stderr",
          "output_type": "stream",
          "text": [
            "WARNING:absl:Found untraced functions such as restored_function_body, restored_function_body, restored_function_body, restored_function_body, restored_function_body while saving (showing 5 of 118). These functions will not be directly callable after loading.\n"
          ]
        },
        {
          "metadata": {
            "tags": null
          },
          "name": "stdout",
          "output_type": "stream",
          "text": [
            "INFO:tensorflow:Assets written to: /content/gdrive/MyDrive/project deepmag/saved model 10k epoch2/assets\n"
          ]
        },
        {
          "metadata": {
            "tags": null
          },
          "name": "stderr",
          "output_type": "stream",
          "text": [
            "INFO:tensorflow:Assets written to: /content/gdrive/MyDrive/project deepmag/saved model 10k epoch2/assets\n"
          ]
        },
        {
          "metadata": {
            "tags": null
          },
          "name": "stdout",
          "output_type": "stream",
          "text": [
            "4310 images processed\n",
            "1/1 - 3s - loss: 691.2762 - val_loss: 891.8087 - 3s/epoch - 3s/step\n",
            "4320 images processed\n",
            "1/1 - 3s - loss: 781.7895 - val_loss: 781.1805 - 3s/epoch - 3s/step\n",
            "4330 images processed\n",
            "1/1 - 3s - loss: 898.5330 - val_loss: 776.8748 - 3s/epoch - 3s/step\n",
            "4340 images processed\n",
            "1/1 - 3s - loss: 831.9769 - val_loss: 797.3318 - 3s/epoch - 3s/step\n",
            "4350 images processed\n",
            "1/1 - 3s - loss: 774.4799 - val_loss: 693.1041 - 3s/epoch - 3s/step\n",
            "4360 images processed\n",
            "1/1 - 3s - loss: 865.2210 - val_loss: 909.3877 - 3s/epoch - 3s/step\n",
            "4370 images processed\n",
            "1/1 - 3s - loss: 763.7557 - val_loss: 859.4468 - 3s/epoch - 3s/step\n",
            "4380 images processed\n",
            "1/1 - 3s - loss: 906.2003 - val_loss: 733.8135 - 3s/epoch - 3s/step\n",
            "4390 images processed\n",
            "1/1 - 3s - loss: 731.5189 - val_loss: 879.0964 - 3s/epoch - 3s/step\n",
            "4400 images processed\n",
            "1/1 - 3s - loss: 701.1185 - val_loss: 857.4798 - 3s/epoch - 3s/step\n"
          ]
        },
        {
          "metadata": {
            "tags": null
          },
          "name": "stderr",
          "output_type": "stream",
          "text": [
            "WARNING:absl:Found untraced functions such as restored_function_body, restored_function_body, restored_function_body, restored_function_body, restored_function_body while saving (showing 5 of 118). These functions will not be directly callable after loading.\n"
          ]
        },
        {
          "metadata": {
            "tags": null
          },
          "name": "stdout",
          "output_type": "stream",
          "text": [
            "INFO:tensorflow:Assets written to: /content/gdrive/MyDrive/project deepmag/saved model 10k epoch2/assets\n"
          ]
        },
        {
          "metadata": {
            "tags": null
          },
          "name": "stderr",
          "output_type": "stream",
          "text": [
            "INFO:tensorflow:Assets written to: /content/gdrive/MyDrive/project deepmag/saved model 10k epoch2/assets\n"
          ]
        },
        {
          "metadata": {
            "tags": null
          },
          "name": "stdout",
          "output_type": "stream",
          "text": [
            "4410 images processed\n",
            "1/1 - 3s - loss: 771.4036 - val_loss: 684.2762 - 3s/epoch - 3s/step\n",
            "4420 images processed\n",
            "1/1 - 3s - loss: 1019.2212 - val_loss: 861.8713 - 3s/epoch - 3s/step\n",
            "4430 images processed\n",
            "1/1 - 3s - loss: 693.8083 - val_loss: 729.6815 - 3s/epoch - 3s/step\n",
            "4440 images processed\n",
            "1/1 - 3s - loss: 828.7959 - val_loss: 821.9760 - 3s/epoch - 3s/step\n",
            "4450 images processed\n",
            "1/1 - 3s - loss: 768.0465 - val_loss: 885.5729 - 3s/epoch - 3s/step\n",
            "4460 images processed\n",
            "1/1 - 3s - loss: 873.6511 - val_loss: 542.5042 - 3s/epoch - 3s/step\n",
            "4470 images processed\n",
            "1/1 - 3s - loss: 845.8678 - val_loss: 926.4886 - 3s/epoch - 3s/step\n",
            "4480 images processed\n",
            "1/1 - 3s - loss: 813.1636 - val_loss: 686.6806 - 3s/epoch - 3s/step\n",
            "4490 images processed\n",
            "1/1 - 3s - loss: 734.1655 - val_loss: 806.3260 - 3s/epoch - 3s/step\n",
            "4500 images processed\n",
            "1/1 - 3s - loss: 882.6577 - val_loss: 736.6741 - 3s/epoch - 3s/step\n"
          ]
        },
        {
          "metadata": {
            "tags": null
          },
          "name": "stderr",
          "output_type": "stream",
          "text": [
            "WARNING:absl:Found untraced functions such as restored_function_body, restored_function_body, restored_function_body, restored_function_body, restored_function_body while saving (showing 5 of 118). These functions will not be directly callable after loading.\n"
          ]
        },
        {
          "metadata": {
            "tags": null
          },
          "name": "stdout",
          "output_type": "stream",
          "text": [
            "INFO:tensorflow:Assets written to: /content/gdrive/MyDrive/project deepmag/saved model 10k epoch2/assets\n"
          ]
        },
        {
          "metadata": {
            "tags": null
          },
          "name": "stderr",
          "output_type": "stream",
          "text": [
            "INFO:tensorflow:Assets written to: /content/gdrive/MyDrive/project deepmag/saved model 10k epoch2/assets\n"
          ]
        },
        {
          "metadata": {
            "tags": null
          },
          "name": "stdout",
          "output_type": "stream",
          "text": [
            "4510 images processed\n",
            "1/1 - 3s - loss: 785.4030 - val_loss: 777.3088 - 3s/epoch - 3s/step\n",
            "4520 images processed\n",
            "1/1 - 3s - loss: 867.9033 - val_loss: 722.8363 - 3s/epoch - 3s/step\n",
            "4530 images processed\n",
            "1/1 - 3s - loss: 861.0353 - val_loss: 856.1585 - 3s/epoch - 3s/step\n",
            "4540 images processed\n",
            "1/1 - 3s - loss: 958.1954 - val_loss: 1084.3553 - 3s/epoch - 3s/step\n",
            "4550 images processed\n",
            "1/1 - 3s - loss: 715.1022 - val_loss: 780.2393 - 3s/epoch - 3s/step\n",
            "4560 images processed\n",
            "1/1 - 3s - loss: 781.9299 - val_loss: 800.2534 - 3s/epoch - 3s/step\n",
            "4570 images processed\n",
            "1/1 - 3s - loss: 1044.6394 - val_loss: 784.7712 - 3s/epoch - 3s/step\n",
            "4580 images processed\n",
            "1/1 - 3s - loss: 943.2167 - val_loss: 717.0130 - 3s/epoch - 3s/step\n",
            "4590 images processed\n",
            "1/1 - 3s - loss: 837.6123 - val_loss: 684.0196 - 3s/epoch - 3s/step\n",
            "4600 images processed\n",
            "1/1 - 3s - loss: 679.6621 - val_loss: 989.4855 - 3s/epoch - 3s/step\n"
          ]
        },
        {
          "metadata": {
            "tags": null
          },
          "name": "stderr",
          "output_type": "stream",
          "text": [
            "WARNING:absl:Found untraced functions such as restored_function_body, restored_function_body, restored_function_body, restored_function_body, restored_function_body while saving (showing 5 of 118). These functions will not be directly callable after loading.\n"
          ]
        },
        {
          "metadata": {
            "tags": null
          },
          "name": "stdout",
          "output_type": "stream",
          "text": [
            "INFO:tensorflow:Assets written to: /content/gdrive/MyDrive/project deepmag/saved model 10k epoch2/assets\n"
          ]
        },
        {
          "metadata": {
            "tags": null
          },
          "name": "stderr",
          "output_type": "stream",
          "text": [
            "INFO:tensorflow:Assets written to: /content/gdrive/MyDrive/project deepmag/saved model 10k epoch2/assets\n"
          ]
        },
        {
          "metadata": {
            "tags": null
          },
          "name": "stdout",
          "output_type": "stream",
          "text": [
            "4610 images processed\n",
            "1/1 - 3s - loss: 894.6949 - val_loss: 871.3488 - 3s/epoch - 3s/step\n",
            "4620 images processed\n",
            "1/1 - 3s - loss: 787.1005 - val_loss: 718.2406 - 3s/epoch - 3s/step\n",
            "4630 images processed\n",
            "1/1 - 3s - loss: 1175.6609 - val_loss: 874.7023 - 3s/epoch - 3s/step\n",
            "4640 images processed\n",
            "1/1 - 3s - loss: 861.7906 - val_loss: 913.0809 - 3s/epoch - 3s/step\n",
            "4650 images processed\n",
            "1/1 - 3s - loss: 801.1203 - val_loss: 753.1079 - 3s/epoch - 3s/step\n",
            "4660 images processed\n",
            "1/1 - 3s - loss: 777.5082 - val_loss: 693.0095 - 3s/epoch - 3s/step\n",
            "4670 images processed\n",
            "1/1 - 3s - loss: 879.6732 - val_loss: 605.1057 - 3s/epoch - 3s/step\n",
            "4680 images processed\n",
            "1/1 - 3s - loss: 791.0401 - val_loss: 785.5067 - 3s/epoch - 3s/step\n",
            "4690 images processed\n",
            "1/1 - 3s - loss: 656.6490 - val_loss: 797.0382 - 3s/epoch - 3s/step\n",
            "4700 images processed\n",
            "1/1 - 3s - loss: 719.5731 - val_loss: 725.2202 - 3s/epoch - 3s/step\n"
          ]
        },
        {
          "metadata": {
            "tags": null
          },
          "name": "stderr",
          "output_type": "stream",
          "text": [
            "WARNING:absl:Found untraced functions such as restored_function_body, restored_function_body, restored_function_body, restored_function_body, restored_function_body while saving (showing 5 of 118). These functions will not be directly callable after loading.\n"
          ]
        },
        {
          "metadata": {
            "tags": null
          },
          "name": "stdout",
          "output_type": "stream",
          "text": [
            "INFO:tensorflow:Assets written to: /content/gdrive/MyDrive/project deepmag/saved model 10k epoch2/assets\n"
          ]
        },
        {
          "metadata": {
            "tags": null
          },
          "name": "stderr",
          "output_type": "stream",
          "text": [
            "INFO:tensorflow:Assets written to: /content/gdrive/MyDrive/project deepmag/saved model 10k epoch2/assets\n"
          ]
        },
        {
          "metadata": {
            "tags": null
          },
          "name": "stdout",
          "output_type": "stream",
          "text": [
            "4710 images processed\n",
            "1/1 - 3s - loss: 807.0667 - val_loss: 551.3277 - 3s/epoch - 3s/step\n",
            "4720 images processed\n",
            "1/1 - 3s - loss: 818.0710 - val_loss: 731.0629 - 3s/epoch - 3s/step\n",
            "4730 images processed\n",
            "1/1 - 3s - loss: 839.0306 - val_loss: 819.5978 - 3s/epoch - 3s/step\n",
            "4740 images processed\n",
            "1/1 - 3s - loss: 866.4700 - val_loss: 708.3082 - 3s/epoch - 3s/step\n",
            "4750 images processed\n",
            "1/1 - 3s - loss: 752.3235 - val_loss: 960.0883 - 3s/epoch - 3s/step\n",
            "4760 images processed\n",
            "1/1 - 3s - loss: 849.1588 - val_loss: 813.1132 - 3s/epoch - 3s/step\n",
            "4770 images processed\n",
            "1/1 - 3s - loss: 1115.9708 - val_loss: 875.4117 - 3s/epoch - 3s/step\n",
            "4780 images processed\n",
            "1/1 - 3s - loss: 897.9720 - val_loss: 766.9423 - 3s/epoch - 3s/step\n",
            "4790 images processed\n",
            "1/1 - 3s - loss: 963.5770 - val_loss: 820.1615 - 3s/epoch - 3s/step\n",
            "4800 images processed\n",
            "1/1 - 3s - loss: 1072.6416 - val_loss: 809.6923 - 3s/epoch - 3s/step\n"
          ]
        },
        {
          "metadata": {
            "tags": null
          },
          "name": "stderr",
          "output_type": "stream",
          "text": [
            "WARNING:absl:Found untraced functions such as restored_function_body, restored_function_body, restored_function_body, restored_function_body, restored_function_body while saving (showing 5 of 118). These functions will not be directly callable after loading.\n"
          ]
        },
        {
          "metadata": {
            "tags": null
          },
          "name": "stdout",
          "output_type": "stream",
          "text": [
            "INFO:tensorflow:Assets written to: /content/gdrive/MyDrive/project deepmag/saved model 10k epoch2/assets\n"
          ]
        },
        {
          "metadata": {
            "tags": null
          },
          "name": "stderr",
          "output_type": "stream",
          "text": [
            "INFO:tensorflow:Assets written to: /content/gdrive/MyDrive/project deepmag/saved model 10k epoch2/assets\n"
          ]
        },
        {
          "metadata": {
            "tags": null
          },
          "name": "stdout",
          "output_type": "stream",
          "text": [
            "4810 images processed\n",
            "1/1 - 3s - loss: 845.7250 - val_loss: 948.4699 - 3s/epoch - 3s/step\n",
            "4820 images processed\n",
            "1/1 - 3s - loss: 905.0936 - val_loss: 649.8638 - 3s/epoch - 3s/step\n",
            "4830 images processed\n",
            "1/1 - 3s - loss: 1093.7690 - val_loss: 801.0344 - 3s/epoch - 3s/step\n",
            "4840 images processed\n",
            "1/1 - 3s - loss: 742.0704 - val_loss: 870.5853 - 3s/epoch - 3s/step\n",
            "4850 images processed\n",
            "1/1 - 3s - loss: 849.7892 - val_loss: 694.7483 - 3s/epoch - 3s/step\n",
            "4860 images processed\n",
            "1/1 - 3s - loss: 886.1085 - val_loss: 673.6796 - 3s/epoch - 3s/step\n",
            "4870 images processed\n",
            "1/1 - 3s - loss: 1080.6279 - val_loss: 597.5348 - 3s/epoch - 3s/step\n",
            "4880 images processed\n",
            "1/1 - 3s - loss: 884.4103 - val_loss: 629.5989 - 3s/epoch - 3s/step\n",
            "4890 images processed\n",
            "1/1 - 3s - loss: 726.9791 - val_loss: 794.8331 - 3s/epoch - 3s/step\n",
            "4900 images processed\n",
            "1/1 - 3s - loss: 883.4344 - val_loss: 924.9564 - 3s/epoch - 3s/step\n"
          ]
        },
        {
          "metadata": {
            "tags": null
          },
          "name": "stderr",
          "output_type": "stream",
          "text": [
            "WARNING:absl:Found untraced functions such as restored_function_body, restored_function_body, restored_function_body, restored_function_body, restored_function_body while saving (showing 5 of 118). These functions will not be directly callable after loading.\n"
          ]
        },
        {
          "metadata": {
            "tags": null
          },
          "name": "stdout",
          "output_type": "stream",
          "text": [
            "INFO:tensorflow:Assets written to: /content/gdrive/MyDrive/project deepmag/saved model 10k epoch2/assets\n"
          ]
        },
        {
          "metadata": {
            "tags": null
          },
          "name": "stderr",
          "output_type": "stream",
          "text": [
            "INFO:tensorflow:Assets written to: /content/gdrive/MyDrive/project deepmag/saved model 10k epoch2/assets\n"
          ]
        },
        {
          "metadata": {
            "tags": null
          },
          "name": "stdout",
          "output_type": "stream",
          "text": [
            "4910 images processed\n",
            "1/1 - 3s - loss: 665.7703 - val_loss: 891.3504 - 3s/epoch - 3s/step\n",
            "4920 images processed\n",
            "1/1 - 3s - loss: 726.4206 - val_loss: 798.7682 - 3s/epoch - 3s/step\n",
            "4930 images processed\n",
            "1/1 - 3s - loss: 776.4517 - val_loss: 851.7054 - 3s/epoch - 3s/step\n",
            "4940 images processed\n",
            "1/1 - 3s - loss: 690.5890 - val_loss: 590.3325 - 3s/epoch - 3s/step\n",
            "4950 images processed\n",
            "1/1 - 3s - loss: 795.3641 - val_loss: 890.5760 - 3s/epoch - 3s/step\n",
            "4960 images processed\n",
            "1/1 - 3s - loss: 1024.7686 - val_loss: 750.3828 - 3s/epoch - 3s/step\n",
            "4970 images processed\n",
            "1/1 - 3s - loss: 833.9593 - val_loss: 494.4179 - 3s/epoch - 3s/step\n",
            "4980 images processed\n",
            "1/1 - 3s - loss: 846.5206 - val_loss: 913.0695 - 3s/epoch - 3s/step\n",
            "4990 images processed\n",
            "1/1 - 3s - loss: 938.8502 - val_loss: 768.4808 - 3s/epoch - 3s/step\n",
            "5000 images processed\n",
            "1/1 - 3s - loss: 841.1139 - val_loss: 815.2507 - 3s/epoch - 3s/step\n"
          ]
        },
        {
          "metadata": {
            "tags": null
          },
          "name": "stderr",
          "output_type": "stream",
          "text": [
            "WARNING:absl:Found untraced functions such as restored_function_body, restored_function_body, restored_function_body, restored_function_body, restored_function_body while saving (showing 5 of 118). These functions will not be directly callable after loading.\n"
          ]
        },
        {
          "metadata": {
            "tags": null
          },
          "name": "stdout",
          "output_type": "stream",
          "text": [
            "INFO:tensorflow:Assets written to: /content/gdrive/MyDrive/project deepmag/saved model 10k epoch2/assets\n"
          ]
        },
        {
          "metadata": {
            "tags": null
          },
          "name": "stderr",
          "output_type": "stream",
          "text": [
            "INFO:tensorflow:Assets written to: /content/gdrive/MyDrive/project deepmag/saved model 10k epoch2/assets\n"
          ]
        },
        {
          "metadata": {
            "tags": null
          },
          "name": "stdout",
          "output_type": "stream",
          "text": [
            "5010 images processed\n",
            "1/1 - 3s - loss: 829.9165 - val_loss: 853.5599 - 3s/epoch - 3s/step\n",
            "5020 images processed\n",
            "1/1 - 3s - loss: 844.9852 - val_loss: 723.4672 - 3s/epoch - 3s/step\n",
            "5030 images processed\n",
            "1/1 - 3s - loss: 764.0205 - val_loss: 865.5277 - 3s/epoch - 3s/step\n",
            "5040 images processed\n",
            "1/1 - 3s - loss: 743.8211 - val_loss: 598.7359 - 3s/epoch - 3s/step\n",
            "5050 images processed\n",
            "1/1 - 3s - loss: 788.3473 - val_loss: 849.0455 - 3s/epoch - 3s/step\n",
            "5060 images processed\n",
            "1/1 - 3s - loss: 1097.2056 - val_loss: 839.7294 - 3s/epoch - 3s/step\n",
            "5070 images processed\n",
            "1/1 - 3s - loss: 990.5433 - val_loss: 790.8982 - 3s/epoch - 3s/step\n",
            "5080 images processed\n",
            "1/1 - 3s - loss: 745.2032 - val_loss: 847.8210 - 3s/epoch - 3s/step\n",
            "5090 images processed\n",
            "1/1 - 3s - loss: 899.4207 - val_loss: 981.7580 - 3s/epoch - 3s/step\n",
            "5100 images processed\n",
            "1/1 - 3s - loss: 814.9792 - val_loss: 743.9515 - 3s/epoch - 3s/step\n"
          ]
        },
        {
          "metadata": {
            "tags": null
          },
          "name": "stderr",
          "output_type": "stream",
          "text": [
            "WARNING:absl:Found untraced functions such as restored_function_body, restored_function_body, restored_function_body, restored_function_body, restored_function_body while saving (showing 5 of 118). These functions will not be directly callable after loading.\n"
          ]
        },
        {
          "metadata": {
            "tags": null
          },
          "name": "stdout",
          "output_type": "stream",
          "text": [
            "INFO:tensorflow:Assets written to: /content/gdrive/MyDrive/project deepmag/saved model 10k epoch2/assets\n"
          ]
        },
        {
          "metadata": {
            "tags": null
          },
          "name": "stderr",
          "output_type": "stream",
          "text": [
            "INFO:tensorflow:Assets written to: /content/gdrive/MyDrive/project deepmag/saved model 10k epoch2/assets\n"
          ]
        },
        {
          "metadata": {
            "tags": null
          },
          "name": "stdout",
          "output_type": "stream",
          "text": [
            "5110 images processed\n",
            "1/1 - 3s - loss: 808.1250 - val_loss: 813.3857 - 3s/epoch - 3s/step\n",
            "5120 images processed\n",
            "1/1 - 3s - loss: 948.5877 - val_loss: 682.9755 - 3s/epoch - 3s/step\n",
            "5130 images processed\n",
            "1/1 - 3s - loss: 855.8244 - val_loss: 769.0876 - 3s/epoch - 3s/step\n",
            "5140 images processed\n",
            "1/1 - 3s - loss: 789.2852 - val_loss: 922.9109 - 3s/epoch - 3s/step\n",
            "5150 images processed\n",
            "1/1 - 3s - loss: 827.6981 - val_loss: 648.8755 - 3s/epoch - 3s/step\n",
            "5160 images processed\n",
            "1/1 - 3s - loss: 865.4445 - val_loss: 772.2948 - 3s/epoch - 3s/step\n",
            "5170 images processed\n",
            "1/1 - 3s - loss: 764.9122 - val_loss: 700.1365 - 3s/epoch - 3s/step\n",
            "5180 images processed\n",
            "1/1 - 3s - loss: 603.4421 - val_loss: 685.8859 - 3s/epoch - 3s/step\n",
            "5190 images processed\n",
            "1/1 - 3s - loss: 782.9315 - val_loss: 867.5428 - 3s/epoch - 3s/step\n",
            "5200 images processed\n",
            "1/1 - 3s - loss: 943.2028 - val_loss: 1015.2518 - 3s/epoch - 3s/step\n"
          ]
        },
        {
          "metadata": {
            "tags": null
          },
          "name": "stderr",
          "output_type": "stream",
          "text": [
            "WARNING:absl:Found untraced functions such as restored_function_body, restored_function_body, restored_function_body, restored_function_body, restored_function_body while saving (showing 5 of 118). These functions will not be directly callable after loading.\n"
          ]
        },
        {
          "metadata": {
            "tags": null
          },
          "name": "stdout",
          "output_type": "stream",
          "text": [
            "INFO:tensorflow:Assets written to: /content/gdrive/MyDrive/project deepmag/saved model 10k epoch2/assets\n"
          ]
        },
        {
          "metadata": {
            "tags": null
          },
          "name": "stderr",
          "output_type": "stream",
          "text": [
            "INFO:tensorflow:Assets written to: /content/gdrive/MyDrive/project deepmag/saved model 10k epoch2/assets\n"
          ]
        },
        {
          "metadata": {
            "tags": null
          },
          "name": "stdout",
          "output_type": "stream",
          "text": [
            "5210 images processed\n",
            "1/1 - 3s - loss: 708.4126 - val_loss: 832.1475 - 3s/epoch - 3s/step\n",
            "5220 images processed\n",
            "1/1 - 3s - loss: 1029.6266 - val_loss: 732.9328 - 3s/epoch - 3s/step\n",
            "5230 images processed\n",
            "1/1 - 3s - loss: 961.5626 - val_loss: 764.3870 - 3s/epoch - 3s/step\n",
            "5240 images processed\n",
            "1/1 - 3s - loss: 787.9128 - val_loss: 696.0677 - 3s/epoch - 3s/step\n",
            "5250 images processed\n",
            "1/1 - 3s - loss: 941.7430 - val_loss: 909.3318 - 3s/epoch - 3s/step\n",
            "5260 images processed\n",
            "1/1 - 3s - loss: 797.7038 - val_loss: 722.1917 - 3s/epoch - 3s/step\n",
            "5270 images processed\n",
            "1/1 - 3s - loss: 885.2840 - val_loss: 793.9258 - 3s/epoch - 3s/step\n",
            "5280 images processed\n",
            "1/1 - 3s - loss: 1068.1691 - val_loss: 695.2152 - 3s/epoch - 3s/step\n",
            "5290 images processed\n",
            "1/1 - 3s - loss: 899.3840 - val_loss: 706.2481 - 3s/epoch - 3s/step\n",
            "5300 images processed\n",
            "1/1 - 3s - loss: 660.6541 - val_loss: 866.7913 - 3s/epoch - 3s/step\n"
          ]
        },
        {
          "metadata": {
            "tags": null
          },
          "name": "stderr",
          "output_type": "stream",
          "text": [
            "WARNING:absl:Found untraced functions such as restored_function_body, restored_function_body, restored_function_body, restored_function_body, restored_function_body while saving (showing 5 of 118). These functions will not be directly callable after loading.\n"
          ]
        },
        {
          "metadata": {
            "tags": null
          },
          "name": "stdout",
          "output_type": "stream",
          "text": [
            "INFO:tensorflow:Assets written to: /content/gdrive/MyDrive/project deepmag/saved model 10k epoch2/assets\n"
          ]
        },
        {
          "metadata": {
            "tags": null
          },
          "name": "stderr",
          "output_type": "stream",
          "text": [
            "INFO:tensorflow:Assets written to: /content/gdrive/MyDrive/project deepmag/saved model 10k epoch2/assets\n"
          ]
        },
        {
          "metadata": {
            "tags": null
          },
          "name": "stdout",
          "output_type": "stream",
          "text": [
            "5310 images processed\n",
            "1/1 - 3s - loss: 1082.7660 - val_loss: 920.7003 - 3s/epoch - 3s/step\n",
            "5320 images processed\n",
            "1/1 - 3s - loss: 819.1155 - val_loss: 695.0022 - 3s/epoch - 3s/step\n",
            "5330 images processed\n",
            "1/1 - 3s - loss: 971.2245 - val_loss: 718.1559 - 3s/epoch - 3s/step\n",
            "5340 images processed\n",
            "1/1 - 3s - loss: 817.8409 - val_loss: 665.3510 - 3s/epoch - 3s/step\n",
            "5350 images processed\n",
            "1/1 - 3s - loss: 772.7220 - val_loss: 595.0092 - 3s/epoch - 3s/step\n",
            "5360 images processed\n",
            "1/1 - 3s - loss: 757.6877 - val_loss: 748.8641 - 3s/epoch - 3s/step\n",
            "5370 images processed\n",
            "1/1 - 3s - loss: 796.6684 - val_loss: 1006.1235 - 3s/epoch - 3s/step\n",
            "5380 images processed\n",
            "1/1 - 3s - loss: 946.5021 - val_loss: 866.5819 - 3s/epoch - 3s/step\n",
            "5390 images processed\n",
            "1/1 - 3s - loss: 819.1523 - val_loss: 1003.7816 - 3s/epoch - 3s/step\n",
            "5400 images processed\n",
            "1/1 - 3s - loss: 739.0578 - val_loss: 934.0335 - 3s/epoch - 3s/step\n"
          ]
        },
        {
          "metadata": {
            "tags": null
          },
          "name": "stderr",
          "output_type": "stream",
          "text": [
            "WARNING:absl:Found untraced functions such as restored_function_body, restored_function_body, restored_function_body, restored_function_body, restored_function_body while saving (showing 5 of 118). These functions will not be directly callable after loading.\n"
          ]
        },
        {
          "metadata": {
            "tags": null
          },
          "name": "stdout",
          "output_type": "stream",
          "text": [
            "INFO:tensorflow:Assets written to: /content/gdrive/MyDrive/project deepmag/saved model 10k epoch2/assets\n"
          ]
        },
        {
          "metadata": {
            "tags": null
          },
          "name": "stderr",
          "output_type": "stream",
          "text": [
            "INFO:tensorflow:Assets written to: /content/gdrive/MyDrive/project deepmag/saved model 10k epoch2/assets\n"
          ]
        },
        {
          "metadata": {
            "tags": null
          },
          "name": "stdout",
          "output_type": "stream",
          "text": [
            "5410 images processed\n",
            "1/1 - 3s - loss: 732.7491 - val_loss: 779.0004 - 3s/epoch - 3s/step\n",
            "5420 images processed\n",
            "1/1 - 3s - loss: 714.2216 - val_loss: 725.3707 - 3s/epoch - 3s/step\n",
            "5430 images processed\n",
            "1/1 - 3s - loss: 986.6771 - val_loss: 548.5533 - 3s/epoch - 3s/step\n",
            "5440 images processed\n",
            "1/1 - 3s - loss: 802.8353 - val_loss: 910.2667 - 3s/epoch - 3s/step\n",
            "5450 images processed\n",
            "1/1 - 3s - loss: 784.1666 - val_loss: 719.1807 - 3s/epoch - 3s/step\n",
            "5460 images processed\n",
            "1/1 - 3s - loss: 964.3217 - val_loss: 905.1365 - 3s/epoch - 3s/step\n",
            "5470 images processed\n",
            "1/1 - 3s - loss: 941.4948 - val_loss: 937.1818 - 3s/epoch - 3s/step\n",
            "5480 images processed\n",
            "1/1 - 3s - loss: 934.1445 - val_loss: 890.1603 - 3s/epoch - 3s/step\n",
            "5490 images processed\n",
            "1/1 - 3s - loss: 793.8499 - val_loss: 647.9910 - 3s/epoch - 3s/step\n",
            "5500 images processed\n",
            "1/1 - 3s - loss: 630.7956 - val_loss: 825.1310 - 3s/epoch - 3s/step\n"
          ]
        },
        {
          "metadata": {
            "tags": null
          },
          "name": "stderr",
          "output_type": "stream",
          "text": [
            "WARNING:absl:Found untraced functions such as restored_function_body, restored_function_body, restored_function_body, restored_function_body, restored_function_body while saving (showing 5 of 118). These functions will not be directly callable after loading.\n"
          ]
        },
        {
          "metadata": {
            "tags": null
          },
          "name": "stdout",
          "output_type": "stream",
          "text": [
            "INFO:tensorflow:Assets written to: /content/gdrive/MyDrive/project deepmag/saved model 10k epoch2/assets\n"
          ]
        },
        {
          "metadata": {
            "tags": null
          },
          "name": "stderr",
          "output_type": "stream",
          "text": [
            "INFO:tensorflow:Assets written to: /content/gdrive/MyDrive/project deepmag/saved model 10k epoch2/assets\n"
          ]
        },
        {
          "metadata": {
            "tags": null
          },
          "name": "stdout",
          "output_type": "stream",
          "text": [
            "5510 images processed\n",
            "1/1 - 3s - loss: 696.8370 - val_loss: 897.7507 - 3s/epoch - 3s/step\n",
            "5520 images processed\n",
            "1/1 - 3s - loss: 707.6016 - val_loss: 692.2975 - 3s/epoch - 3s/step\n",
            "5530 images processed\n",
            "1/1 - 3s - loss: 822.2323 - val_loss: 693.2755 - 3s/epoch - 3s/step\n",
            "5540 images processed\n",
            "1/1 - 3s - loss: 953.8176 - val_loss: 1028.0963 - 3s/epoch - 3s/step\n",
            "5550 images processed\n",
            "1/1 - 3s - loss: 1215.5743 - val_loss: 851.5286 - 3s/epoch - 3s/step\n",
            "5560 images processed\n",
            "1/1 - 3s - loss: 772.8180 - val_loss: 829.8033 - 3s/epoch - 3s/step\n",
            "5570 images processed\n",
            "1/1 - 3s - loss: 897.5145 - val_loss: 914.6287 - 3s/epoch - 3s/step\n",
            "5580 images processed\n",
            "1/1 - 3s - loss: 828.4025 - val_loss: 722.2867 - 3s/epoch - 3s/step\n",
            "5590 images processed\n",
            "1/1 - 3s - loss: 884.1931 - val_loss: 911.3068 - 3s/epoch - 3s/step\n",
            "5600 images processed\n",
            "1/1 - 3s - loss: 840.4904 - val_loss: 676.5652 - 3s/epoch - 3s/step\n"
          ]
        },
        {
          "metadata": {
            "tags": null
          },
          "name": "stderr",
          "output_type": "stream",
          "text": [
            "WARNING:absl:Found untraced functions such as restored_function_body, restored_function_body, restored_function_body, restored_function_body, restored_function_body while saving (showing 5 of 118). These functions will not be directly callable after loading.\n"
          ]
        },
        {
          "metadata": {
            "tags": null
          },
          "name": "stdout",
          "output_type": "stream",
          "text": [
            "INFO:tensorflow:Assets written to: /content/gdrive/MyDrive/project deepmag/saved model 10k epoch2/assets\n"
          ]
        },
        {
          "metadata": {
            "tags": null
          },
          "name": "stderr",
          "output_type": "stream",
          "text": [
            "INFO:tensorflow:Assets written to: /content/gdrive/MyDrive/project deepmag/saved model 10k epoch2/assets\n"
          ]
        },
        {
          "metadata": {
            "tags": null
          },
          "name": "stdout",
          "output_type": "stream",
          "text": [
            "5610 images processed\n",
            "1/1 - 3s - loss: 783.0009 - val_loss: 685.3938 - 3s/epoch - 3s/step\n",
            "5620 images processed\n",
            "1/1 - 3s - loss: 793.1026 - val_loss: 1139.9429 - 3s/epoch - 3s/step\n",
            "5630 images processed\n",
            "1/1 - 3s - loss: 722.7479 - val_loss: 989.7352 - 3s/epoch - 3s/step\n",
            "5640 images processed\n",
            "1/1 - 3s - loss: 853.2588 - val_loss: 953.0709 - 3s/epoch - 3s/step\n",
            "5650 images processed\n",
            "1/1 - 3s - loss: 654.4179 - val_loss: 731.5936 - 3s/epoch - 3s/step\n",
            "5660 images processed\n",
            "1/1 - 3s - loss: 862.9632 - val_loss: 750.2673 - 3s/epoch - 3s/step\n",
            "5670 images processed\n",
            "1/1 - 3s - loss: 928.8369 - val_loss: 736.7101 - 3s/epoch - 3s/step\n",
            "5680 images processed\n",
            "1/1 - 3s - loss: 880.8975 - val_loss: 722.4115 - 3s/epoch - 3s/step\n",
            "5690 images processed\n",
            "1/1 - 3s - loss: 943.0587 - val_loss: 675.3363 - 3s/epoch - 3s/step\n",
            "5700 images processed\n",
            "1/1 - 3s - loss: 753.4135 - val_loss: 692.7886 - 3s/epoch - 3s/step\n"
          ]
        },
        {
          "metadata": {
            "tags": null
          },
          "name": "stderr",
          "output_type": "stream",
          "text": [
            "WARNING:absl:Found untraced functions such as restored_function_body, restored_function_body, restored_function_body, restored_function_body, restored_function_body while saving (showing 5 of 118). These functions will not be directly callable after loading.\n"
          ]
        },
        {
          "metadata": {
            "tags": null
          },
          "name": "stdout",
          "output_type": "stream",
          "text": [
            "INFO:tensorflow:Assets written to: /content/gdrive/MyDrive/project deepmag/saved model 10k epoch2/assets\n"
          ]
        },
        {
          "metadata": {
            "tags": null
          },
          "name": "stderr",
          "output_type": "stream",
          "text": [
            "INFO:tensorflow:Assets written to: /content/gdrive/MyDrive/project deepmag/saved model 10k epoch2/assets\n"
          ]
        },
        {
          "metadata": {
            "tags": null
          },
          "name": "stdout",
          "output_type": "stream",
          "text": [
            "5710 images processed\n",
            "1/1 - 3s - loss: 859.3754 - val_loss: 760.2698 - 3s/epoch - 3s/step\n",
            "5720 images processed\n",
            "1/1 - 3s - loss: 700.1962 - val_loss: 755.9389 - 3s/epoch - 3s/step\n",
            "5730 images processed\n",
            "1/1 - 3s - loss: 766.2995 - val_loss: 918.3583 - 3s/epoch - 3s/step\n",
            "5740 images processed\n",
            "1/1 - 3s - loss: 775.9104 - val_loss: 758.6137 - 3s/epoch - 3s/step\n",
            "5750 images processed\n",
            "1/1 - 3s - loss: 996.6881 - val_loss: 655.7827 - 3s/epoch - 3s/step\n",
            "5760 images processed\n",
            "1/1 - 3s - loss: 748.0992 - val_loss: 937.4498 - 3s/epoch - 3s/step\n",
            "5770 images processed\n",
            "1/1 - 3s - loss: 781.5386 - val_loss: 777.2917 - 3s/epoch - 3s/step\n",
            "5780 images processed\n",
            "1/1 - 3s - loss: 876.8824 - val_loss: 871.7277 - 3s/epoch - 3s/step\n",
            "5790 images processed\n",
            "1/1 - 3s - loss: 825.8365 - val_loss: 769.2501 - 3s/epoch - 3s/step\n",
            "5800 images processed\n",
            "1/1 - 3s - loss: 847.1664 - val_loss: 774.1925 - 3s/epoch - 3s/step\n"
          ]
        },
        {
          "metadata": {
            "tags": null
          },
          "name": "stderr",
          "output_type": "stream",
          "text": [
            "WARNING:absl:Found untraced functions such as restored_function_body, restored_function_body, restored_function_body, restored_function_body, restored_function_body while saving (showing 5 of 118). These functions will not be directly callable after loading.\n"
          ]
        },
        {
          "metadata": {
            "tags": null
          },
          "name": "stdout",
          "output_type": "stream",
          "text": [
            "INFO:tensorflow:Assets written to: /content/gdrive/MyDrive/project deepmag/saved model 10k epoch2/assets\n"
          ]
        },
        {
          "metadata": {
            "tags": null
          },
          "name": "stderr",
          "output_type": "stream",
          "text": [
            "INFO:tensorflow:Assets written to: /content/gdrive/MyDrive/project deepmag/saved model 10k epoch2/assets\n"
          ]
        },
        {
          "metadata": {
            "tags": null
          },
          "name": "stdout",
          "output_type": "stream",
          "text": [
            "5810 images processed\n",
            "1/1 - 3s - loss: 717.4346 - val_loss: 620.2774 - 3s/epoch - 3s/step\n",
            "5820 images processed\n",
            "1/1 - 3s - loss: 993.8773 - val_loss: 1050.7606 - 3s/epoch - 3s/step\n",
            "5830 images processed\n",
            "1/1 - 3s - loss: 846.7358 - val_loss: 915.1830 - 3s/epoch - 3s/step\n",
            "5840 images processed\n",
            "1/1 - 3s - loss: 747.2338 - val_loss: 527.9808 - 3s/epoch - 3s/step\n",
            "5850 images processed\n",
            "1/1 - 3s - loss: 672.4866 - val_loss: 786.7627 - 3s/epoch - 3s/step\n",
            "5860 images processed\n",
            "1/1 - 3s - loss: 943.7955 - val_loss: 1022.9696 - 3s/epoch - 3s/step\n",
            "5870 images processed\n",
            "1/1 - 3s - loss: 699.7367 - val_loss: 897.4793 - 3s/epoch - 3s/step\n",
            "5880 images processed\n",
            "1/1 - 3s - loss: 751.2260 - val_loss: 799.0336 - 3s/epoch - 3s/step\n",
            "5890 images processed\n",
            "1/1 - 3s - loss: 765.5113 - val_loss: 697.5253 - 3s/epoch - 3s/step\n",
            "5900 images processed\n",
            "1/1 - 3s - loss: 964.6713 - val_loss: 711.5058 - 3s/epoch - 3s/step\n"
          ]
        },
        {
          "metadata": {
            "tags": null
          },
          "name": "stderr",
          "output_type": "stream",
          "text": [
            "WARNING:absl:Found untraced functions such as restored_function_body, restored_function_body, restored_function_body, restored_function_body, restored_function_body while saving (showing 5 of 118). These functions will not be directly callable after loading.\n"
          ]
        },
        {
          "metadata": {
            "tags": null
          },
          "name": "stdout",
          "output_type": "stream",
          "text": [
            "INFO:tensorflow:Assets written to: /content/gdrive/MyDrive/project deepmag/saved model 10k epoch2/assets\n"
          ]
        },
        {
          "metadata": {
            "tags": null
          },
          "name": "stderr",
          "output_type": "stream",
          "text": [
            "INFO:tensorflow:Assets written to: /content/gdrive/MyDrive/project deepmag/saved model 10k epoch2/assets\n"
          ]
        },
        {
          "metadata": {
            "tags": null
          },
          "name": "stdout",
          "output_type": "stream",
          "text": [
            "5910 images processed\n",
            "1/1 - 3s - loss: 702.5189 - val_loss: 678.0198 - 3s/epoch - 3s/step\n",
            "5920 images processed\n",
            "1/1 - 3s - loss: 731.3462 - val_loss: 902.0822 - 3s/epoch - 3s/step\n",
            "5930 images processed\n",
            "1/1 - 3s - loss: 692.0417 - val_loss: 886.7460 - 3s/epoch - 3s/step\n",
            "5940 images processed\n",
            "1/1 - 3s - loss: 706.2891 - val_loss: 716.3746 - 3s/epoch - 3s/step\n",
            "5950 images processed\n",
            "1/1 - 3s - loss: 721.5673 - val_loss: 921.2902 - 3s/epoch - 3s/step\n",
            "5960 images processed\n",
            "1/1 - 3s - loss: 722.6329 - val_loss: 834.0079 - 3s/epoch - 3s/step\n",
            "5970 images processed\n",
            "1/1 - 3s - loss: 871.6647 - val_loss: 786.2519 - 3s/epoch - 3s/step\n",
            "5980 images processed\n",
            "1/1 - 3s - loss: 812.0467 - val_loss: 961.1609 - 3s/epoch - 3s/step\n",
            "5990 images processed\n",
            "1/1 - 3s - loss: 871.4009 - val_loss: 801.8149 - 3s/epoch - 3s/step\n",
            "6000 images processed\n",
            "1/1 - 3s - loss: 785.4384 - val_loss: 811.5173 - 3s/epoch - 3s/step\n"
          ]
        },
        {
          "metadata": {
            "tags": null
          },
          "name": "stderr",
          "output_type": "stream",
          "text": [
            "WARNING:absl:Found untraced functions such as restored_function_body, restored_function_body, restored_function_body, restored_function_body, restored_function_body while saving (showing 5 of 118). These functions will not be directly callable after loading.\n"
          ]
        },
        {
          "metadata": {
            "tags": null
          },
          "name": "stdout",
          "output_type": "stream",
          "text": [
            "INFO:tensorflow:Assets written to: /content/gdrive/MyDrive/project deepmag/saved model 10k epoch2/assets\n"
          ]
        },
        {
          "metadata": {
            "tags": null
          },
          "name": "stderr",
          "output_type": "stream",
          "text": [
            "INFO:tensorflow:Assets written to: /content/gdrive/MyDrive/project deepmag/saved model 10k epoch2/assets\n"
          ]
        },
        {
          "metadata": {
            "tags": null
          },
          "name": "stdout",
          "output_type": "stream",
          "text": [
            "6010 images processed\n",
            "1/1 - 3s - loss: 679.8243 - val_loss: 627.5732 - 3s/epoch - 3s/step\n",
            "6020 images processed\n",
            "1/1 - 3s - loss: 872.6618 - val_loss: 811.5534 - 3s/epoch - 3s/step\n",
            "6030 images processed\n",
            "1/1 - 3s - loss: 958.1916 - val_loss: 863.2689 - 3s/epoch - 3s/step\n",
            "6040 images processed\n",
            "1/1 - 3s - loss: 979.8014 - val_loss: 889.2870 - 3s/epoch - 3s/step\n",
            "6050 images processed\n",
            "1/1 - 3s - loss: 927.5631 - val_loss: 641.8835 - 3s/epoch - 3s/step\n",
            "6060 images processed\n",
            "1/1 - 3s - loss: 729.4127 - val_loss: 618.8165 - 3s/epoch - 3s/step\n",
            "6070 images processed\n",
            "1/1 - 3s - loss: 825.6044 - val_loss: 737.5296 - 3s/epoch - 3s/step\n",
            "6080 images processed\n",
            "1/1 - 3s - loss: 917.7878 - val_loss: 786.9117 - 3s/epoch - 3s/step\n",
            "6090 images processed\n",
            "1/1 - 3s - loss: 878.3956 - val_loss: 674.4146 - 3s/epoch - 3s/step\n",
            "6100 images processed\n",
            "1/1 - 3s - loss: 761.1194 - val_loss: 795.1638 - 3s/epoch - 3s/step\n"
          ]
        },
        {
          "metadata": {
            "tags": null
          },
          "name": "stderr",
          "output_type": "stream",
          "text": [
            "WARNING:absl:Found untraced functions such as restored_function_body, restored_function_body, restored_function_body, restored_function_body, restored_function_body while saving (showing 5 of 118). These functions will not be directly callable after loading.\n"
          ]
        },
        {
          "metadata": {
            "tags": null
          },
          "name": "stdout",
          "output_type": "stream",
          "text": [
            "INFO:tensorflow:Assets written to: /content/gdrive/MyDrive/project deepmag/saved model 10k epoch2/assets\n"
          ]
        },
        {
          "metadata": {
            "tags": null
          },
          "name": "stderr",
          "output_type": "stream",
          "text": [
            "INFO:tensorflow:Assets written to: /content/gdrive/MyDrive/project deepmag/saved model 10k epoch2/assets\n"
          ]
        },
        {
          "metadata": {
            "tags": null
          },
          "name": "stdout",
          "output_type": "stream",
          "text": [
            "6110 images processed\n",
            "1/1 - 3s - loss: 690.5502 - val_loss: 1006.5248 - 3s/epoch - 3s/step\n",
            "6120 images processed\n",
            "1/1 - 3s - loss: 729.9944 - val_loss: 980.4328 - 3s/epoch - 3s/step\n",
            "6130 images processed\n",
            "1/1 - 3s - loss: 910.4338 - val_loss: 743.3764 - 3s/epoch - 3s/step\n",
            "6140 images processed\n",
            "1/1 - 3s - loss: 974.1467 - val_loss: 855.4002 - 3s/epoch - 3s/step\n",
            "6150 images processed\n",
            "1/1 - 3s - loss: 942.4081 - val_loss: 814.7803 - 3s/epoch - 3s/step\n",
            "6160 images processed\n",
            "1/1 - 3s - loss: 979.7869 - val_loss: 777.2901 - 3s/epoch - 3s/step\n",
            "6170 images processed\n",
            "1/1 - 3s - loss: 691.8310 - val_loss: 738.8845 - 3s/epoch - 3s/step\n",
            "6180 images processed\n",
            "1/1 - 3s - loss: 914.2887 - val_loss: 883.3782 - 3s/epoch - 3s/step\n",
            "6190 images processed\n",
            "1/1 - 3s - loss: 662.7320 - val_loss: 800.2949 - 3s/epoch - 3s/step\n",
            "6200 images processed\n",
            "1/1 - 3s - loss: 827.5692 - val_loss: 772.2360 - 3s/epoch - 3s/step\n"
          ]
        },
        {
          "metadata": {
            "tags": null
          },
          "name": "stderr",
          "output_type": "stream",
          "text": [
            "WARNING:absl:Found untraced functions such as restored_function_body, restored_function_body, restored_function_body, restored_function_body, restored_function_body while saving (showing 5 of 118). These functions will not be directly callable after loading.\n"
          ]
        },
        {
          "metadata": {
            "tags": null
          },
          "name": "stdout",
          "output_type": "stream",
          "text": [
            "INFO:tensorflow:Assets written to: /content/gdrive/MyDrive/project deepmag/saved model 10k epoch2/assets\n"
          ]
        },
        {
          "metadata": {
            "tags": null
          },
          "name": "stderr",
          "output_type": "stream",
          "text": [
            "INFO:tensorflow:Assets written to: /content/gdrive/MyDrive/project deepmag/saved model 10k epoch2/assets\n"
          ]
        },
        {
          "metadata": {
            "tags": null
          },
          "name": "stdout",
          "output_type": "stream",
          "text": [
            "6210 images processed\n",
            "1/1 - 3s - loss: 838.2672 - val_loss: 710.7246 - 3s/epoch - 3s/step\n",
            "6220 images processed\n",
            "1/1 - 3s - loss: 740.7422 - val_loss: 846.6202 - 3s/epoch - 3s/step\n",
            "6230 images processed\n",
            "1/1 - 3s - loss: 948.4904 - val_loss: 837.0214 - 3s/epoch - 3s/step\n",
            "6240 images processed\n",
            "1/1 - 3s - loss: 759.3073 - val_loss: 827.0755 - 3s/epoch - 3s/step\n",
            "6250 images processed\n",
            "1/1 - 3s - loss: 854.4186 - val_loss: 857.4386 - 3s/epoch - 3s/step\n",
            "6260 images processed\n",
            "1/1 - 3s - loss: 667.3098 - val_loss: 876.6221 - 3s/epoch - 3s/step\n",
            "6270 images processed\n",
            "1/1 - 3s - loss: 731.7071 - val_loss: 873.8176 - 3s/epoch - 3s/step\n",
            "6280 images processed\n",
            "1/1 - 3s - loss: 861.6320 - val_loss: 890.1957 - 3s/epoch - 3s/step\n",
            "6290 images processed\n",
            "1/1 - 3s - loss: 749.8785 - val_loss: 655.1937 - 3s/epoch - 3s/step\n",
            "6300 images processed\n",
            "1/1 - 3s - loss: 822.8179 - val_loss: 828.6096 - 3s/epoch - 3s/step\n"
          ]
        },
        {
          "metadata": {
            "tags": null
          },
          "name": "stderr",
          "output_type": "stream",
          "text": [
            "WARNING:absl:Found untraced functions such as restored_function_body, restored_function_body, restored_function_body, restored_function_body, restored_function_body while saving (showing 5 of 118). These functions will not be directly callable after loading.\n"
          ]
        },
        {
          "metadata": {
            "tags": null
          },
          "name": "stdout",
          "output_type": "stream",
          "text": [
            "INFO:tensorflow:Assets written to: /content/gdrive/MyDrive/project deepmag/saved model 10k epoch2/assets\n"
          ]
        },
        {
          "metadata": {
            "tags": null
          },
          "name": "stderr",
          "output_type": "stream",
          "text": [
            "INFO:tensorflow:Assets written to: /content/gdrive/MyDrive/project deepmag/saved model 10k epoch2/assets\n"
          ]
        },
        {
          "metadata": {
            "tags": null
          },
          "name": "stdout",
          "output_type": "stream",
          "text": [
            "6310 images processed\n",
            "1/1 - 3s - loss: 1028.1320 - val_loss: 904.8109 - 3s/epoch - 3s/step\n",
            "6320 images processed\n",
            "1/1 - 3s - loss: 903.3766 - val_loss: 600.6204 - 3s/epoch - 3s/step\n",
            "6330 images processed\n",
            "1/1 - 3s - loss: 699.6375 - val_loss: 847.9264 - 3s/epoch - 3s/step\n",
            "6340 images processed\n",
            "1/1 - 3s - loss: 688.8779 - val_loss: 765.9642 - 3s/epoch - 3s/step\n",
            "6350 images processed\n",
            "1/1 - 3s - loss: 808.6935 - val_loss: 953.4633 - 3s/epoch - 3s/step\n",
            "6360 images processed\n",
            "1/1 - 3s - loss: 802.9776 - val_loss: 1015.4904 - 3s/epoch - 3s/step\n",
            "6370 images processed\n",
            "1/1 - 3s - loss: 687.7285 - val_loss: 808.9611 - 3s/epoch - 3s/step\n",
            "6380 images processed\n",
            "1/1 - 3s - loss: 802.6617 - val_loss: 765.6240 - 3s/epoch - 3s/step\n",
            "6390 images processed\n",
            "1/1 - 3s - loss: 812.9050 - val_loss: 822.8768 - 3s/epoch - 3s/step\n",
            "6400 images processed\n",
            "1/1 - 3s - loss: 875.4574 - val_loss: 717.8926 - 3s/epoch - 3s/step\n"
          ]
        },
        {
          "metadata": {
            "tags": null
          },
          "name": "stderr",
          "output_type": "stream",
          "text": [
            "WARNING:absl:Found untraced functions such as restored_function_body, restored_function_body, restored_function_body, restored_function_body, restored_function_body while saving (showing 5 of 118). These functions will not be directly callable after loading.\n"
          ]
        },
        {
          "metadata": {
            "tags": null
          },
          "name": "stdout",
          "output_type": "stream",
          "text": [
            "INFO:tensorflow:Assets written to: /content/gdrive/MyDrive/project deepmag/saved model 10k epoch2/assets\n"
          ]
        },
        {
          "metadata": {
            "tags": null
          },
          "name": "stderr",
          "output_type": "stream",
          "text": [
            "INFO:tensorflow:Assets written to: /content/gdrive/MyDrive/project deepmag/saved model 10k epoch2/assets\n"
          ]
        },
        {
          "metadata": {
            "tags": null
          },
          "name": "stdout",
          "output_type": "stream",
          "text": [
            "6410 images processed\n",
            "1/1 - 3s - loss: 740.8611 - val_loss: 870.0516 - 3s/epoch - 3s/step\n",
            "6420 images processed\n",
            "1/1 - 3s - loss: 774.2955 - val_loss: 618.5717 - 3s/epoch - 3s/step\n",
            "6430 images processed\n",
            "1/1 - 3s - loss: 736.4649 - val_loss: 745.0723 - 3s/epoch - 3s/step\n",
            "6440 images processed\n",
            "1/1 - 3s - loss: 821.5365 - val_loss: 833.4217 - 3s/epoch - 3s/step\n",
            "6450 images processed\n",
            "1/1 - 3s - loss: 831.4559 - val_loss: 687.1207 - 3s/epoch - 3s/step\n",
            "6460 images processed\n",
            "1/1 - 3s - loss: 811.5806 - val_loss: 1006.8046 - 3s/epoch - 3s/step\n",
            "6470 images processed\n",
            "1/1 - 3s - loss: 887.8744 - val_loss: 777.0309 - 3s/epoch - 3s/step\n",
            "6480 images processed\n",
            "1/1 - 3s - loss: 688.8161 - val_loss: 1011.1246 - 3s/epoch - 3s/step\n",
            "6490 images processed\n",
            "1/1 - 3s - loss: 752.9386 - val_loss: 809.9528 - 3s/epoch - 3s/step\n",
            "6500 images processed\n",
            "1/1 - 3s - loss: 871.8092 - val_loss: 941.4036 - 3s/epoch - 3s/step\n"
          ]
        },
        {
          "metadata": {
            "tags": null
          },
          "name": "stderr",
          "output_type": "stream",
          "text": [
            "WARNING:absl:Found untraced functions such as restored_function_body, restored_function_body, restored_function_body, restored_function_body, restored_function_body while saving (showing 5 of 118). These functions will not be directly callable after loading.\n"
          ]
        },
        {
          "metadata": {
            "tags": null
          },
          "name": "stdout",
          "output_type": "stream",
          "text": [
            "INFO:tensorflow:Assets written to: /content/gdrive/MyDrive/project deepmag/saved model 10k epoch2/assets\n"
          ]
        },
        {
          "metadata": {
            "tags": null
          },
          "name": "stderr",
          "output_type": "stream",
          "text": [
            "INFO:tensorflow:Assets written to: /content/gdrive/MyDrive/project deepmag/saved model 10k epoch2/assets\n"
          ]
        },
        {
          "metadata": {
            "tags": null
          },
          "name": "stdout",
          "output_type": "stream",
          "text": [
            "6510 images processed\n",
            "1/1 - 3s - loss: 811.0940 - val_loss: 864.3387 - 3s/epoch - 3s/step\n",
            "6520 images processed\n",
            "1/1 - 3s - loss: 735.9529 - val_loss: 767.4720 - 3s/epoch - 3s/step\n",
            "6530 images processed\n",
            "1/1 - 3s - loss: 775.4869 - val_loss: 1005.8489 - 3s/epoch - 3s/step\n",
            "6540 images processed\n",
            "1/1 - 3s - loss: 687.9335 - val_loss: 772.2213 - 3s/epoch - 3s/step\n",
            "6550 images processed\n",
            "1/1 - 3s - loss: 957.9047 - val_loss: 847.7496 - 3s/epoch - 3s/step\n",
            "6560 images processed\n",
            "1/1 - 3s - loss: 994.1464 - val_loss: 950.9736 - 3s/epoch - 3s/step\n",
            "6570 images processed\n",
            "1/1 - 3s - loss: 957.1551 - val_loss: 767.7446 - 3s/epoch - 3s/step\n",
            "6580 images processed\n",
            "1/1 - 3s - loss: 963.7576 - val_loss: 943.7904 - 3s/epoch - 3s/step\n",
            "6590 images processed\n",
            "1/1 - 3s - loss: 906.1218 - val_loss: 688.4317 - 3s/epoch - 3s/step\n",
            "6600 images processed\n",
            "1/1 - 3s - loss: 932.9193 - val_loss: 796.3959 - 3s/epoch - 3s/step\n"
          ]
        },
        {
          "metadata": {
            "tags": null
          },
          "name": "stderr",
          "output_type": "stream",
          "text": [
            "WARNING:absl:Found untraced functions such as restored_function_body, restored_function_body, restored_function_body, restored_function_body, restored_function_body while saving (showing 5 of 118). These functions will not be directly callable after loading.\n"
          ]
        },
        {
          "metadata": {
            "tags": null
          },
          "name": "stdout",
          "output_type": "stream",
          "text": [
            "INFO:tensorflow:Assets written to: /content/gdrive/MyDrive/project deepmag/saved model 10k epoch2/assets\n"
          ]
        },
        {
          "metadata": {
            "tags": null
          },
          "name": "stderr",
          "output_type": "stream",
          "text": [
            "INFO:tensorflow:Assets written to: /content/gdrive/MyDrive/project deepmag/saved model 10k epoch2/assets\n"
          ]
        },
        {
          "metadata": {
            "tags": null
          },
          "name": "stdout",
          "output_type": "stream",
          "text": [
            "6610 images processed\n",
            "1/1 - 3s - loss: 856.7340 - val_loss: 929.7731 - 3s/epoch - 3s/step\n",
            "6620 images processed\n",
            "1/1 - 3s - loss: 796.9854 - val_loss: 682.7695 - 3s/epoch - 3s/step\n",
            "6630 images processed\n",
            "1/1 - 3s - loss: 921.2234 - val_loss: 846.2987 - 3s/epoch - 3s/step\n",
            "6640 images processed\n",
            "1/1 - 3s - loss: 968.6182 - val_loss: 972.4868 - 3s/epoch - 3s/step\n",
            "6650 images processed\n",
            "1/1 - 3s - loss: 902.9982 - val_loss: 812.3348 - 3s/epoch - 3s/step\n",
            "6660 images processed\n",
            "1/1 - 3s - loss: 707.5016 - val_loss: 1029.7147 - 3s/epoch - 3s/step\n",
            "6670 images processed\n",
            "1/1 - 3s - loss: 820.4388 - val_loss: 849.9840 - 3s/epoch - 3s/step\n",
            "6680 images processed\n",
            "1/1 - 3s - loss: 766.2325 - val_loss: 640.9210 - 3s/epoch - 3s/step\n",
            "6690 images processed\n",
            "1/1 - 3s - loss: 971.5231 - val_loss: 908.1404 - 3s/epoch - 3s/step\n",
            "6700 images processed\n",
            "1/1 - 3s - loss: 774.7798 - val_loss: 576.7861 - 3s/epoch - 3s/step\n"
          ]
        },
        {
          "metadata": {
            "tags": null
          },
          "name": "stderr",
          "output_type": "stream",
          "text": [
            "WARNING:absl:Found untraced functions such as restored_function_body, restored_function_body, restored_function_body, restored_function_body, restored_function_body while saving (showing 5 of 118). These functions will not be directly callable after loading.\n"
          ]
        },
        {
          "metadata": {
            "tags": null
          },
          "name": "stdout",
          "output_type": "stream",
          "text": [
            "INFO:tensorflow:Assets written to: /content/gdrive/MyDrive/project deepmag/saved model 10k epoch2/assets\n"
          ]
        },
        {
          "metadata": {
            "tags": null
          },
          "name": "stderr",
          "output_type": "stream",
          "text": [
            "INFO:tensorflow:Assets written to: /content/gdrive/MyDrive/project deepmag/saved model 10k epoch2/assets\n"
          ]
        },
        {
          "metadata": {
            "tags": null
          },
          "name": "stdout",
          "output_type": "stream",
          "text": [
            "6710 images processed\n",
            "1/1 - 3s - loss: 575.8089 - val_loss: 744.6691 - 3s/epoch - 3s/step\n",
            "6720 images processed\n",
            "1/1 - 3s - loss: 801.6624 - val_loss: 806.0670 - 3s/epoch - 3s/step\n",
            "6730 images processed\n",
            "1/1 - 3s - loss: 795.6035 - val_loss: 619.4029 - 3s/epoch - 3s/step\n",
            "6740 images processed\n",
            "1/1 - 3s - loss: 817.1768 - val_loss: 734.8625 - 3s/epoch - 3s/step\n",
            "6750 images processed\n",
            "1/1 - 3s - loss: 798.7400 - val_loss: 1111.4052 - 3s/epoch - 3s/step\n",
            "6760 images processed\n",
            "1/1 - 3s - loss: 919.1735 - val_loss: 756.6651 - 3s/epoch - 3s/step\n",
            "6770 images processed\n",
            "1/1 - 3s - loss: 689.1300 - val_loss: 849.4611 - 3s/epoch - 3s/step\n",
            "6780 images processed\n",
            "1/1 - 3s - loss: 722.7661 - val_loss: 719.9410 - 3s/epoch - 3s/step\n",
            "6790 images processed\n",
            "1/1 - 3s - loss: 730.8287 - val_loss: 853.7336 - 3s/epoch - 3s/step\n",
            "6800 images processed\n",
            "1/1 - 3s - loss: 905.4369 - val_loss: 807.1393 - 3s/epoch - 3s/step\n"
          ]
        },
        {
          "metadata": {
            "tags": null
          },
          "name": "stderr",
          "output_type": "stream",
          "text": [
            "WARNING:absl:Found untraced functions such as restored_function_body, restored_function_body, restored_function_body, restored_function_body, restored_function_body while saving (showing 5 of 118). These functions will not be directly callable after loading.\n"
          ]
        },
        {
          "metadata": {
            "tags": null
          },
          "name": "stdout",
          "output_type": "stream",
          "text": [
            "INFO:tensorflow:Assets written to: /content/gdrive/MyDrive/project deepmag/saved model 10k epoch2/assets\n"
          ]
        },
        {
          "metadata": {
            "tags": null
          },
          "name": "stderr",
          "output_type": "stream",
          "text": [
            "INFO:tensorflow:Assets written to: /content/gdrive/MyDrive/project deepmag/saved model 10k epoch2/assets\n"
          ]
        },
        {
          "metadata": {
            "tags": null
          },
          "name": "stdout",
          "output_type": "stream",
          "text": [
            "6810 images processed\n",
            "1/1 - 3s - loss: 961.0906 - val_loss: 709.0419 - 3s/epoch - 3s/step\n",
            "6820 images processed\n",
            "1/1 - 3s - loss: 761.9457 - val_loss: 899.1573 - 3s/epoch - 3s/step\n",
            "6830 images processed\n",
            "1/1 - 3s - loss: 895.1639 - val_loss: 977.0192 - 3s/epoch - 3s/step\n",
            "6840 images processed\n",
            "1/1 - 3s - loss: 735.3746 - val_loss: 716.0537 - 3s/epoch - 3s/step\n",
            "6850 images processed\n",
            "1/1 - 3s - loss: 696.8268 - val_loss: 961.1617 - 3s/epoch - 3s/step\n",
            "6860 images processed\n",
            "1/1 - 3s - loss: 730.0219 - val_loss: 1190.0657 - 3s/epoch - 3s/step\n",
            "6870 images processed\n",
            "1/1 - 3s - loss: 821.1328 - val_loss: 738.4704 - 3s/epoch - 3s/step\n",
            "6880 images processed\n",
            "1/1 - 3s - loss: 837.2245 - val_loss: 820.0463 - 3s/epoch - 3s/step\n",
            "6890 images processed\n",
            "1/1 - 3s - loss: 700.4060 - val_loss: 876.4712 - 3s/epoch - 3s/step\n",
            "6900 images processed\n",
            "1/1 - 3s - loss: 713.0261 - val_loss: 755.8333 - 3s/epoch - 3s/step\n"
          ]
        },
        {
          "metadata": {
            "tags": null
          },
          "name": "stderr",
          "output_type": "stream",
          "text": [
            "WARNING:absl:Found untraced functions such as restored_function_body, restored_function_body, restored_function_body, restored_function_body, restored_function_body while saving (showing 5 of 118). These functions will not be directly callable after loading.\n"
          ]
        },
        {
          "metadata": {
            "tags": null
          },
          "name": "stdout",
          "output_type": "stream",
          "text": [
            "INFO:tensorflow:Assets written to: /content/gdrive/MyDrive/project deepmag/saved model 10k epoch2/assets\n"
          ]
        },
        {
          "metadata": {
            "tags": null
          },
          "name": "stderr",
          "output_type": "stream",
          "text": [
            "INFO:tensorflow:Assets written to: /content/gdrive/MyDrive/project deepmag/saved model 10k epoch2/assets\n"
          ]
        },
        {
          "metadata": {
            "tags": null
          },
          "name": "stdout",
          "output_type": "stream",
          "text": [
            "6910 images processed\n",
            "1/1 - 3s - loss: 1041.9099 - val_loss: 831.7506 - 3s/epoch - 3s/step\n",
            "6920 images processed\n",
            "1/1 - 3s - loss: 1019.4299 - val_loss: 670.9830 - 3s/epoch - 3s/step\n",
            "6930 images processed\n",
            "1/1 - 3s - loss: 923.2956 - val_loss: 892.8467 - 3s/epoch - 3s/step\n",
            "6940 images processed\n",
            "1/1 - 3s - loss: 704.3739 - val_loss: 779.2455 - 3s/epoch - 3s/step\n",
            "6950 images processed\n",
            "1/1 - 3s - loss: 887.8378 - val_loss: 861.9169 - 3s/epoch - 3s/step\n",
            "6960 images processed\n",
            "1/1 - 3s - loss: 900.4030 - val_loss: 958.2631 - 3s/epoch - 3s/step\n",
            "6970 images processed\n",
            "1/1 - 3s - loss: 1015.1092 - val_loss: 706.1569 - 3s/epoch - 3s/step\n",
            "6980 images processed\n",
            "1/1 - 3s - loss: 759.5997 - val_loss: 748.8510 - 3s/epoch - 3s/step\n",
            "6990 images processed\n",
            "1/1 - 3s - loss: 616.4384 - val_loss: 794.9213 - 3s/epoch - 3s/step\n",
            "7000 images processed\n",
            "1/1 - 3s - loss: 636.7214 - val_loss: 685.1508 - 3s/epoch - 3s/step\n"
          ]
        },
        {
          "metadata": {
            "tags": null
          },
          "name": "stderr",
          "output_type": "stream",
          "text": [
            "WARNING:absl:Found untraced functions such as restored_function_body, restored_function_body, restored_function_body, restored_function_body, restored_function_body while saving (showing 5 of 118). These functions will not be directly callable after loading.\n"
          ]
        },
        {
          "metadata": {
            "tags": null
          },
          "name": "stdout",
          "output_type": "stream",
          "text": [
            "INFO:tensorflow:Assets written to: /content/gdrive/MyDrive/project deepmag/saved model 10k epoch2/assets\n"
          ]
        },
        {
          "metadata": {
            "tags": null
          },
          "name": "stderr",
          "output_type": "stream",
          "text": [
            "INFO:tensorflow:Assets written to: /content/gdrive/MyDrive/project deepmag/saved model 10k epoch2/assets\n"
          ]
        },
        {
          "metadata": {
            "tags": null
          },
          "name": "stdout",
          "output_type": "stream",
          "text": [
            "7010 images processed\n",
            "1/1 - 3s - loss: 845.3683 - val_loss: 752.6717 - 3s/epoch - 3s/step\n",
            "7020 images processed\n",
            "1/1 - 3s - loss: 858.7943 - val_loss: 795.8582 - 3s/epoch - 3s/step\n",
            "7030 images processed\n",
            "1/1 - 3s - loss: 810.4271 - val_loss: 821.1884 - 3s/epoch - 3s/step\n",
            "7040 images processed\n",
            "1/1 - 3s - loss: 940.2717 - val_loss: 819.3600 - 3s/epoch - 3s/step\n",
            "7050 images processed\n",
            "1/1 - 3s - loss: 791.6993 - val_loss: 758.7241 - 3s/epoch - 3s/step\n",
            "7060 images processed\n",
            "1/1 - 3s - loss: 920.0817 - val_loss: 895.4772 - 3s/epoch - 3s/step\n",
            "7070 images processed\n",
            "1/1 - 3s - loss: 1007.5877 - val_loss: 919.0673 - 3s/epoch - 3s/step\n",
            "7080 images processed\n",
            "1/1 - 3s - loss: 869.1307 - val_loss: 993.4846 - 3s/epoch - 3s/step\n",
            "7090 images processed\n",
            "1/1 - 3s - loss: 662.9765 - val_loss: 863.4603 - 3s/epoch - 3s/step\n",
            "7100 images processed\n",
            "1/1 - 3s - loss: 701.7968 - val_loss: 940.4217 - 3s/epoch - 3s/step\n"
          ]
        },
        {
          "metadata": {
            "tags": null
          },
          "name": "stderr",
          "output_type": "stream",
          "text": [
            "WARNING:absl:Found untraced functions such as restored_function_body, restored_function_body, restored_function_body, restored_function_body, restored_function_body while saving (showing 5 of 118). These functions will not be directly callable after loading.\n"
          ]
        },
        {
          "metadata": {
            "tags": null
          },
          "name": "stdout",
          "output_type": "stream",
          "text": [
            "INFO:tensorflow:Assets written to: /content/gdrive/MyDrive/project deepmag/saved model 10k epoch2/assets\n"
          ]
        },
        {
          "metadata": {
            "tags": null
          },
          "name": "stderr",
          "output_type": "stream",
          "text": [
            "INFO:tensorflow:Assets written to: /content/gdrive/MyDrive/project deepmag/saved model 10k epoch2/assets\n"
          ]
        },
        {
          "metadata": {
            "tags": null
          },
          "name": "stdout",
          "output_type": "stream",
          "text": [
            "7110 images processed\n",
            "1/1 - 3s - loss: 677.1941 - val_loss: 996.8834 - 3s/epoch - 3s/step\n",
            "7120 images processed\n",
            "1/1 - 3s - loss: 654.7117 - val_loss: 834.7014 - 3s/epoch - 3s/step\n",
            "7130 images processed\n",
            "1/1 - 3s - loss: 1000.4977 - val_loss: 611.5461 - 3s/epoch - 3s/step\n",
            "7140 images processed\n",
            "1/1 - 3s - loss: 856.2448 - val_loss: 791.5927 - 3s/epoch - 3s/step\n",
            "7150 images processed\n",
            "1/1 - 3s - loss: 855.4764 - val_loss: 907.7132 - 3s/epoch - 3s/step\n",
            "7160 images processed\n",
            "1/1 - 3s - loss: 720.5776 - val_loss: 847.8721 - 3s/epoch - 3s/step\n",
            "7170 images processed\n",
            "1/1 - 3s - loss: 921.3585 - val_loss: 783.9991 - 3s/epoch - 3s/step\n",
            "7180 images processed\n",
            "1/1 - 3s - loss: 768.9272 - val_loss: 834.9738 - 3s/epoch - 3s/step\n",
            "7190 images processed\n",
            "1/1 - 3s - loss: 946.9193 - val_loss: 1037.2435 - 3s/epoch - 3s/step\n",
            "7200 images processed\n",
            "1/1 - 3s - loss: 785.7037 - val_loss: 864.8912 - 3s/epoch - 3s/step\n"
          ]
        },
        {
          "metadata": {
            "tags": null
          },
          "name": "stderr",
          "output_type": "stream",
          "text": [
            "WARNING:absl:Found untraced functions such as restored_function_body, restored_function_body, restored_function_body, restored_function_body, restored_function_body while saving (showing 5 of 118). These functions will not be directly callable after loading.\n"
          ]
        },
        {
          "metadata": {
            "tags": null
          },
          "name": "stdout",
          "output_type": "stream",
          "text": [
            "INFO:tensorflow:Assets written to: /content/gdrive/MyDrive/project deepmag/saved model 10k epoch2/assets\n"
          ]
        },
        {
          "metadata": {
            "tags": null
          },
          "name": "stderr",
          "output_type": "stream",
          "text": [
            "INFO:tensorflow:Assets written to: /content/gdrive/MyDrive/project deepmag/saved model 10k epoch2/assets\n"
          ]
        },
        {
          "metadata": {
            "tags": null
          },
          "name": "stdout",
          "output_type": "stream",
          "text": [
            "7210 images processed\n",
            "1/1 - 3s - loss: 937.5428 - val_loss: 696.6834 - 3s/epoch - 3s/step\n",
            "7220 images processed\n",
            "1/1 - 3s - loss: 965.3239 - val_loss: 719.5431 - 3s/epoch - 3s/step\n",
            "7230 images processed\n",
            "1/1 - 3s - loss: 751.2969 - val_loss: 723.8007 - 3s/epoch - 3s/step\n",
            "7240 images processed\n",
            "1/1 - 3s - loss: 887.1954 - val_loss: 954.4492 - 3s/epoch - 3s/step\n",
            "7250 images processed\n",
            "1/1 - 3s - loss: 809.8500 - val_loss: 802.3912 - 3s/epoch - 3s/step\n",
            "7260 images processed\n",
            "1/1 - 3s - loss: 765.9096 - val_loss: 960.6488 - 3s/epoch - 3s/step\n",
            "7270 images processed\n",
            "1/1 - 3s - loss: 913.0111 - val_loss: 904.4404 - 3s/epoch - 3s/step\n",
            "7280 images processed\n",
            "1/1 - 3s - loss: 666.2745 - val_loss: 840.6260 - 3s/epoch - 3s/step\n",
            "7290 images processed\n",
            "1/1 - 3s - loss: 813.9508 - val_loss: 755.8643 - 3s/epoch - 3s/step\n",
            "7300 images processed\n",
            "1/1 - 3s - loss: 707.4963 - val_loss: 958.2991 - 3s/epoch - 3s/step\n"
          ]
        },
        {
          "metadata": {
            "tags": null
          },
          "name": "stderr",
          "output_type": "stream",
          "text": [
            "WARNING:absl:Found untraced functions such as restored_function_body, restored_function_body, restored_function_body, restored_function_body, restored_function_body while saving (showing 5 of 118). These functions will not be directly callable after loading.\n"
          ]
        },
        {
          "metadata": {
            "tags": null
          },
          "name": "stdout",
          "output_type": "stream",
          "text": [
            "INFO:tensorflow:Assets written to: /content/gdrive/MyDrive/project deepmag/saved model 10k epoch2/assets\n"
          ]
        },
        {
          "metadata": {
            "tags": null
          },
          "name": "stderr",
          "output_type": "stream",
          "text": [
            "INFO:tensorflow:Assets written to: /content/gdrive/MyDrive/project deepmag/saved model 10k epoch2/assets\n"
          ]
        },
        {
          "metadata": {
            "tags": null
          },
          "name": "stdout",
          "output_type": "stream",
          "text": [
            "7310 images processed\n",
            "1/1 - 3s - loss: 771.1345 - val_loss: 574.2502 - 3s/epoch - 3s/step\n",
            "7320 images processed\n",
            "1/1 - 3s - loss: 752.5933 - val_loss: 854.6464 - 3s/epoch - 3s/step\n",
            "7330 images processed\n",
            "1/1 - 3s - loss: 663.6429 - val_loss: 790.4781 - 3s/epoch - 3s/step\n",
            "7340 images processed\n",
            "1/1 - 3s - loss: 702.9226 - val_loss: 958.5992 - 3s/epoch - 3s/step\n",
            "7350 images processed\n",
            "1/1 - 3s - loss: 825.3666 - val_loss: 952.3202 - 3s/epoch - 3s/step\n",
            "7360 images processed\n",
            "1/1 - 3s - loss: 779.3550 - val_loss: 818.3923 - 3s/epoch - 3s/step\n",
            "7370 images processed\n",
            "1/1 - 3s - loss: 750.0560 - val_loss: 886.0592 - 3s/epoch - 3s/step\n",
            "7380 images processed\n",
            "1/1 - 3s - loss: 1121.0669 - val_loss: 916.7035 - 3s/epoch - 3s/step\n",
            "7390 images processed\n",
            "1/1 - 3s - loss: 716.7538 - val_loss: 639.6735 - 3s/epoch - 3s/step\n",
            "7400 images processed\n",
            "1/1 - 3s - loss: 679.4932 - val_loss: 640.7333 - 3s/epoch - 3s/step\n"
          ]
        },
        {
          "metadata": {
            "tags": null
          },
          "name": "stderr",
          "output_type": "stream",
          "text": [
            "WARNING:absl:Found untraced functions such as restored_function_body, restored_function_body, restored_function_body, restored_function_body, restored_function_body while saving (showing 5 of 118). These functions will not be directly callable after loading.\n"
          ]
        },
        {
          "metadata": {
            "tags": null
          },
          "name": "stdout",
          "output_type": "stream",
          "text": [
            "INFO:tensorflow:Assets written to: /content/gdrive/MyDrive/project deepmag/saved model 10k epoch2/assets\n"
          ]
        },
        {
          "metadata": {
            "tags": null
          },
          "name": "stderr",
          "output_type": "stream",
          "text": [
            "INFO:tensorflow:Assets written to: /content/gdrive/MyDrive/project deepmag/saved model 10k epoch2/assets\n"
          ]
        },
        {
          "metadata": {
            "tags": null
          },
          "name": "stdout",
          "output_type": "stream",
          "text": [
            "7410 images processed\n",
            "1/1 - 3s - loss: 753.9691 - val_loss: 711.1337 - 3s/epoch - 3s/step\n",
            "7420 images processed\n",
            "1/1 - 3s - loss: 796.8810 - val_loss: 809.6548 - 3s/epoch - 3s/step\n",
            "7430 images processed\n",
            "1/1 - 3s - loss: 877.6312 - val_loss: 662.9850 - 3s/epoch - 3s/step\n",
            "7440 images processed\n",
            "1/1 - 3s - loss: 909.5389 - val_loss: 816.9470 - 3s/epoch - 3s/step\n",
            "7450 images processed\n",
            "1/1 - 3s - loss: 927.7938 - val_loss: 843.8914 - 3s/epoch - 3s/step\n",
            "7460 images processed\n",
            "1/1 - 3s - loss: 707.3023 - val_loss: 961.6410 - 3s/epoch - 3s/step\n",
            "7470 images processed\n",
            "1/1 - 3s - loss: 1005.6832 - val_loss: 906.8413 - 3s/epoch - 3s/step\n",
            "7480 images processed\n",
            "1/1 - 3s - loss: 810.3493 - val_loss: 776.6873 - 3s/epoch - 3s/step\n",
            "7490 images processed\n",
            "1/1 - 3s - loss: 790.6630 - val_loss: 661.9407 - 3s/epoch - 3s/step\n",
            "7500 images processed\n",
            "1/1 - 3s - loss: 745.7590 - val_loss: 799.9464 - 3s/epoch - 3s/step\n"
          ]
        },
        {
          "metadata": {
            "tags": null
          },
          "name": "stderr",
          "output_type": "stream",
          "text": [
            "WARNING:absl:Found untraced functions such as restored_function_body, restored_function_body, restored_function_body, restored_function_body, restored_function_body while saving (showing 5 of 118). These functions will not be directly callable after loading.\n"
          ]
        },
        {
          "metadata": {
            "tags": null
          },
          "name": "stdout",
          "output_type": "stream",
          "text": [
            "INFO:tensorflow:Assets written to: /content/gdrive/MyDrive/project deepmag/saved model 10k epoch2/assets\n"
          ]
        },
        {
          "metadata": {
            "tags": null
          },
          "name": "stderr",
          "output_type": "stream",
          "text": [
            "INFO:tensorflow:Assets written to: /content/gdrive/MyDrive/project deepmag/saved model 10k epoch2/assets\n"
          ]
        },
        {
          "metadata": {
            "tags": null
          },
          "name": "stdout",
          "output_type": "stream",
          "text": [
            "7510 images processed\n",
            "1/1 - 3s - loss: 777.2555 - val_loss: 737.4989 - 3s/epoch - 3s/step\n",
            "7520 images processed\n",
            "1/1 - 3s - loss: 906.3221 - val_loss: 891.8696 - 3s/epoch - 3s/step\n",
            "7530 images processed\n",
            "1/1 - 3s - loss: 831.3778 - val_loss: 773.9689 - 3s/epoch - 3s/step\n",
            "7540 images processed\n",
            "1/1 - 3s - loss: 792.4003 - val_loss: 759.4052 - 3s/epoch - 3s/step\n",
            "7550 images processed\n",
            "1/1 - 3s - loss: 832.2121 - val_loss: 932.6196 - 3s/epoch - 3s/step\n",
            "7560 images processed\n",
            "1/1 - 3s - loss: 867.6635 - val_loss: 739.4053 - 3s/epoch - 3s/step\n",
            "7570 images processed\n",
            "1/1 - 3s - loss: 766.6961 - val_loss: 940.0082 - 3s/epoch - 3s/step\n",
            "7580 images processed\n",
            "1/1 - 3s - loss: 720.8588 - val_loss: 668.6592 - 3s/epoch - 3s/step\n",
            "7590 images processed\n",
            "1/1 - 3s - loss: 1057.9097 - val_loss: 756.3283 - 3s/epoch - 3s/step\n",
            "7600 images processed\n",
            "1/1 - 3s - loss: 819.5433 - val_loss: 766.5643 - 3s/epoch - 3s/step\n"
          ]
        },
        {
          "metadata": {
            "tags": null
          },
          "name": "stderr",
          "output_type": "stream",
          "text": [
            "WARNING:absl:Found untraced functions such as restored_function_body, restored_function_body, restored_function_body, restored_function_body, restored_function_body while saving (showing 5 of 118). These functions will not be directly callable after loading.\n"
          ]
        },
        {
          "metadata": {
            "tags": null
          },
          "name": "stdout",
          "output_type": "stream",
          "text": [
            "INFO:tensorflow:Assets written to: /content/gdrive/MyDrive/project deepmag/saved model 10k epoch2/assets\n"
          ]
        },
        {
          "metadata": {
            "tags": null
          },
          "name": "stderr",
          "output_type": "stream",
          "text": [
            "INFO:tensorflow:Assets written to: /content/gdrive/MyDrive/project deepmag/saved model 10k epoch2/assets\n"
          ]
        },
        {
          "metadata": {
            "tags": null
          },
          "name": "stdout",
          "output_type": "stream",
          "text": [
            "7610 images processed\n",
            "1/1 - 3s - loss: 745.2300 - val_loss: 981.9603 - 3s/epoch - 3s/step\n",
            "7620 images processed\n",
            "1/1 - 3s - loss: 682.7550 - val_loss: 1065.4580 - 3s/epoch - 3s/step\n",
            "7630 images processed\n",
            "1/1 - 3s - loss: 916.9678 - val_loss: 695.9336 - 3s/epoch - 3s/step\n",
            "7640 images processed\n",
            "1/1 - 3s - loss: 869.4354 - val_loss: 786.5859 - 3s/epoch - 3s/step\n",
            "7650 images processed\n",
            "1/1 - 3s - loss: 784.1160 - val_loss: 789.5007 - 3s/epoch - 3s/step\n",
            "7660 images processed\n",
            "1/1 - 3s - loss: 709.8037 - val_loss: 749.8443 - 3s/epoch - 3s/step\n",
            "7670 images processed\n",
            "1/1 - 3s - loss: 973.0260 - val_loss: 905.4469 - 3s/epoch - 3s/step\n",
            "7680 images processed\n",
            "1/1 - 3s - loss: 872.3944 - val_loss: 1048.7405 - 3s/epoch - 3s/step\n",
            "7690 images processed\n",
            "1/1 - 3s - loss: 994.4048 - val_loss: 760.6320 - 3s/epoch - 3s/step\n",
            "7700 images processed\n",
            "1/1 - 3s - loss: 786.9548 - val_loss: 667.5577 - 3s/epoch - 3s/step\n"
          ]
        },
        {
          "metadata": {
            "tags": null
          },
          "name": "stderr",
          "output_type": "stream",
          "text": [
            "WARNING:absl:Found untraced functions such as restored_function_body, restored_function_body, restored_function_body, restored_function_body, restored_function_body while saving (showing 5 of 118). These functions will not be directly callable after loading.\n"
          ]
        },
        {
          "metadata": {
            "tags": null
          },
          "name": "stdout",
          "output_type": "stream",
          "text": [
            "INFO:tensorflow:Assets written to: /content/gdrive/MyDrive/project deepmag/saved model 10k epoch2/assets\n"
          ]
        },
        {
          "metadata": {
            "tags": null
          },
          "name": "stderr",
          "output_type": "stream",
          "text": [
            "INFO:tensorflow:Assets written to: /content/gdrive/MyDrive/project deepmag/saved model 10k epoch2/assets\n"
          ]
        },
        {
          "metadata": {
            "tags": null
          },
          "name": "stdout",
          "output_type": "stream",
          "text": [
            "7710 images processed\n",
            "1/1 - 3s - loss: 608.2364 - val_loss: 954.6706 - 3s/epoch - 3s/step\n",
            "7720 images processed\n",
            "1/1 - 3s - loss: 1049.9662 - val_loss: 712.6498 - 3s/epoch - 3s/step\n",
            "7730 images processed\n",
            "1/1 - 3s - loss: 695.2958 - val_loss: 848.5084 - 3s/epoch - 3s/step\n",
            "7740 images processed\n",
            "1/1 - 3s - loss: 832.1418 - val_loss: 923.9984 - 3s/epoch - 3s/step\n",
            "7750 images processed\n",
            "1/1 - 3s - loss: 764.6931 - val_loss: 713.3695 - 3s/epoch - 3s/step\n",
            "7760 images processed\n",
            "1/1 - 3s - loss: 790.7693 - val_loss: 856.0071 - 3s/epoch - 3s/step\n",
            "7770 images processed\n",
            "1/1 - 3s - loss: 848.7029 - val_loss: 677.6536 - 3s/epoch - 3s/step\n",
            "7780 images processed\n",
            "1/1 - 3s - loss: 873.4882 - val_loss: 969.1268 - 3s/epoch - 3s/step\n",
            "7790 images processed\n",
            "1/1 - 3s - loss: 832.0106 - val_loss: 654.6072 - 3s/epoch - 3s/step\n",
            "7800 images processed\n",
            "1/1 - 3s - loss: 805.4005 - val_loss: 903.4178 - 3s/epoch - 3s/step\n"
          ]
        },
        {
          "metadata": {
            "tags": null
          },
          "name": "stderr",
          "output_type": "stream",
          "text": [
            "WARNING:absl:Found untraced functions such as restored_function_body, restored_function_body, restored_function_body, restored_function_body, restored_function_body while saving (showing 5 of 118). These functions will not be directly callable after loading.\n"
          ]
        },
        {
          "metadata": {
            "tags": null
          },
          "name": "stdout",
          "output_type": "stream",
          "text": [
            "INFO:tensorflow:Assets written to: /content/gdrive/MyDrive/project deepmag/saved model 10k epoch2/assets\n"
          ]
        },
        {
          "metadata": {
            "tags": null
          },
          "name": "stderr",
          "output_type": "stream",
          "text": [
            "INFO:tensorflow:Assets written to: /content/gdrive/MyDrive/project deepmag/saved model 10k epoch2/assets\n"
          ]
        },
        {
          "metadata": {
            "tags": null
          },
          "name": "stdout",
          "output_type": "stream",
          "text": [
            "7810 images processed\n",
            "1/1 - 3s - loss: 827.9006 - val_loss: 741.3671 - 3s/epoch - 3s/step\n",
            "7820 images processed\n",
            "1/1 - 3s - loss: 801.0859 - val_loss: 838.0900 - 3s/epoch - 3s/step\n",
            "7830 images processed\n",
            "1/1 - 3s - loss: 762.5240 - val_loss: 740.1842 - 3s/epoch - 3s/step\n",
            "7840 images processed\n",
            "1/1 - 3s - loss: 940.6204 - val_loss: 912.9840 - 3s/epoch - 3s/step\n",
            "7850 images processed\n",
            "1/1 - 3s - loss: 714.6564 - val_loss: 1165.8901 - 3s/epoch - 3s/step\n",
            "7860 images processed\n",
            "1/1 - 3s - loss: 883.2209 - val_loss: 597.9800 - 3s/epoch - 3s/step\n",
            "7870 images processed\n",
            "1/1 - 3s - loss: 963.2772 - val_loss: 844.5155 - 3s/epoch - 3s/step\n",
            "7880 images processed\n",
            "1/1 - 3s - loss: 759.0627 - val_loss: 666.3281 - 3s/epoch - 3s/step\n",
            "7890 images processed\n",
            "1/1 - 3s - loss: 777.5889 - val_loss: 600.7249 - 3s/epoch - 3s/step\n",
            "7900 images processed\n",
            "1/1 - 3s - loss: 882.4985 - val_loss: 991.3026 - 3s/epoch - 3s/step\n"
          ]
        },
        {
          "metadata": {
            "tags": null
          },
          "name": "stderr",
          "output_type": "stream",
          "text": [
            "WARNING:absl:Found untraced functions such as restored_function_body, restored_function_body, restored_function_body, restored_function_body, restored_function_body while saving (showing 5 of 118). These functions will not be directly callable after loading.\n"
          ]
        },
        {
          "metadata": {
            "tags": null
          },
          "name": "stdout",
          "output_type": "stream",
          "text": [
            "INFO:tensorflow:Assets written to: /content/gdrive/MyDrive/project deepmag/saved model 10k epoch2/assets\n"
          ]
        },
        {
          "metadata": {
            "tags": null
          },
          "name": "stderr",
          "output_type": "stream",
          "text": [
            "INFO:tensorflow:Assets written to: /content/gdrive/MyDrive/project deepmag/saved model 10k epoch2/assets\n"
          ]
        },
        {
          "metadata": {
            "tags": null
          },
          "name": "stdout",
          "output_type": "stream",
          "text": [
            "7910 images processed\n",
            "1/1 - 3s - loss: 764.9415 - val_loss: 914.3801 - 3s/epoch - 3s/step\n",
            "7920 images processed\n",
            "1/1 - 3s - loss: 998.7025 - val_loss: 745.4794 - 3s/epoch - 3s/step\n",
            "7930 images processed\n",
            "1/1 - 3s - loss: 880.0625 - val_loss: 748.9990 - 3s/epoch - 3s/step\n",
            "7940 images processed\n",
            "1/1 - 3s - loss: 818.6780 - val_loss: 935.2098 - 3s/epoch - 3s/step\n",
            "7950 images processed\n",
            "1/1 - 3s - loss: 705.5367 - val_loss: 680.0791 - 3s/epoch - 3s/step\n",
            "7960 images processed\n",
            "1/1 - 3s - loss: 909.1542 - val_loss: 735.6595 - 3s/epoch - 3s/step\n",
            "7970 images processed\n",
            "1/1 - 3s - loss: 754.0325 - val_loss: 708.0738 - 3s/epoch - 3s/step\n",
            "7980 images processed\n",
            "1/1 - 3s - loss: 784.2381 - val_loss: 713.7844 - 3s/epoch - 3s/step\n",
            "7990 images processed\n",
            "1/1 - 3s - loss: 805.1015 - val_loss: 906.4374 - 3s/epoch - 3s/step\n",
            "8000 images processed\n",
            "1/1 - 3s - loss: 1044.9126 - val_loss: 865.3846 - 3s/epoch - 3s/step\n"
          ]
        },
        {
          "metadata": {
            "tags": null
          },
          "name": "stderr",
          "output_type": "stream",
          "text": [
            "WARNING:absl:Found untraced functions such as restored_function_body, restored_function_body, restored_function_body, restored_function_body, restored_function_body while saving (showing 5 of 118). These functions will not be directly callable after loading.\n"
          ]
        },
        {
          "metadata": {
            "tags": null
          },
          "name": "stdout",
          "output_type": "stream",
          "text": [
            "INFO:tensorflow:Assets written to: /content/gdrive/MyDrive/project deepmag/saved model 10k epoch2/assets\n"
          ]
        },
        {
          "metadata": {
            "tags": null
          },
          "name": "stderr",
          "output_type": "stream",
          "text": [
            "INFO:tensorflow:Assets written to: /content/gdrive/MyDrive/project deepmag/saved model 10k epoch2/assets\n"
          ]
        },
        {
          "output_type": "stream",
          "name": "stdout",
          "text": [
            "8010 images processed\n",
            "1/1 - 3s - loss: 1056.3815 - val_loss: 771.3879 - 3s/epoch - 3s/step\n",
            "8020 images processed\n",
            "1/1 - 3s - loss: 660.3854 - val_loss: 996.8047 - 3s/epoch - 3s/step\n",
            "8030 images processed\n",
            "1/1 - 3s - loss: 880.4308 - val_loss: 675.0585 - 3s/epoch - 3s/step\n",
            "8040 images processed\n",
            "1/1 - 3s - loss: 693.1523 - val_loss: 941.4860 - 3s/epoch - 3s/step\n",
            "8050 images processed\n",
            "1/1 - 3s - loss: 831.1751 - val_loss: 895.0506 - 3s/epoch - 3s/step\n",
            "8060 images processed\n",
            "1/1 - 3s - loss: 744.9399 - val_loss: 706.4636 - 3s/epoch - 3s/step\n",
            "8070 images processed\n",
            "1/1 - 3s - loss: 642.9773 - val_loss: 798.4581 - 3s/epoch - 3s/step\n",
            "8080 images processed\n",
            "1/1 - 3s - loss: 830.0197 - val_loss: 804.2243 - 3s/epoch - 3s/step\n",
            "8090 images processed\n",
            "1/1 - 3s - loss: 726.4289 - val_loss: 620.0373 - 3s/epoch - 3s/step\n",
            "8100 images processed\n",
            "1/1 - 3s - loss: 878.2000 - val_loss: 735.4919 - 3s/epoch - 3s/step\n"
          ]
        },
        {
          "output_type": "stream",
          "name": "stderr",
          "text": [
            "WARNING:absl:Found untraced functions such as restored_function_body, restored_function_body, restored_function_body, restored_function_body, restored_function_body while saving (showing 5 of 118). These functions will not be directly callable after loading.\n"
          ]
        },
        {
          "output_type": "stream",
          "name": "stdout",
          "text": [
            "INFO:tensorflow:Assets written to: /content/gdrive/MyDrive/project deepmag/saved model 10k epoch2/assets\n"
          ]
        },
        {
          "output_type": "stream",
          "name": "stderr",
          "text": [
            "INFO:tensorflow:Assets written to: /content/gdrive/MyDrive/project deepmag/saved model 10k epoch2/assets\n"
          ]
        },
        {
          "output_type": "stream",
          "name": "stdout",
          "text": [
            "8110 images processed\n",
            "1/1 - 3s - loss: 799.7247 - val_loss: 826.0795 - 3s/epoch - 3s/step\n",
            "8120 images processed\n",
            "1/1 - 3s - loss: 700.3210 - val_loss: 806.6252 - 3s/epoch - 3s/step\n",
            "8130 images processed\n",
            "1/1 - 3s - loss: 595.6003 - val_loss: 924.7277 - 3s/epoch - 3s/step\n",
            "8140 images processed\n",
            "1/1 - 3s - loss: 877.0510 - val_loss: 669.8820 - 3s/epoch - 3s/step\n",
            "8150 images processed\n",
            "1/1 - 3s - loss: 824.6117 - val_loss: 877.5709 - 3s/epoch - 3s/step\n",
            "8160 images processed\n",
            "1/1 - 3s - loss: 668.5336 - val_loss: 744.5463 - 3s/epoch - 3s/step\n",
            "8170 images processed\n",
            "1/1 - 3s - loss: 749.1016 - val_loss: 894.1044 - 3s/epoch - 3s/step\n",
            "8180 images processed\n",
            "1/1 - 3s - loss: 1191.9769 - val_loss: 773.1394 - 3s/epoch - 3s/step\n",
            "8190 images processed\n",
            "1/1 - 3s - loss: 704.9297 - val_loss: 744.5071 - 3s/epoch - 3s/step\n",
            "8200 images processed\n",
            "1/1 - 3s - loss: 1005.7990 - val_loss: 823.1190 - 3s/epoch - 3s/step\n"
          ]
        },
        {
          "output_type": "stream",
          "name": "stderr",
          "text": [
            "WARNING:absl:Found untraced functions such as restored_function_body, restored_function_body, restored_function_body, restored_function_body, restored_function_body while saving (showing 5 of 118). These functions will not be directly callable after loading.\n"
          ]
        },
        {
          "output_type": "stream",
          "name": "stdout",
          "text": [
            "INFO:tensorflow:Assets written to: /content/gdrive/MyDrive/project deepmag/saved model 10k epoch2/assets\n"
          ]
        },
        {
          "output_type": "stream",
          "name": "stderr",
          "text": [
            "INFO:tensorflow:Assets written to: /content/gdrive/MyDrive/project deepmag/saved model 10k epoch2/assets\n"
          ]
        },
        {
          "output_type": "stream",
          "name": "stdout",
          "text": [
            "8210 images processed\n",
            "1/1 - 3s - loss: 894.9091 - val_loss: 707.9642 - 3s/epoch - 3s/step\n",
            "8220 images processed\n",
            "1/1 - 3s - loss: 803.1511 - val_loss: 793.7226 - 3s/epoch - 3s/step\n",
            "8230 images processed\n",
            "1/1 - 3s - loss: 832.6815 - val_loss: 868.1725 - 3s/epoch - 3s/step\n",
            "8240 images processed\n",
            "1/1 - 3s - loss: 749.3577 - val_loss: 894.0001 - 3s/epoch - 3s/step\n",
            "8250 images processed\n",
            "1/1 - 3s - loss: 732.8486 - val_loss: 907.4850 - 3s/epoch - 3s/step\n",
            "8260 images processed\n",
            "1/1 - 3s - loss: 742.3314 - val_loss: 823.2864 - 3s/epoch - 3s/step\n",
            "8270 images processed\n",
            "1/1 - 3s - loss: 809.0814 - val_loss: 782.2841 - 3s/epoch - 3s/step\n",
            "8280 images processed\n",
            "1/1 - 3s - loss: 732.3989 - val_loss: 824.3309 - 3s/epoch - 3s/step\n",
            "8290 images processed\n",
            "1/1 - 3s - loss: 799.6184 - val_loss: 929.6542 - 3s/epoch - 3s/step\n",
            "8300 images processed\n",
            "1/1 - 3s - loss: 683.2456 - val_loss: 752.4643 - 3s/epoch - 3s/step\n"
          ]
        },
        {
          "output_type": "stream",
          "name": "stderr",
          "text": [
            "WARNING:absl:Found untraced functions such as restored_function_body, restored_function_body, restored_function_body, restored_function_body, restored_function_body while saving (showing 5 of 118). These functions will not be directly callable after loading.\n"
          ]
        },
        {
          "output_type": "stream",
          "name": "stdout",
          "text": [
            "INFO:tensorflow:Assets written to: /content/gdrive/MyDrive/project deepmag/saved model 10k epoch2/assets\n"
          ]
        },
        {
          "output_type": "stream",
          "name": "stderr",
          "text": [
            "INFO:tensorflow:Assets written to: /content/gdrive/MyDrive/project deepmag/saved model 10k epoch2/assets\n"
          ]
        },
        {
          "output_type": "stream",
          "name": "stdout",
          "text": [
            "8310 images processed\n",
            "1/1 - 3s - loss: 908.8337 - val_loss: 818.9618 - 3s/epoch - 3s/step\n",
            "8320 images processed\n",
            "1/1 - 3s - loss: 896.4027 - val_loss: 726.0056 - 3s/epoch - 3s/step\n",
            "8330 images processed\n",
            "1/1 - 3s - loss: 863.8246 - val_loss: 949.8853 - 3s/epoch - 3s/step\n",
            "8340 images processed\n",
            "1/1 - 3s - loss: 888.7875 - val_loss: 801.3025 - 3s/epoch - 3s/step\n",
            "8350 images processed\n",
            "1/1 - 3s - loss: 868.7952 - val_loss: 636.7436 - 3s/epoch - 3s/step\n",
            "8360 images processed\n",
            "1/1 - 3s - loss: 812.4885 - val_loss: 762.7363 - 3s/epoch - 3s/step\n",
            "8370 images processed\n",
            "1/1 - 3s - loss: 760.5364 - val_loss: 726.2803 - 3s/epoch - 3s/step\n",
            "8380 images processed\n",
            "1/1 - 3s - loss: 884.2195 - val_loss: 716.9804 - 3s/epoch - 3s/step\n",
            "8390 images processed\n",
            "1/1 - 3s - loss: 908.9963 - val_loss: 885.0921 - 3s/epoch - 3s/step\n",
            "8400 images processed\n",
            "1/1 - 3s - loss: 766.4591 - val_loss: 796.3578 - 3s/epoch - 3s/step\n"
          ]
        },
        {
          "output_type": "stream",
          "name": "stderr",
          "text": [
            "WARNING:absl:Found untraced functions such as restored_function_body, restored_function_body, restored_function_body, restored_function_body, restored_function_body while saving (showing 5 of 118). These functions will not be directly callable after loading.\n"
          ]
        },
        {
          "output_type": "stream",
          "name": "stdout",
          "text": [
            "INFO:tensorflow:Assets written to: /content/gdrive/MyDrive/project deepmag/saved model 10k epoch2/assets\n"
          ]
        },
        {
          "output_type": "stream",
          "name": "stderr",
          "text": [
            "INFO:tensorflow:Assets written to: /content/gdrive/MyDrive/project deepmag/saved model 10k epoch2/assets\n"
          ]
        },
        {
          "output_type": "stream",
          "name": "stdout",
          "text": [
            "8410 images processed\n",
            "1/1 - 3s - loss: 980.2797 - val_loss: 760.9302 - 3s/epoch - 3s/step\n",
            "8420 images processed\n",
            "1/1 - 3s - loss: 772.3997 - val_loss: 808.7812 - 3s/epoch - 3s/step\n",
            "8430 images processed\n",
            "1/1 - 3s - loss: 767.3016 - val_loss: 721.5170 - 3s/epoch - 3s/step\n",
            "8440 images processed\n",
            "1/1 - 3s - loss: 903.5038 - val_loss: 817.2299 - 3s/epoch - 3s/step\n",
            "8450 images processed\n",
            "1/1 - 3s - loss: 810.9987 - val_loss: 767.1680 - 3s/epoch - 3s/step\n",
            "8460 images processed\n",
            "1/1 - 3s - loss: 744.1188 - val_loss: 926.2538 - 3s/epoch - 3s/step\n",
            "8470 images processed\n",
            "1/1 - 3s - loss: 782.4028 - val_loss: 871.5125 - 3s/epoch - 3s/step\n",
            "8480 images processed\n",
            "1/1 - 3s - loss: 961.0225 - val_loss: 790.8330 - 3s/epoch - 3s/step\n",
            "8490 images processed\n",
            "1/1 - 3s - loss: 846.5526 - val_loss: 821.7773 - 3s/epoch - 3s/step\n",
            "8500 images processed\n",
            "1/1 - 3s - loss: 868.3175 - val_loss: 855.6732 - 3s/epoch - 3s/step\n"
          ]
        },
        {
          "output_type": "stream",
          "name": "stderr",
          "text": [
            "WARNING:absl:Found untraced functions such as restored_function_body, restored_function_body, restored_function_body, restored_function_body, restored_function_body while saving (showing 5 of 118). These functions will not be directly callable after loading.\n"
          ]
        },
        {
          "output_type": "stream",
          "name": "stdout",
          "text": [
            "INFO:tensorflow:Assets written to: /content/gdrive/MyDrive/project deepmag/saved model 10k epoch2/assets\n"
          ]
        },
        {
          "output_type": "stream",
          "name": "stderr",
          "text": [
            "INFO:tensorflow:Assets written to: /content/gdrive/MyDrive/project deepmag/saved model 10k epoch2/assets\n"
          ]
        },
        {
          "output_type": "stream",
          "name": "stdout",
          "text": [
            "8510 images processed\n",
            "1/1 - 3s - loss: 805.7595 - val_loss: 866.5491 - 3s/epoch - 3s/step\n",
            "8520 images processed\n",
            "1/1 - 3s - loss: 1004.1180 - val_loss: 863.5773 - 3s/epoch - 3s/step\n",
            "8530 images processed\n",
            "1/1 - 3s - loss: 776.7370 - val_loss: 740.1694 - 3s/epoch - 3s/step\n",
            "8540 images processed\n",
            "1/1 - 3s - loss: 624.4809 - val_loss: 912.2816 - 3s/epoch - 3s/step\n",
            "8550 images processed\n",
            "1/1 - 3s - loss: 687.2421 - val_loss: 843.6141 - 3s/epoch - 3s/step\n",
            "8560 images processed\n",
            "1/1 - 3s - loss: 1165.4454 - val_loss: 756.8176 - 3s/epoch - 3s/step\n",
            "8570 images processed\n",
            "1/1 - 3s - loss: 753.1089 - val_loss: 919.5352 - 3s/epoch - 3s/step\n",
            "8580 images processed\n",
            "1/1 - 3s - loss: 752.8936 - val_loss: 753.2086 - 3s/epoch - 3s/step\n",
            "8590 images processed\n",
            "1/1 - 3s - loss: 1148.1029 - val_loss: 855.9157 - 3s/epoch - 3s/step\n",
            "8600 images processed\n",
            "1/1 - 3s - loss: 808.4617 - val_loss: 653.3232 - 3s/epoch - 3s/step\n"
          ]
        },
        {
          "output_type": "stream",
          "name": "stderr",
          "text": [
            "WARNING:absl:Found untraced functions such as restored_function_body, restored_function_body, restored_function_body, restored_function_body, restored_function_body while saving (showing 5 of 118). These functions will not be directly callable after loading.\n"
          ]
        },
        {
          "output_type": "stream",
          "name": "stdout",
          "text": [
            "INFO:tensorflow:Assets written to: /content/gdrive/MyDrive/project deepmag/saved model 10k epoch2/assets\n"
          ]
        },
        {
          "output_type": "stream",
          "name": "stderr",
          "text": [
            "INFO:tensorflow:Assets written to: /content/gdrive/MyDrive/project deepmag/saved model 10k epoch2/assets\n"
          ]
        },
        {
          "output_type": "stream",
          "name": "stdout",
          "text": [
            "8610 images processed\n",
            "1/1 - 3s - loss: 860.3986 - val_loss: 658.4369 - 3s/epoch - 3s/step\n",
            "8620 images processed\n",
            "1/1 - 3s - loss: 937.9965 - val_loss: 665.7870 - 3s/epoch - 3s/step\n",
            "8630 images processed\n",
            "1/1 - 3s - loss: 744.5691 - val_loss: 725.9504 - 3s/epoch - 3s/step\n",
            "8640 images processed\n",
            "1/1 - 3s - loss: 933.9570 - val_loss: 1023.8473 - 3s/epoch - 3s/step\n",
            "8650 images processed\n",
            "1/1 - 3s - loss: 701.7995 - val_loss: 758.5703 - 3s/epoch - 3s/step\n",
            "8660 images processed\n",
            "1/1 - 3s - loss: 894.5681 - val_loss: 808.7418 - 3s/epoch - 3s/step\n",
            "8670 images processed\n",
            "1/1 - 3s - loss: 1025.8889 - val_loss: 645.4120 - 3s/epoch - 3s/step\n",
            "8680 images processed\n",
            "1/1 - 3s - loss: 870.4149 - val_loss: 659.0041 - 3s/epoch - 3s/step\n",
            "8690 images processed\n",
            "1/1 - 3s - loss: 868.7552 - val_loss: 854.5876 - 3s/epoch - 3s/step\n",
            "8700 images processed\n",
            "1/1 - 3s - loss: 919.9054 - val_loss: 670.7432 - 3s/epoch - 3s/step\n"
          ]
        },
        {
          "output_type": "stream",
          "name": "stderr",
          "text": [
            "WARNING:absl:Found untraced functions such as restored_function_body, restored_function_body, restored_function_body, restored_function_body, restored_function_body while saving (showing 5 of 118). These functions will not be directly callable after loading.\n"
          ]
        },
        {
          "output_type": "stream",
          "name": "stdout",
          "text": [
            "INFO:tensorflow:Assets written to: /content/gdrive/MyDrive/project deepmag/saved model 10k epoch2/assets\n"
          ]
        },
        {
          "output_type": "stream",
          "name": "stderr",
          "text": [
            "INFO:tensorflow:Assets written to: /content/gdrive/MyDrive/project deepmag/saved model 10k epoch2/assets\n"
          ]
        },
        {
          "output_type": "stream",
          "name": "stdout",
          "text": [
            "8710 images processed\n",
            "1/1 - 3s - loss: 774.6727 - val_loss: 809.0915 - 3s/epoch - 3s/step\n",
            "8720 images processed\n",
            "1/1 - 3s - loss: 849.8781 - val_loss: 940.4657 - 3s/epoch - 3s/step\n",
            "8730 images processed\n",
            "1/1 - 3s - loss: 853.2982 - val_loss: 622.7747 - 3s/epoch - 3s/step\n",
            "8740 images processed\n",
            "1/1 - 3s - loss: 915.4843 - val_loss: 789.5899 - 3s/epoch - 3s/step\n",
            "8750 images processed\n",
            "1/1 - 3s - loss: 878.8434 - val_loss: 906.9502 - 3s/epoch - 3s/step\n",
            "8760 images processed\n",
            "1/1 - 3s - loss: 887.5931 - val_loss: 739.2275 - 3s/epoch - 3s/step\n",
            "8770 images processed\n",
            "1/1 - 3s - loss: 974.0323 - val_loss: 1000.7911 - 3s/epoch - 3s/step\n",
            "8780 images processed\n",
            "1/1 - 3s - loss: 789.6957 - val_loss: 937.5819 - 3s/epoch - 3s/step\n",
            "8790 images processed\n",
            "1/1 - 3s - loss: 907.7822 - val_loss: 787.0709 - 3s/epoch - 3s/step\n",
            "8800 images processed\n",
            "1/1 - 3s - loss: 758.7733 - val_loss: 820.4935 - 3s/epoch - 3s/step\n"
          ]
        },
        {
          "output_type": "stream",
          "name": "stderr",
          "text": [
            "WARNING:absl:Found untraced functions such as restored_function_body, restored_function_body, restored_function_body, restored_function_body, restored_function_body while saving (showing 5 of 118). These functions will not be directly callable after loading.\n"
          ]
        },
        {
          "output_type": "stream",
          "name": "stdout",
          "text": [
            "INFO:tensorflow:Assets written to: /content/gdrive/MyDrive/project deepmag/saved model 10k epoch2/assets\n"
          ]
        },
        {
          "output_type": "stream",
          "name": "stderr",
          "text": [
            "INFO:tensorflow:Assets written to: /content/gdrive/MyDrive/project deepmag/saved model 10k epoch2/assets\n"
          ]
        },
        {
          "output_type": "stream",
          "name": "stdout",
          "text": [
            "8810 images processed\n",
            "1/1 - 3s - loss: 1061.7433 - val_loss: 743.5633 - 3s/epoch - 3s/step\n",
            "8820 images processed\n",
            "1/1 - 3s - loss: 1019.8761 - val_loss: 671.0869 - 3s/epoch - 3s/step\n",
            "8830 images processed\n",
            "1/1 - 3s - loss: 792.0883 - val_loss: 911.1429 - 3s/epoch - 3s/step\n",
            "8840 images processed\n",
            "1/1 - 3s - loss: 815.8008 - val_loss: 754.2037 - 3s/epoch - 3s/step\n",
            "8850 images processed\n",
            "1/1 - 3s - loss: 794.2112 - val_loss: 706.0449 - 3s/epoch - 3s/step\n",
            "8860 images processed\n",
            "1/1 - 3s - loss: 711.6580 - val_loss: 891.0734 - 3s/epoch - 3s/step\n",
            "8870 images processed\n",
            "1/1 - 3s - loss: 720.6229 - val_loss: 692.5399 - 3s/epoch - 3s/step\n",
            "8880 images processed\n",
            "1/1 - 3s - loss: 766.4585 - val_loss: 956.4156 - 3s/epoch - 3s/step\n",
            "8890 images processed\n",
            "1/1 - 3s - loss: 642.2979 - val_loss: 941.7321 - 3s/epoch - 3s/step\n",
            "8900 images processed\n",
            "1/1 - 3s - loss: 927.9332 - val_loss: 847.8743 - 3s/epoch - 3s/step\n"
          ]
        },
        {
          "output_type": "stream",
          "name": "stderr",
          "text": [
            "WARNING:absl:Found untraced functions such as restored_function_body, restored_function_body, restored_function_body, restored_function_body, restored_function_body while saving (showing 5 of 118). These functions will not be directly callable after loading.\n"
          ]
        },
        {
          "output_type": "stream",
          "name": "stdout",
          "text": [
            "INFO:tensorflow:Assets written to: /content/gdrive/MyDrive/project deepmag/saved model 10k epoch2/assets\n"
          ]
        },
        {
          "output_type": "stream",
          "name": "stderr",
          "text": [
            "INFO:tensorflow:Assets written to: /content/gdrive/MyDrive/project deepmag/saved model 10k epoch2/assets\n"
          ]
        },
        {
          "output_type": "stream",
          "name": "stdout",
          "text": [
            "8910 images processed\n",
            "1/1 - 3s - loss: 827.1027 - val_loss: 1000.8524 - 3s/epoch - 3s/step\n",
            "8920 images processed\n",
            "1/1 - 3s - loss: 930.1647 - val_loss: 846.6774 - 3s/epoch - 3s/step\n",
            "8930 images processed\n",
            "1/1 - 3s - loss: 1083.5718 - val_loss: 884.7840 - 3s/epoch - 3s/step\n",
            "8940 images processed\n",
            "1/1 - 3s - loss: 772.3351 - val_loss: 927.1354 - 3s/epoch - 3s/step\n",
            "8950 images processed\n",
            "1/1 - 3s - loss: 970.7827 - val_loss: 885.8622 - 3s/epoch - 3s/step\n",
            "8960 images processed\n",
            "1/1 - 3s - loss: 726.6938 - val_loss: 916.5348 - 3s/epoch - 3s/step\n",
            "8970 images processed\n",
            "1/1 - 3s - loss: 564.2974 - val_loss: 952.5930 - 3s/epoch - 3s/step\n",
            "8980 images processed\n",
            "1/1 - 3s - loss: 915.7965 - val_loss: 784.7490 - 3s/epoch - 3s/step\n",
            "8990 images processed\n",
            "1/1 - 3s - loss: 870.5385 - val_loss: 753.3532 - 3s/epoch - 3s/step\n",
            "9000 images processed\n",
            "1/1 - 3s - loss: 854.1530 - val_loss: 855.4069 - 3s/epoch - 3s/step\n"
          ]
        },
        {
          "output_type": "stream",
          "name": "stderr",
          "text": [
            "WARNING:absl:Found untraced functions such as restored_function_body, restored_function_body, restored_function_body, restored_function_body, restored_function_body while saving (showing 5 of 118). These functions will not be directly callable after loading.\n"
          ]
        },
        {
          "output_type": "stream",
          "name": "stdout",
          "text": [
            "INFO:tensorflow:Assets written to: /content/gdrive/MyDrive/project deepmag/saved model 10k epoch2/assets\n"
          ]
        },
        {
          "output_type": "stream",
          "name": "stderr",
          "text": [
            "INFO:tensorflow:Assets written to: /content/gdrive/MyDrive/project deepmag/saved model 10k epoch2/assets\n"
          ]
        },
        {
          "output_type": "stream",
          "name": "stdout",
          "text": [
            "9010 images processed\n",
            "1/1 - 3s - loss: 978.0326 - val_loss: 1002.4189 - 3s/epoch - 3s/step\n",
            "9020 images processed\n",
            "1/1 - 3s - loss: 894.6531 - val_loss: 843.7666 - 3s/epoch - 3s/step\n",
            "9030 images processed\n",
            "1/1 - 3s - loss: 852.7092 - val_loss: 717.6217 - 3s/epoch - 3s/step\n",
            "9040 images processed\n",
            "1/1 - 3s - loss: 976.3551 - val_loss: 787.8450 - 3s/epoch - 3s/step\n",
            "9050 images processed\n",
            "1/1 - 3s - loss: 794.6537 - val_loss: 756.4167 - 3s/epoch - 3s/step\n",
            "9060 images processed\n",
            "1/1 - 3s - loss: 708.6996 - val_loss: 891.2943 - 3s/epoch - 3s/step\n",
            "9070 images processed\n",
            "1/1 - 3s - loss: 796.3766 - val_loss: 617.0866 - 3s/epoch - 3s/step\n",
            "9080 images processed\n",
            "1/1 - 3s - loss: 692.5662 - val_loss: 775.7790 - 3s/epoch - 3s/step\n",
            "9090 images processed\n",
            "1/1 - 3s - loss: 855.0946 - val_loss: 672.5913 - 3s/epoch - 3s/step\n",
            "9100 images processed\n",
            "1/1 - 3s - loss: 756.1292 - val_loss: 734.9337 - 3s/epoch - 3s/step\n"
          ]
        },
        {
          "output_type": "stream",
          "name": "stderr",
          "text": [
            "WARNING:absl:Found untraced functions such as restored_function_body, restored_function_body, restored_function_body, restored_function_body, restored_function_body while saving (showing 5 of 118). These functions will not be directly callable after loading.\n"
          ]
        },
        {
          "output_type": "stream",
          "name": "stdout",
          "text": [
            "INFO:tensorflow:Assets written to: /content/gdrive/MyDrive/project deepmag/saved model 10k epoch2/assets\n"
          ]
        },
        {
          "output_type": "stream",
          "name": "stderr",
          "text": [
            "INFO:tensorflow:Assets written to: /content/gdrive/MyDrive/project deepmag/saved model 10k epoch2/assets\n"
          ]
        },
        {
          "output_type": "stream",
          "name": "stdout",
          "text": [
            "9110 images processed\n",
            "1/1 - 3s - loss: 648.2767 - val_loss: 869.7703 - 3s/epoch - 3s/step\n",
            "9120 images processed\n",
            "1/1 - 3s - loss: 843.3043 - val_loss: 850.9491 - 3s/epoch - 3s/step\n",
            "9130 images processed\n",
            "1/1 - 3s - loss: 726.0019 - val_loss: 685.5378 - 3s/epoch - 3s/step\n",
            "9140 images processed\n",
            "1/1 - 3s - loss: 1043.7958 - val_loss: 837.9982 - 3s/epoch - 3s/step\n",
            "9150 images processed\n",
            "1/1 - 3s - loss: 981.5283 - val_loss: 772.6299 - 3s/epoch - 3s/step\n",
            "9160 images processed\n",
            "1/1 - 3s - loss: 817.0387 - val_loss: 885.5096 - 3s/epoch - 3s/step\n",
            "9170 images processed\n",
            "1/1 - 3s - loss: 799.4986 - val_loss: 684.7854 - 3s/epoch - 3s/step\n",
            "9180 images processed\n",
            "1/1 - 3s - loss: 752.4626 - val_loss: 1014.1476 - 3s/epoch - 3s/step\n",
            "9190 images processed\n",
            "1/1 - 3s - loss: 808.1659 - val_loss: 611.9822 - 3s/epoch - 3s/step\n",
            "9200 images processed\n",
            "1/1 - 3s - loss: 700.4041 - val_loss: 759.1521 - 3s/epoch - 3s/step\n"
          ]
        },
        {
          "output_type": "stream",
          "name": "stderr",
          "text": [
            "WARNING:absl:Found untraced functions such as restored_function_body, restored_function_body, restored_function_body, restored_function_body, restored_function_body while saving (showing 5 of 118). These functions will not be directly callable after loading.\n"
          ]
        },
        {
          "output_type": "stream",
          "name": "stdout",
          "text": [
            "INFO:tensorflow:Assets written to: /content/gdrive/MyDrive/project deepmag/saved model 10k epoch2/assets\n"
          ]
        },
        {
          "output_type": "stream",
          "name": "stderr",
          "text": [
            "INFO:tensorflow:Assets written to: /content/gdrive/MyDrive/project deepmag/saved model 10k epoch2/assets\n"
          ]
        },
        {
          "output_type": "stream",
          "name": "stdout",
          "text": [
            "9210 images processed\n",
            "1/1 - 3s - loss: 946.3522 - val_loss: 821.0944 - 3s/epoch - 3s/step\n",
            "9220 images processed\n",
            "1/1 - 3s - loss: 794.8108 - val_loss: 732.7338 - 3s/epoch - 3s/step\n",
            "9230 images processed\n",
            "1/1 - 3s - loss: 793.9473 - val_loss: 936.2821 - 3s/epoch - 3s/step\n",
            "9240 images processed\n",
            "1/1 - 3s - loss: 917.4720 - val_loss: 646.1557 - 3s/epoch - 3s/step\n",
            "9250 images processed\n",
            "1/1 - 3s - loss: 818.2446 - val_loss: 890.8904 - 3s/epoch - 3s/step\n",
            "9260 images processed\n",
            "1/1 - 3s - loss: 911.2135 - val_loss: 744.1740 - 3s/epoch - 3s/step\n",
            "9270 images processed\n",
            "1/1 - 3s - loss: 1128.5939 - val_loss: 747.1129 - 3s/epoch - 3s/step\n",
            "9280 images processed\n",
            "1/1 - 3s - loss: 786.0802 - val_loss: 786.9272 - 3s/epoch - 3s/step\n",
            "9290 images processed\n",
            "1/1 - 3s - loss: 711.2850 - val_loss: 988.0529 - 3s/epoch - 3s/step\n",
            "9300 images processed\n",
            "1/1 - 3s - loss: 1158.3132 - val_loss: 786.4463 - 3s/epoch - 3s/step\n"
          ]
        },
        {
          "output_type": "stream",
          "name": "stderr",
          "text": [
            "WARNING:absl:Found untraced functions such as restored_function_body, restored_function_body, restored_function_body, restored_function_body, restored_function_body while saving (showing 5 of 118). These functions will not be directly callable after loading.\n"
          ]
        },
        {
          "output_type": "stream",
          "name": "stdout",
          "text": [
            "INFO:tensorflow:Assets written to: /content/gdrive/MyDrive/project deepmag/saved model 10k epoch2/assets\n"
          ]
        },
        {
          "output_type": "stream",
          "name": "stderr",
          "text": [
            "INFO:tensorflow:Assets written to: /content/gdrive/MyDrive/project deepmag/saved model 10k epoch2/assets\n"
          ]
        },
        {
          "output_type": "stream",
          "name": "stdout",
          "text": [
            "9310 images processed\n",
            "1/1 - 3s - loss: 708.6781 - val_loss: 795.7389 - 3s/epoch - 3s/step\n",
            "9320 images processed\n",
            "1/1 - 3s - loss: 709.8797 - val_loss: 960.4295 - 3s/epoch - 3s/step\n",
            "9330 images processed\n",
            "1/1 - 3s - loss: 856.3071 - val_loss: 740.5886 - 3s/epoch - 3s/step\n",
            "9340 images processed\n",
            "1/1 - 3s - loss: 788.8282 - val_loss: 761.6843 - 3s/epoch - 3s/step\n",
            "9350 images processed\n",
            "1/1 - 3s - loss: 868.9090 - val_loss: 1015.6981 - 3s/epoch - 3s/step\n",
            "9360 images processed\n",
            "1/1 - 3s - loss: 846.4991 - val_loss: 715.2128 - 3s/epoch - 3s/step\n",
            "9370 images processed\n",
            "1/1 - 3s - loss: 773.2899 - val_loss: 814.6307 - 3s/epoch - 3s/step\n",
            "9380 images processed\n",
            "1/1 - 3s - loss: 1019.7220 - val_loss: 772.9080 - 3s/epoch - 3s/step\n",
            "9390 images processed\n",
            "1/1 - 3s - loss: 875.0599 - val_loss: 734.0812 - 3s/epoch - 3s/step\n",
            "9400 images processed\n",
            "1/1 - 3s - loss: 726.9095 - val_loss: 924.2325 - 3s/epoch - 3s/step\n"
          ]
        },
        {
          "output_type": "stream",
          "name": "stderr",
          "text": [
            "WARNING:absl:Found untraced functions such as restored_function_body, restored_function_body, restored_function_body, restored_function_body, restored_function_body while saving (showing 5 of 118). These functions will not be directly callable after loading.\n"
          ]
        },
        {
          "output_type": "stream",
          "name": "stdout",
          "text": [
            "INFO:tensorflow:Assets written to: /content/gdrive/MyDrive/project deepmag/saved model 10k epoch2/assets\n"
          ]
        },
        {
          "output_type": "stream",
          "name": "stderr",
          "text": [
            "INFO:tensorflow:Assets written to: /content/gdrive/MyDrive/project deepmag/saved model 10k epoch2/assets\n"
          ]
        },
        {
          "output_type": "stream",
          "name": "stdout",
          "text": [
            "9410 images processed\n",
            "1/1 - 3s - loss: 998.4688 - val_loss: 783.5891 - 3s/epoch - 3s/step\n",
            "9420 images processed\n",
            "1/1 - 3s - loss: 1067.3855 - val_loss: 795.5074 - 3s/epoch - 3s/step\n",
            "9430 images processed\n",
            "1/1 - 3s - loss: 800.5612 - val_loss: 710.0605 - 3s/epoch - 3s/step\n",
            "9440 images processed\n",
            "1/1 - 3s - loss: 850.1219 - val_loss: 904.9011 - 3s/epoch - 3s/step\n",
            "9450 images processed\n",
            "1/1 - 3s - loss: 1012.0065 - val_loss: 903.1388 - 3s/epoch - 3s/step\n",
            "9460 images processed\n",
            "1/1 - 3s - loss: 925.5169 - val_loss: 774.6505 - 3s/epoch - 3s/step\n",
            "9470 images processed\n",
            "1/1 - 3s - loss: 877.3043 - val_loss: 752.0635 - 3s/epoch - 3s/step\n",
            "9480 images processed\n",
            "1/1 - 3s - loss: 910.3424 - val_loss: 970.5184 - 3s/epoch - 3s/step\n",
            "9490 images processed\n",
            "1/1 - 3s - loss: 780.8678 - val_loss: 1007.7332 - 3s/epoch - 3s/step\n",
            "9500 images processed\n",
            "1/1 - 3s - loss: 998.6795 - val_loss: 1102.9274 - 3s/epoch - 3s/step\n"
          ]
        },
        {
          "output_type": "stream",
          "name": "stderr",
          "text": [
            "WARNING:absl:Found untraced functions such as restored_function_body, restored_function_body, restored_function_body, restored_function_body, restored_function_body while saving (showing 5 of 118). These functions will not be directly callable after loading.\n"
          ]
        },
        {
          "output_type": "stream",
          "name": "stdout",
          "text": [
            "INFO:tensorflow:Assets written to: /content/gdrive/MyDrive/project deepmag/saved model 10k epoch2/assets\n"
          ]
        },
        {
          "output_type": "stream",
          "name": "stderr",
          "text": [
            "INFO:tensorflow:Assets written to: /content/gdrive/MyDrive/project deepmag/saved model 10k epoch2/assets\n"
          ]
        },
        {
          "output_type": "stream",
          "name": "stdout",
          "text": [
            "9510 images processed\n",
            "1/1 - 3s - loss: 851.0892 - val_loss: 831.0741 - 3s/epoch - 3s/step\n",
            "9520 images processed\n",
            "1/1 - 3s - loss: 926.4603 - val_loss: 880.5158 - 3s/epoch - 3s/step\n",
            "9530 images processed\n",
            "1/1 - 3s - loss: 1017.7033 - val_loss: 665.0904 - 3s/epoch - 3s/step\n",
            "9540 images processed\n",
            "1/1 - 3s - loss: 746.0867 - val_loss: 952.1534 - 3s/epoch - 3s/step\n",
            "9550 images processed\n",
            "1/1 - 3s - loss: 750.8079 - val_loss: 795.0875 - 3s/epoch - 3s/step\n",
            "9560 images processed\n",
            "1/1 - 3s - loss: 852.2186 - val_loss: 649.6588 - 3s/epoch - 3s/step\n",
            "9570 images processed\n",
            "1/1 - 3s - loss: 928.0408 - val_loss: 794.2804 - 3s/epoch - 3s/step\n",
            "9580 images processed\n",
            "1/1 - 3s - loss: 710.5310 - val_loss: 888.2391 - 3s/epoch - 3s/step\n",
            "9590 images processed\n",
            "1/1 - 3s - loss: 944.7381 - val_loss: 855.3022 - 3s/epoch - 3s/step\n",
            "9600 images processed\n",
            "1/1 - 3s - loss: 695.0750 - val_loss: 641.6221 - 3s/epoch - 3s/step\n"
          ]
        },
        {
          "output_type": "stream",
          "name": "stderr",
          "text": [
            "WARNING:absl:Found untraced functions such as restored_function_body, restored_function_body, restored_function_body, restored_function_body, restored_function_body while saving (showing 5 of 118). These functions will not be directly callable after loading.\n"
          ]
        },
        {
          "output_type": "stream",
          "name": "stdout",
          "text": [
            "INFO:tensorflow:Assets written to: /content/gdrive/MyDrive/project deepmag/saved model 10k epoch2/assets\n"
          ]
        },
        {
          "output_type": "stream",
          "name": "stderr",
          "text": [
            "INFO:tensorflow:Assets written to: /content/gdrive/MyDrive/project deepmag/saved model 10k epoch2/assets\n"
          ]
        },
        {
          "output_type": "stream",
          "name": "stdout",
          "text": [
            "9610 images processed\n",
            "1/1 - 3s - loss: 871.3444 - val_loss: 642.0863 - 3s/epoch - 3s/step\n",
            "9620 images processed\n",
            "1/1 - 3s - loss: 847.7406 - val_loss: 716.8913 - 3s/epoch - 3s/step\n",
            "9630 images processed\n",
            "1/1 - 3s - loss: 702.7294 - val_loss: 814.6948 - 3s/epoch - 3s/step\n",
            "9640 images processed\n",
            "1/1 - 3s - loss: 748.2278 - val_loss: 725.1855 - 3s/epoch - 3s/step\n",
            "9650 images processed\n",
            "1/1 - 3s - loss: 822.9977 - val_loss: 733.9432 - 3s/epoch - 3s/step\n",
            "9660 images processed\n",
            "1/1 - 3s - loss: 634.9988 - val_loss: 757.9449 - 3s/epoch - 3s/step\n",
            "9670 images processed\n",
            "1/1 - 3s - loss: 938.4023 - val_loss: 772.0084 - 3s/epoch - 3s/step\n",
            "9680 images processed\n",
            "1/1 - 3s - loss: 771.9443 - val_loss: 606.2883 - 3s/epoch - 3s/step\n",
            "9690 images processed\n",
            "1/1 - 3s - loss: 690.5703 - val_loss: 664.0336 - 3s/epoch - 3s/step\n",
            "9700 images processed\n",
            "1/1 - 3s - loss: 837.7611 - val_loss: 747.3363 - 3s/epoch - 3s/step\n"
          ]
        },
        {
          "output_type": "stream",
          "name": "stderr",
          "text": [
            "WARNING:absl:Found untraced functions such as restored_function_body, restored_function_body, restored_function_body, restored_function_body, restored_function_body while saving (showing 5 of 118). These functions will not be directly callable after loading.\n"
          ]
        },
        {
          "output_type": "stream",
          "name": "stdout",
          "text": [
            "INFO:tensorflow:Assets written to: /content/gdrive/MyDrive/project deepmag/saved model 10k epoch2/assets\n"
          ]
        },
        {
          "output_type": "stream",
          "name": "stderr",
          "text": [
            "INFO:tensorflow:Assets written to: /content/gdrive/MyDrive/project deepmag/saved model 10k epoch2/assets\n"
          ]
        },
        {
          "output_type": "stream",
          "name": "stdout",
          "text": [
            "9710 images processed\n",
            "1/1 - 3s - loss: 722.2083 - val_loss: 784.9571 - 3s/epoch - 3s/step\n",
            "9720 images processed\n",
            "1/1 - 3s - loss: 782.1948 - val_loss: 909.6268 - 3s/epoch - 3s/step\n",
            "9730 images processed\n",
            "1/1 - 3s - loss: 939.8244 - val_loss: 697.2499 - 3s/epoch - 3s/step\n",
            "9740 images processed\n",
            "1/1 - 3s - loss: 783.7370 - val_loss: 903.1235 - 3s/epoch - 3s/step\n",
            "9750 images processed\n",
            "1/1 - 3s - loss: 1043.2737 - val_loss: 682.6141 - 3s/epoch - 3s/step\n",
            "9760 images processed\n",
            "1/1 - 3s - loss: 888.7720 - val_loss: 735.2549 - 3s/epoch - 3s/step\n",
            "9770 images processed\n",
            "1/1 - 3s - loss: 819.6115 - val_loss: 663.7894 - 3s/epoch - 3s/step\n",
            "9780 images processed\n",
            "1/1 - 3s - loss: 802.7158 - val_loss: 746.6433 - 3s/epoch - 3s/step\n",
            "9790 images processed\n",
            "1/1 - 3s - loss: 699.4801 - val_loss: 755.0270 - 3s/epoch - 3s/step\n",
            "9800 images processed\n",
            "1/1 - 3s - loss: 788.1635 - val_loss: 837.9056 - 3s/epoch - 3s/step\n"
          ]
        },
        {
          "output_type": "stream",
          "name": "stderr",
          "text": [
            "WARNING:absl:Found untraced functions such as restored_function_body, restored_function_body, restored_function_body, restored_function_body, restored_function_body while saving (showing 5 of 118). These functions will not be directly callable after loading.\n"
          ]
        },
        {
          "output_type": "stream",
          "name": "stdout",
          "text": [
            "INFO:tensorflow:Assets written to: /content/gdrive/MyDrive/project deepmag/saved model 10k epoch2/assets\n"
          ]
        },
        {
          "output_type": "stream",
          "name": "stderr",
          "text": [
            "INFO:tensorflow:Assets written to: /content/gdrive/MyDrive/project deepmag/saved model 10k epoch2/assets\n"
          ]
        },
        {
          "output_type": "stream",
          "name": "stdout",
          "text": [
            "9810 images processed\n",
            "1/1 - 3s - loss: 991.1801 - val_loss: 917.5886 - 3s/epoch - 3s/step\n",
            "9820 images processed\n",
            "1/1 - 3s - loss: 715.4210 - val_loss: 714.3055 - 3s/epoch - 3s/step\n",
            "9830 images processed\n",
            "1/1 - 3s - loss: 832.3339 - val_loss: 674.6417 - 3s/epoch - 3s/step\n",
            "9840 images processed\n",
            "1/1 - 3s - loss: 873.8086 - val_loss: 948.3693 - 3s/epoch - 3s/step\n",
            "9850 images processed\n",
            "1/1 - 3s - loss: 761.7483 - val_loss: 745.7152 - 3s/epoch - 3s/step\n",
            "9860 images processed\n",
            "1/1 - 3s - loss: 935.2316 - val_loss: 774.9136 - 3s/epoch - 3s/step\n",
            "9870 images processed\n",
            "1/1 - 3s - loss: 943.0757 - val_loss: 769.6578 - 3s/epoch - 3s/step\n",
            "9880 images processed\n",
            "1/1 - 3s - loss: 1075.9436 - val_loss: 784.2943 - 3s/epoch - 3s/step\n",
            "9890 images processed\n",
            "1/1 - 3s - loss: 919.2269 - val_loss: 822.7858 - 3s/epoch - 3s/step\n",
            "9900 images processed\n",
            "1/1 - 3s - loss: 815.2650 - val_loss: 816.2750 - 3s/epoch - 3s/step\n"
          ]
        },
        {
          "output_type": "stream",
          "name": "stderr",
          "text": [
            "WARNING:absl:Found untraced functions such as restored_function_body, restored_function_body, restored_function_body, restored_function_body, restored_function_body while saving (showing 5 of 118). These functions will not be directly callable after loading.\n"
          ]
        },
        {
          "output_type": "stream",
          "name": "stdout",
          "text": [
            "INFO:tensorflow:Assets written to: /content/gdrive/MyDrive/project deepmag/saved model 10k epoch2/assets\n"
          ]
        },
        {
          "output_type": "stream",
          "name": "stderr",
          "text": [
            "INFO:tensorflow:Assets written to: /content/gdrive/MyDrive/project deepmag/saved model 10k epoch2/assets\n"
          ]
        },
        {
          "output_type": "stream",
          "name": "stdout",
          "text": [
            "9910 images processed\n",
            "1/1 - 3s - loss: 930.1639 - val_loss: 759.8265 - 3s/epoch - 3s/step\n",
            "9920 images processed\n",
            "1/1 - 3s - loss: 813.7997 - val_loss: 907.5522 - 3s/epoch - 3s/step\n",
            "9930 images processed\n",
            "1/1 - 3s - loss: 876.5565 - val_loss: 975.9142 - 3s/epoch - 3s/step\n",
            "9940 images processed\n",
            "1/1 - 3s - loss: 703.4850 - val_loss: 742.4993 - 3s/epoch - 3s/step\n",
            "9950 images processed\n",
            "1/1 - 3s - loss: 820.1434 - val_loss: 937.5692 - 3s/epoch - 3s/step\n",
            "9960 images processed\n",
            "1/1 - 3s - loss: 678.5617 - val_loss: 770.7531 - 3s/epoch - 3s/step\n",
            "9970 images processed\n",
            "1/1 - 3s - loss: 664.1614 - val_loss: 738.7281 - 3s/epoch - 3s/step\n",
            "9980 images processed\n",
            "1/1 - 3s - loss: 849.8876 - val_loss: 998.6653 - 3s/epoch - 3s/step\n",
            "9990 images processed\n",
            "1/1 - 3s - loss: 899.9100 - val_loss: 735.9904 - 3s/epoch - 3s/step\n",
            "10000 images processed\n"
          ]
        },
        {
          "output_type": "stream",
          "name": "stderr",
          "text": [
            "WARNING:absl:Found untraced functions such as restored_function_body, restored_function_body, restored_function_body, restored_function_body, restored_function_body while saving (showing 5 of 118). These functions will not be directly callable after loading.\n"
          ]
        },
        {
          "output_type": "stream",
          "name": "stdout",
          "text": [
            "INFO:tensorflow:Assets written to: /content/gdrive/MyDrive/project deepmag/saved model 10k epoch2/assets\n"
          ]
        },
        {
          "output_type": "stream",
          "name": "stderr",
          "text": [
            "INFO:tensorflow:Assets written to: /content/gdrive/MyDrive/project deepmag/saved model 10k epoch2/assets\n"
          ]
        },
        {
          "output_type": "stream",
          "name": "stdout",
          "text": [
            "training done on entire images in the given folder \n"
          ]
        }
      ],
      "source": [
        "custom_train_loop(1000)"
      ]
    },
    {
      "cell_type": "code",
      "source": [
        ""
      ],
      "metadata": {
        "id": "GG7XAljL4nYP"
      },
      "execution_count": null,
      "outputs": []
    }
  ],
  "metadata": {
    "colab": {
      "name": "Model_training_deepmag.ipynb",
      "provenance": [],
      "collapsed_sections": []
    },
    "kernelspec": {
      "display_name": "Python 3",
      "name": "python3"
    },
    "language_info": {
      "name": "python"
    }
  },
  "nbformat": 4,
  "nbformat_minor": 0
}