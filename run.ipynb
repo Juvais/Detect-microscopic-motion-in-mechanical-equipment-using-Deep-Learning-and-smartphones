{
  "nbformat": 4,
  "nbformat_minor": 0,
  "metadata": {
    "colab": {
      "name": "run.ipynb",
      "provenance": [],
      "collapsed_sections": []
    },
    "kernelspec": {
      "name": "python3",
      "display_name": "Python 3"
    },
    "language_info": {
      "name": "python"
    }
  },
  "cells": [
    {
      "cell_type": "code",
      "execution_count": null,
      "metadata": {
        "id": "W1P5DcEj5IMA"
      },
      "outputs": [],
      "source": [
        "import cv2\n",
        "import matplotlib.image as mpimg\n",
        "from tensorflow.keras import models, layers\n",
        "from tensorflow.keras.models import Model, load_model\n",
        "from tensorflow.keras.layers import BatchNormalization, Activation, Flatten\n",
        "from tensorflow.keras.optimizers import Adam,RMSprop,SGD\n",
        "import tensorflow.keras.backend as k\n",
        "import os\n",
        "import tensorflow.keras as keras\n",
        "import tensorflow as tf\n",
        "from tensorflow.keras.layers import Input, Add, Dense, Activation, ZeroPadding2D, BatchNormalization, Flatten, Conv2D, Conv3D,UpSampling2D,ReLU,Dropout\n",
        "import json\n",
        "import matplotlib.image as mpimg\n",
        "from tqdm.notebook import tqdm\n",
        "import pickle\n",
        "import pandas as pd\n",
        "import numpy as np\n",
        "import matplotlib.pyplot as plt\n",
        "from tensorflow.keras.layers import Layer"
      ]
    },
    {
      "cell_type": "code",
      "source": [
        "from google.colab import drive\n",
        "drive.mount('/content/gdrive')"
      ],
      "metadata": {
        "colab": {
          "base_uri": "https://localhost:8080/"
        },
        "id": "G2gTqQmz5Rgu",
        "outputId": "3387ef4f-584a-407d-abeb-782bea2026eb"
      },
      "execution_count": null,
      "outputs": [
        {
          "output_type": "stream",
          "name": "stdout",
          "text": [
            "Mounted at /content/gdrive\n"
          ]
        }
      ]
    },
    {
      "cell_type": "code",
      "source": [
        "model = load_model('/content/gdrive/MyDrive/project deepmag/saved model 60k/')"
      ],
      "metadata": {
        "id": "UQvPNY-T5cEA"
      },
      "execution_count": null,
      "outputs": []
    },
    {
      "cell_type": "code",
      "source": [
        "def generate_frames(path):\n",
        "  '''\n",
        "  takes in a file path of video and generates frames from it and returns a list of frames\n",
        "  '''\n",
        "  images =[]\n",
        "  cap = cv2.VideoCapture(path)\n",
        "  currentFrame = 0\n",
        "  # ret = True\n",
        "  while(True):\n",
        "    ret, frame = cap.read()\n",
        "    if ret==False:\n",
        "      break\n",
        "    frame =np.array(frame,dtype=np.uint8)\n",
        "    frame = cv2.resize(frame,(384,384))\n",
        "    im_rgb = cv2.cvtColor(frame, cv2.COLOR_BGR2RGB)\n",
        "    \n",
        "    images.append(im_rgb)\n",
        "  cap.release()\n",
        "  cv2.destroyAllWindows()\n",
        "  return images\n"
      ],
      "metadata": {
        "id": "n0pWGlUQ5nNY"
      },
      "execution_count": null,
      "outputs": []
    },
    {
      "cell_type": "code",
      "source": [
        "path ='/content/gdrive/MyDrive/video.mp4'\n",
        "frames = generate_frames(path)"
      ],
      "metadata": {
        "id": "IephzxI97NFf"
      },
      "execution_count": null,
      "outputs": []
    },
    {
      "cell_type": "code",
      "source": [
        "def magnified_frames(frames,mf):\n",
        "  '''\n",
        "  takes in a list of frames and amplify the motion using the model and returns a list of magnified images\n",
        "  '''\n",
        "  mag_frames=[]\n",
        "  mf = tf.Variable([[[mf]]])\n",
        "  mf = tf.expand_dims(mf,axis=0)\n",
        "  for i in range(len(frames)-1):\n",
        "    im1= tf.expand_dims(frames[i],axis=0)\n",
        "    im2 = tf.expand_dims(frames[i+1],axis=0)\n",
        "    out = model.predict([im1,im2,mf])\n",
        "    mag_frames.append(out)\n",
        "  return mag_frames\n"
      ],
      "metadata": {
        "id": "RLEnMTfc8CCo"
      },
      "execution_count": null,
      "outputs": []
    },
    {
      "cell_type": "code",
      "source": [
        "amp_images = magnified_frames(frames,5)"
      ],
      "metadata": {
        "id": "iUzJVSz09--w"
      },
      "execution_count": null,
      "outputs": []
    },
    {
      "cell_type": "code",
      "source": [
        "out = cv2.VideoWriter('/content/gdrive/MyDrive/video_output.mp4',cv2.VideoWriter_fourcc(*'DIVX'), 30, (384,384))\n",
        " \n",
        "for i in range(len(amp_images)):\n",
        "    image = tf.squeeze(amp_images[i])\n",
        "    image = np.array(image,dtype=np.uint8)\n",
        "    image = cv2.cvtColor(image, cv2.COLOR_BGR2RGB)\n",
        "    out.write(image)\n",
        "out.release()"
      ],
      "metadata": {
        "id": "QI5xyzqCEj8g"
      },
      "execution_count": null,
      "outputs": []
    },
    {
      "cell_type": "code",
      "source": [
        ""
      ],
      "metadata": {
        "id": "BoBvl_Up68CT"
      },
      "execution_count": null,
      "outputs": []
    }
  ]
}